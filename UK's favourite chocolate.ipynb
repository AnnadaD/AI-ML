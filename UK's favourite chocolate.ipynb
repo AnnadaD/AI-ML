#Import libraries
import pandas as pd
import matplotlib.pyplot as plt
import seaborn as sns

#Loading the dataset
df=pf.read_csv('https://www.kaggle.com/yamqwe/2018-w13-what-is-the-uk-s-favorite-chocolate-bare.csv')
df.info()
