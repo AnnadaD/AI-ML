{
  "nbformat": 4,
  "nbformat_minor": 0,
  "metadata": {
    "colab": {
      "provenance": [],
      "collapsed_sections": [],
      "authorship_tag": "ABX9TyPdu904O1uLyf7vE5LhEgMy",
      "include_colab_link": true
    },
    "kernelspec": {
      "name": "python3",
      "display_name": "Python 3"
    },
    "language_info": {
      "name": "python"
    }
  },
  "cells": [
    {
      "cell_type": "markdown",
      "metadata": {
        "id": "view-in-github",
        "colab_type": "text"
      },
      "source": [
        "<a href=\"https://colab.research.google.com/github/JanhaviGadre/AI-ML/blob/branch1/car_purchase.ipynb\" target=\"_parent\"><img src=\"https://colab.research.google.com/assets/colab-badge.svg\" alt=\"Open In Colab\"/></a>"
      ]
    },
    {
      "cell_type": "code",
      "execution_count": 1,
      "metadata": {
        "id": "qipnNDfX79cc"
      },
      "outputs": [],
      "source": [
        "import warnings\n",
        "warnings.filterwarnings('ignore')\n",
        "\n",
        "import pandas as pd\n",
        "import numpy as np\n",
        "import matplotlib.pyplot as plt\n",
        "import seaborn as sns\n",
        "\n",
        "from sklearn.preprocessing import OneHotEncoder, StandardScaler\n",
        "from sklearn.model_selection import train_test_split\n",
        "from sklearn.impute import SimpleImputer\n",
        "from sklearn.compose import ColumnTransformer\n",
        "from sklearn.decomposition import TruncatedSVD\n",
        "from sklearn.pipeline import Pipeline\n",
        "\n",
        "from sklearn.ensemble import RandomForestClassifier, AdaBoostClassifier, GradientBoostingClassifier\n",
        "from sklearn.linear_model import LogisticRegression\n",
        "from sklearn.neighbors import KNeighborsClassifier\n",
        "\n",
        "from sklearn.metrics import RocCurveDisplay, roc_curve, auc, classification_report, confusion_matrix"
      ]
    },
    {
      "cell_type": "code",
      "source": [
        "project_data = pd.read_csv(\"/content/car_data.csv\")"
      ],
      "metadata": {
        "id": "OANsVDvd8gJW"
      },
      "execution_count": 4,
      "outputs": []
    },
    {
      "cell_type": "code",
      "source": [
        "project_data.head()"
      ],
      "metadata": {
        "colab": {
          "base_uri": "https://localhost:8080/",
          "height": 206
        },
        "id": "Jd1CxhXl9OQ2",
        "outputId": "c8b6ca7b-4ead-4b4b-8d28-4007612a050b"
      },
      "execution_count": 5,
      "outputs": [
        {
          "output_type": "execute_result",
          "data": {
            "text/plain": [
              "   User ID Gender  Age  AnnualSalary  Purchased\n",
              "0      385   Male   35         20000          0\n",
              "1      681   Male   40         43500          0\n",
              "2      353   Male   49         74000          0\n",
              "3      895   Male   40        107500          1\n",
              "4      661   Male   25         79000          0"
            ],
            "text/html": [
              "\n",
              "  <div id=\"df-1d15c378-917b-4164-b4ec-a90e7bc991e8\">\n",
              "    <div class=\"colab-df-container\">\n",
              "      <div>\n",
              "<style scoped>\n",
              "    .dataframe tbody tr th:only-of-type {\n",
              "        vertical-align: middle;\n",
              "    }\n",
              "\n",
              "    .dataframe tbody tr th {\n",
              "        vertical-align: top;\n",
              "    }\n",
              "\n",
              "    .dataframe thead th {\n",
              "        text-align: right;\n",
              "    }\n",
              "</style>\n",
              "<table border=\"1\" class=\"dataframe\">\n",
              "  <thead>\n",
              "    <tr style=\"text-align: right;\">\n",
              "      <th></th>\n",
              "      <th>User ID</th>\n",
              "      <th>Gender</th>\n",
              "      <th>Age</th>\n",
              "      <th>AnnualSalary</th>\n",
              "      <th>Purchased</th>\n",
              "    </tr>\n",
              "  </thead>\n",
              "  <tbody>\n",
              "    <tr>\n",
              "      <th>0</th>\n",
              "      <td>385</td>\n",
              "      <td>Male</td>\n",
              "      <td>35</td>\n",
              "      <td>20000</td>\n",
              "      <td>0</td>\n",
              "    </tr>\n",
              "    <tr>\n",
              "      <th>1</th>\n",
              "      <td>681</td>\n",
              "      <td>Male</td>\n",
              "      <td>40</td>\n",
              "      <td>43500</td>\n",
              "      <td>0</td>\n",
              "    </tr>\n",
              "    <tr>\n",
              "      <th>2</th>\n",
              "      <td>353</td>\n",
              "      <td>Male</td>\n",
              "      <td>49</td>\n",
              "      <td>74000</td>\n",
              "      <td>0</td>\n",
              "    </tr>\n",
              "    <tr>\n",
              "      <th>3</th>\n",
              "      <td>895</td>\n",
              "      <td>Male</td>\n",
              "      <td>40</td>\n",
              "      <td>107500</td>\n",
              "      <td>1</td>\n",
              "    </tr>\n",
              "    <tr>\n",
              "      <th>4</th>\n",
              "      <td>661</td>\n",
              "      <td>Male</td>\n",
              "      <td>25</td>\n",
              "      <td>79000</td>\n",
              "      <td>0</td>\n",
              "    </tr>\n",
              "  </tbody>\n",
              "</table>\n",
              "</div>\n",
              "      <button class=\"colab-df-convert\" onclick=\"convertToInteractive('df-1d15c378-917b-4164-b4ec-a90e7bc991e8')\"\n",
              "              title=\"Convert this dataframe to an interactive table.\"\n",
              "              style=\"display:none;\">\n",
              "        \n",
              "  <svg xmlns=\"http://www.w3.org/2000/svg\" height=\"24px\"viewBox=\"0 0 24 24\"\n",
              "       width=\"24px\">\n",
              "    <path d=\"M0 0h24v24H0V0z\" fill=\"none\"/>\n",
              "    <path d=\"M18.56 5.44l.94 2.06.94-2.06 2.06-.94-2.06-.94-.94-2.06-.94 2.06-2.06.94zm-11 1L8.5 8.5l.94-2.06 2.06-.94-2.06-.94L8.5 2.5l-.94 2.06-2.06.94zm10 10l.94 2.06.94-2.06 2.06-.94-2.06-.94-.94-2.06-.94 2.06-2.06.94z\"/><path d=\"M17.41 7.96l-1.37-1.37c-.4-.4-.92-.59-1.43-.59-.52 0-1.04.2-1.43.59L10.3 9.45l-7.72 7.72c-.78.78-.78 2.05 0 2.83L4 21.41c.39.39.9.59 1.41.59.51 0 1.02-.2 1.41-.59l7.78-7.78 2.81-2.81c.8-.78.8-2.07 0-2.86zM5.41 20L4 18.59l7.72-7.72 1.47 1.35L5.41 20z\"/>\n",
              "  </svg>\n",
              "      </button>\n",
              "      \n",
              "  <style>\n",
              "    .colab-df-container {\n",
              "      display:flex;\n",
              "      flex-wrap:wrap;\n",
              "      gap: 12px;\n",
              "    }\n",
              "\n",
              "    .colab-df-convert {\n",
              "      background-color: #E8F0FE;\n",
              "      border: none;\n",
              "      border-radius: 50%;\n",
              "      cursor: pointer;\n",
              "      display: none;\n",
              "      fill: #1967D2;\n",
              "      height: 32px;\n",
              "      padding: 0 0 0 0;\n",
              "      width: 32px;\n",
              "    }\n",
              "\n",
              "    .colab-df-convert:hover {\n",
              "      background-color: #E2EBFA;\n",
              "      box-shadow: 0px 1px 2px rgba(60, 64, 67, 0.3), 0px 1px 3px 1px rgba(60, 64, 67, 0.15);\n",
              "      fill: #174EA6;\n",
              "    }\n",
              "\n",
              "    [theme=dark] .colab-df-convert {\n",
              "      background-color: #3B4455;\n",
              "      fill: #D2E3FC;\n",
              "    }\n",
              "\n",
              "    [theme=dark] .colab-df-convert:hover {\n",
              "      background-color: #434B5C;\n",
              "      box-shadow: 0px 1px 3px 1px rgba(0, 0, 0, 0.15);\n",
              "      filter: drop-shadow(0px 1px 2px rgba(0, 0, 0, 0.3));\n",
              "      fill: #FFFFFF;\n",
              "    }\n",
              "  </style>\n",
              "\n",
              "      <script>\n",
              "        const buttonEl =\n",
              "          document.querySelector('#df-1d15c378-917b-4164-b4ec-a90e7bc991e8 button.colab-df-convert');\n",
              "        buttonEl.style.display =\n",
              "          google.colab.kernel.accessAllowed ? 'block' : 'none';\n",
              "\n",
              "        async function convertToInteractive(key) {\n",
              "          const element = document.querySelector('#df-1d15c378-917b-4164-b4ec-a90e7bc991e8');\n",
              "          const dataTable =\n",
              "            await google.colab.kernel.invokeFunction('convertToInteractive',\n",
              "                                                     [key], {});\n",
              "          if (!dataTable) return;\n",
              "\n",
              "          const docLinkHtml = 'Like what you see? Visit the ' +\n",
              "            '<a target=\"_blank\" href=https://colab.research.google.com/notebooks/data_table.ipynb>data table notebook</a>'\n",
              "            + ' to learn more about interactive tables.';\n",
              "          element.innerHTML = '';\n",
              "          dataTable['output_type'] = 'display_data';\n",
              "          await google.colab.output.renderOutput(dataTable, element);\n",
              "          const docLink = document.createElement('div');\n",
              "          docLink.innerHTML = docLinkHtml;\n",
              "          element.appendChild(docLink);\n",
              "        }\n",
              "      </script>\n",
              "    </div>\n",
              "  </div>\n",
              "  "
            ]
          },
          "metadata": {},
          "execution_count": 5
        }
      ]
    },
    {
      "cell_type": "code",
      "source": [
        "project_data.tail()"
      ],
      "metadata": {
        "colab": {
          "base_uri": "https://localhost:8080/",
          "height": 206
        },
        "id": "KzfvCkEl9ep_",
        "outputId": "bda46596-6453-443c-8b7e-401fa98b7a63"
      },
      "execution_count": 7,
      "outputs": [
        {
          "output_type": "execute_result",
          "data": {
            "text/plain": [
              "     User ID  Gender  Age  AnnualSalary  Purchased\n",
              "995      863    Male   38         59000          0\n",
              "996      800  Female   47         23500          0\n",
              "997      407  Female   28        138500          1\n",
              "998      299  Female   48        134000          1\n",
              "999      687  Female   44         73500          0"
            ],
            "text/html": [
              "\n",
              "  <div id=\"df-37d43d46-fa91-4955-b98b-4eeb00ac175e\">\n",
              "    <div class=\"colab-df-container\">\n",
              "      <div>\n",
              "<style scoped>\n",
              "    .dataframe tbody tr th:only-of-type {\n",
              "        vertical-align: middle;\n",
              "    }\n",
              "\n",
              "    .dataframe tbody tr th {\n",
              "        vertical-align: top;\n",
              "    }\n",
              "\n",
              "    .dataframe thead th {\n",
              "        text-align: right;\n",
              "    }\n",
              "</style>\n",
              "<table border=\"1\" class=\"dataframe\">\n",
              "  <thead>\n",
              "    <tr style=\"text-align: right;\">\n",
              "      <th></th>\n",
              "      <th>User ID</th>\n",
              "      <th>Gender</th>\n",
              "      <th>Age</th>\n",
              "      <th>AnnualSalary</th>\n",
              "      <th>Purchased</th>\n",
              "    </tr>\n",
              "  </thead>\n",
              "  <tbody>\n",
              "    <tr>\n",
              "      <th>995</th>\n",
              "      <td>863</td>\n",
              "      <td>Male</td>\n",
              "      <td>38</td>\n",
              "      <td>59000</td>\n",
              "      <td>0</td>\n",
              "    </tr>\n",
              "    <tr>\n",
              "      <th>996</th>\n",
              "      <td>800</td>\n",
              "      <td>Female</td>\n",
              "      <td>47</td>\n",
              "      <td>23500</td>\n",
              "      <td>0</td>\n",
              "    </tr>\n",
              "    <tr>\n",
              "      <th>997</th>\n",
              "      <td>407</td>\n",
              "      <td>Female</td>\n",
              "      <td>28</td>\n",
              "      <td>138500</td>\n",
              "      <td>1</td>\n",
              "    </tr>\n",
              "    <tr>\n",
              "      <th>998</th>\n",
              "      <td>299</td>\n",
              "      <td>Female</td>\n",
              "      <td>48</td>\n",
              "      <td>134000</td>\n",
              "      <td>1</td>\n",
              "    </tr>\n",
              "    <tr>\n",
              "      <th>999</th>\n",
              "      <td>687</td>\n",
              "      <td>Female</td>\n",
              "      <td>44</td>\n",
              "      <td>73500</td>\n",
              "      <td>0</td>\n",
              "    </tr>\n",
              "  </tbody>\n",
              "</table>\n",
              "</div>\n",
              "      <button class=\"colab-df-convert\" onclick=\"convertToInteractive('df-37d43d46-fa91-4955-b98b-4eeb00ac175e')\"\n",
              "              title=\"Convert this dataframe to an interactive table.\"\n",
              "              style=\"display:none;\">\n",
              "        \n",
              "  <svg xmlns=\"http://www.w3.org/2000/svg\" height=\"24px\"viewBox=\"0 0 24 24\"\n",
              "       width=\"24px\">\n",
              "    <path d=\"M0 0h24v24H0V0z\" fill=\"none\"/>\n",
              "    <path d=\"M18.56 5.44l.94 2.06.94-2.06 2.06-.94-2.06-.94-.94-2.06-.94 2.06-2.06.94zm-11 1L8.5 8.5l.94-2.06 2.06-.94-2.06-.94L8.5 2.5l-.94 2.06-2.06.94zm10 10l.94 2.06.94-2.06 2.06-.94-2.06-.94-.94-2.06-.94 2.06-2.06.94z\"/><path d=\"M17.41 7.96l-1.37-1.37c-.4-.4-.92-.59-1.43-.59-.52 0-1.04.2-1.43.59L10.3 9.45l-7.72 7.72c-.78.78-.78 2.05 0 2.83L4 21.41c.39.39.9.59 1.41.59.51 0 1.02-.2 1.41-.59l7.78-7.78 2.81-2.81c.8-.78.8-2.07 0-2.86zM5.41 20L4 18.59l7.72-7.72 1.47 1.35L5.41 20z\"/>\n",
              "  </svg>\n",
              "      </button>\n",
              "      \n",
              "  <style>\n",
              "    .colab-df-container {\n",
              "      display:flex;\n",
              "      flex-wrap:wrap;\n",
              "      gap: 12px;\n",
              "    }\n",
              "\n",
              "    .colab-df-convert {\n",
              "      background-color: #E8F0FE;\n",
              "      border: none;\n",
              "      border-radius: 50%;\n",
              "      cursor: pointer;\n",
              "      display: none;\n",
              "      fill: #1967D2;\n",
              "      height: 32px;\n",
              "      padding: 0 0 0 0;\n",
              "      width: 32px;\n",
              "    }\n",
              "\n",
              "    .colab-df-convert:hover {\n",
              "      background-color: #E2EBFA;\n",
              "      box-shadow: 0px 1px 2px rgba(60, 64, 67, 0.3), 0px 1px 3px 1px rgba(60, 64, 67, 0.15);\n",
              "      fill: #174EA6;\n",
              "    }\n",
              "\n",
              "    [theme=dark] .colab-df-convert {\n",
              "      background-color: #3B4455;\n",
              "      fill: #D2E3FC;\n",
              "    }\n",
              "\n",
              "    [theme=dark] .colab-df-convert:hover {\n",
              "      background-color: #434B5C;\n",
              "      box-shadow: 0px 1px 3px 1px rgba(0, 0, 0, 0.15);\n",
              "      filter: drop-shadow(0px 1px 2px rgba(0, 0, 0, 0.3));\n",
              "      fill: #FFFFFF;\n",
              "    }\n",
              "  </style>\n",
              "\n",
              "      <script>\n",
              "        const buttonEl =\n",
              "          document.querySelector('#df-37d43d46-fa91-4955-b98b-4eeb00ac175e button.colab-df-convert');\n",
              "        buttonEl.style.display =\n",
              "          google.colab.kernel.accessAllowed ? 'block' : 'none';\n",
              "\n",
              "        async function convertToInteractive(key) {\n",
              "          const element = document.querySelector('#df-37d43d46-fa91-4955-b98b-4eeb00ac175e');\n",
              "          const dataTable =\n",
              "            await google.colab.kernel.invokeFunction('convertToInteractive',\n",
              "                                                     [key], {});\n",
              "          if (!dataTable) return;\n",
              "\n",
              "          const docLinkHtml = 'Like what you see? Visit the ' +\n",
              "            '<a target=\"_blank\" href=https://colab.research.google.com/notebooks/data_table.ipynb>data table notebook</a>'\n",
              "            + ' to learn more about interactive tables.';\n",
              "          element.innerHTML = '';\n",
              "          dataTable['output_type'] = 'display_data';\n",
              "          await google.colab.output.renderOutput(dataTable, element);\n",
              "          const docLink = document.createElement('div');\n",
              "          docLink.innerHTML = docLinkHtml;\n",
              "          element.appendChild(docLink);\n",
              "        }\n",
              "      </script>\n",
              "    </div>\n",
              "  </div>\n",
              "  "
            ]
          },
          "metadata": {},
          "execution_count": 7
        }
      ]
    },
    {
      "cell_type": "code",
      "source": [
        "project_data.info()"
      ],
      "metadata": {
        "colab": {
          "base_uri": "https://localhost:8080/"
        },
        "id": "ulraj8Hc9WC_",
        "outputId": "6a4b8dd0-a46f-4853-cb4f-7142df23a3ca"
      },
      "execution_count": 6,
      "outputs": [
        {
          "output_type": "stream",
          "name": "stdout",
          "text": [
            "<class 'pandas.core.frame.DataFrame'>\n",
            "RangeIndex: 1000 entries, 0 to 999\n",
            "Data columns (total 5 columns):\n",
            " #   Column        Non-Null Count  Dtype \n",
            "---  ------        --------------  ----- \n",
            " 0   User ID       1000 non-null   int64 \n",
            " 1   Gender        1000 non-null   object\n",
            " 2   Age           1000 non-null   int64 \n",
            " 3   AnnualSalary  1000 non-null   int64 \n",
            " 4   Purchased     1000 non-null   int64 \n",
            "dtypes: int64(4), object(1)\n",
            "memory usage: 39.2+ KB\n"
          ]
        }
      ]
    },
    {
      "cell_type": "code",
      "source": [
        "project_data.describe()"
      ],
      "metadata": {
        "colab": {
          "base_uri": "https://localhost:8080/",
          "height": 300
        },
        "id": "iGkNOiVL9m8X",
        "outputId": "9a523515-fb6f-46e4-c36d-1c54a43107ba"
      },
      "execution_count": 8,
      "outputs": [
        {
          "output_type": "execute_result",
          "data": {
            "text/plain": [
              "           User ID          Age   AnnualSalary    Purchased\n",
              "count  1000.000000  1000.000000    1000.000000  1000.000000\n",
              "mean    500.500000    40.106000   72689.000000     0.402000\n",
              "std     288.819436    10.707073   34488.341867     0.490547\n",
              "min       1.000000    18.000000   15000.000000     0.000000\n",
              "25%     250.750000    32.000000   46375.000000     0.000000\n",
              "50%     500.500000    40.000000   72000.000000     0.000000\n",
              "75%     750.250000    48.000000   90000.000000     1.000000\n",
              "max    1000.000000    63.000000  152500.000000     1.000000"
            ],
            "text/html": [
              "\n",
              "  <div id=\"df-524a9ef1-e207-4147-a435-1b07e227a38a\">\n",
              "    <div class=\"colab-df-container\">\n",
              "      <div>\n",
              "<style scoped>\n",
              "    .dataframe tbody tr th:only-of-type {\n",
              "        vertical-align: middle;\n",
              "    }\n",
              "\n",
              "    .dataframe tbody tr th {\n",
              "        vertical-align: top;\n",
              "    }\n",
              "\n",
              "    .dataframe thead th {\n",
              "        text-align: right;\n",
              "    }\n",
              "</style>\n",
              "<table border=\"1\" class=\"dataframe\">\n",
              "  <thead>\n",
              "    <tr style=\"text-align: right;\">\n",
              "      <th></th>\n",
              "      <th>User ID</th>\n",
              "      <th>Age</th>\n",
              "      <th>AnnualSalary</th>\n",
              "      <th>Purchased</th>\n",
              "    </tr>\n",
              "  </thead>\n",
              "  <tbody>\n",
              "    <tr>\n",
              "      <th>count</th>\n",
              "      <td>1000.000000</td>\n",
              "      <td>1000.000000</td>\n",
              "      <td>1000.000000</td>\n",
              "      <td>1000.000000</td>\n",
              "    </tr>\n",
              "    <tr>\n",
              "      <th>mean</th>\n",
              "      <td>500.500000</td>\n",
              "      <td>40.106000</td>\n",
              "      <td>72689.000000</td>\n",
              "      <td>0.402000</td>\n",
              "    </tr>\n",
              "    <tr>\n",
              "      <th>std</th>\n",
              "      <td>288.819436</td>\n",
              "      <td>10.707073</td>\n",
              "      <td>34488.341867</td>\n",
              "      <td>0.490547</td>\n",
              "    </tr>\n",
              "    <tr>\n",
              "      <th>min</th>\n",
              "      <td>1.000000</td>\n",
              "      <td>18.000000</td>\n",
              "      <td>15000.000000</td>\n",
              "      <td>0.000000</td>\n",
              "    </tr>\n",
              "    <tr>\n",
              "      <th>25%</th>\n",
              "      <td>250.750000</td>\n",
              "      <td>32.000000</td>\n",
              "      <td>46375.000000</td>\n",
              "      <td>0.000000</td>\n",
              "    </tr>\n",
              "    <tr>\n",
              "      <th>50%</th>\n",
              "      <td>500.500000</td>\n",
              "      <td>40.000000</td>\n",
              "      <td>72000.000000</td>\n",
              "      <td>0.000000</td>\n",
              "    </tr>\n",
              "    <tr>\n",
              "      <th>75%</th>\n",
              "      <td>750.250000</td>\n",
              "      <td>48.000000</td>\n",
              "      <td>90000.000000</td>\n",
              "      <td>1.000000</td>\n",
              "    </tr>\n",
              "    <tr>\n",
              "      <th>max</th>\n",
              "      <td>1000.000000</td>\n",
              "      <td>63.000000</td>\n",
              "      <td>152500.000000</td>\n",
              "      <td>1.000000</td>\n",
              "    </tr>\n",
              "  </tbody>\n",
              "</table>\n",
              "</div>\n",
              "      <button class=\"colab-df-convert\" onclick=\"convertToInteractive('df-524a9ef1-e207-4147-a435-1b07e227a38a')\"\n",
              "              title=\"Convert this dataframe to an interactive table.\"\n",
              "              style=\"display:none;\">\n",
              "        \n",
              "  <svg xmlns=\"http://www.w3.org/2000/svg\" height=\"24px\"viewBox=\"0 0 24 24\"\n",
              "       width=\"24px\">\n",
              "    <path d=\"M0 0h24v24H0V0z\" fill=\"none\"/>\n",
              "    <path d=\"M18.56 5.44l.94 2.06.94-2.06 2.06-.94-2.06-.94-.94-2.06-.94 2.06-2.06.94zm-11 1L8.5 8.5l.94-2.06 2.06-.94-2.06-.94L8.5 2.5l-.94 2.06-2.06.94zm10 10l.94 2.06.94-2.06 2.06-.94-2.06-.94-.94-2.06-.94 2.06-2.06.94z\"/><path d=\"M17.41 7.96l-1.37-1.37c-.4-.4-.92-.59-1.43-.59-.52 0-1.04.2-1.43.59L10.3 9.45l-7.72 7.72c-.78.78-.78 2.05 0 2.83L4 21.41c.39.39.9.59 1.41.59.51 0 1.02-.2 1.41-.59l7.78-7.78 2.81-2.81c.8-.78.8-2.07 0-2.86zM5.41 20L4 18.59l7.72-7.72 1.47 1.35L5.41 20z\"/>\n",
              "  </svg>\n",
              "      </button>\n",
              "      \n",
              "  <style>\n",
              "    .colab-df-container {\n",
              "      display:flex;\n",
              "      flex-wrap:wrap;\n",
              "      gap: 12px;\n",
              "    }\n",
              "\n",
              "    .colab-df-convert {\n",
              "      background-color: #E8F0FE;\n",
              "      border: none;\n",
              "      border-radius: 50%;\n",
              "      cursor: pointer;\n",
              "      display: none;\n",
              "      fill: #1967D2;\n",
              "      height: 32px;\n",
              "      padding: 0 0 0 0;\n",
              "      width: 32px;\n",
              "    }\n",
              "\n",
              "    .colab-df-convert:hover {\n",
              "      background-color: #E2EBFA;\n",
              "      box-shadow: 0px 1px 2px rgba(60, 64, 67, 0.3), 0px 1px 3px 1px rgba(60, 64, 67, 0.15);\n",
              "      fill: #174EA6;\n",
              "    }\n",
              "\n",
              "    [theme=dark] .colab-df-convert {\n",
              "      background-color: #3B4455;\n",
              "      fill: #D2E3FC;\n",
              "    }\n",
              "\n",
              "    [theme=dark] .colab-df-convert:hover {\n",
              "      background-color: #434B5C;\n",
              "      box-shadow: 0px 1px 3px 1px rgba(0, 0, 0, 0.15);\n",
              "      filter: drop-shadow(0px 1px 2px rgba(0, 0, 0, 0.3));\n",
              "      fill: #FFFFFF;\n",
              "    }\n",
              "  </style>\n",
              "\n",
              "      <script>\n",
              "        const buttonEl =\n",
              "          document.querySelector('#df-524a9ef1-e207-4147-a435-1b07e227a38a button.colab-df-convert');\n",
              "        buttonEl.style.display =\n",
              "          google.colab.kernel.accessAllowed ? 'block' : 'none';\n",
              "\n",
              "        async function convertToInteractive(key) {\n",
              "          const element = document.querySelector('#df-524a9ef1-e207-4147-a435-1b07e227a38a');\n",
              "          const dataTable =\n",
              "            await google.colab.kernel.invokeFunction('convertToInteractive',\n",
              "                                                     [key], {});\n",
              "          if (!dataTable) return;\n",
              "\n",
              "          const docLinkHtml = 'Like what you see? Visit the ' +\n",
              "            '<a target=\"_blank\" href=https://colab.research.google.com/notebooks/data_table.ipynb>data table notebook</a>'\n",
              "            + ' to learn more about interactive tables.';\n",
              "          element.innerHTML = '';\n",
              "          dataTable['output_type'] = 'display_data';\n",
              "          await google.colab.output.renderOutput(dataTable, element);\n",
              "          const docLink = document.createElement('div');\n",
              "          docLink.innerHTML = docLinkHtml;\n",
              "          element.appendChild(docLink);\n",
              "        }\n",
              "      </script>\n",
              "    </div>\n",
              "  </div>\n",
              "  "
            ]
          },
          "metadata": {},
          "execution_count": 8
        }
      ]
    },
    {
      "cell_type": "code",
      "source": [
        "project_data.isna().sum()"
      ],
      "metadata": {
        "colab": {
          "base_uri": "https://localhost:8080/"
        },
        "id": "lXVR5fVy9u8n",
        "outputId": "eff80974-5f1c-4d36-e053-f6cd03dbc90d"
      },
      "execution_count": 9,
      "outputs": [
        {
          "output_type": "execute_result",
          "data": {
            "text/plain": [
              "User ID         0\n",
              "Gender          0\n",
              "Age             0\n",
              "AnnualSalary    0\n",
              "Purchased       0\n",
              "dtype: int64"
            ]
          },
          "metadata": {},
          "execution_count": 9
        }
      ]
    },
    {
      "cell_type": "code",
      "source": [
        "plt.figure(figsize=(12,8))\n",
        "sns.countplot(x='Purchased',data=project_data)\n",
        "plt.show()"
      ],
      "metadata": {
        "colab": {
          "base_uri": "https://localhost:8080/",
          "height": 497
        },
        "id": "WxBYOAewBn4n",
        "outputId": "19372a41-b86c-4d08-9097-02e674f09779"
      },
      "execution_count": 28,
      "outputs": [
        {
          "output_type": "display_data",
          "data": {
            "text/plain": [
              "<Figure size 864x576 with 1 Axes>"
            ],
            "image/png": "[encoded data removed]"
          },
          "metadata": {
            "needs_background": "light"
          }
        }
      ]
    },
    {
      "cell_type": "code",
      "source": [
        "import plotly.express as px\n",
        "fig = px.scatter(project_data, x='Age', y='AnnualSalary',color='Purchased',symbol='Gender')\n",
        "fig.show()"
      ],
      "metadata": {
        "colab": {
          "base_uri": "https://localhost:8080/",
          "height": 542
        },
        "id": "IoeR9nmYB4k4",
        "outputId": "b5628182-3f5e-448d-d39a-eeecb71c96f7"
      },
      "execution_count": 30,
      "outputs": [
        {
          "output_type": "display_data",
          "data": {
            "text/html": [
              "<html>\n",
              "<head><meta charset=\"utf-8\" /></head>\n",
              "<body>\n",
              "    <div>            <script src=\"https://cdnjs.cloudflare.com/ajax/libs/mathjax/2.7.5/MathJax.js?config=TeX-AMS-MML_SVG\"></script><script type=\"text/javascript\">if (window.MathJax) {MathJax.Hub.Config({SVG: {font: \"STIX-Web\"}});}</script>                <script type=\"text/javascript\">window.PlotlyConfig = {MathJaxConfig: 'local'};</script>\n",
              "        <script src=\"https://cdn.plot.ly/plotly-2.8.3.min.js\"></script>                <div id=\"eafecb39-50e5-4737-a9aa-4a51418db474\" class=\"plotly-graph-div\" style=\"height:525px; width:100%;\"></div>            <script type=\"text/javascript\">                                    window.PLOTLYENV=window.PLOTLYENV || {};                                    if (document.getElementById(\"eafecb39-50e5-4737-a9aa-4a51418db474\")) {                    Plotly.newPlot(                        \"eafecb39-50e5-4737-a9aa-4a51418db474\",                        [{\"hovertemplate\":\"Gender=Male<br>Age=%{x}<br>AnnualSalary=%{y}<br>Purchased=%{marker.color}<extra></extra>\",\"legendgroup\":\"Male\",\"marker\":{\"color\":[0,0,0,1,0,0,0,0,1,0,0,1,1,0,1,1,1,0,0,1,0,1,0,1,1,1,0,1,1,0,0,1,0,0,0,1,0,1,1,1,0,1,0,1,0,0,0,0,0,0,1,1,1,0,1,0,0,1,1,0,0,1,0,0,0,0,1,0,0,1,0,0,0,0,0,1,1,1,0,0,1,1,1,1,0,1,0,1,0,1,1,0,1,0,0,0,0,0,0,0,1,0,0,1,0,1,1,0,1,0,0,0,0,0,1,0,1,1,1,0,1,1,1,0,1,0,0,0,1,0,0,0,0,1,0,0,0,0,0,1,0,1,0,0,1,1,0,1,1,1,1,0,0,1,0,0,0,0,0,0,0,0,0,1,0,0,0,1,0,0,0,0,1,1,1,0,1,0,1,0,1,1,0,1,0,0,0,0,0,0,1,0,1,0,1,0,0,0,0,0,0,1,1,0,1,0,0,0,0,0,1,0,0,0,0,0,0,1,0,0,1,0,0,0,1,0,1,1,0,1,0,1,1,0,1,1,0,0,0,0,1,0,1,0,1,0,0,0,0,0,1,1,1,1,0,0,0,0,1,0,0,0,1,0,0,0,1,0,1,1,0,0,0,1,1,0,0,0,0,0,0,0,0,0,0,0,0,1,0,1,0,0,1,1,1,0,1,1,1,1,0,0,1,1,1,1,0,0,0,0,1,0,0,1,1,0,0,1,1,1,0,1,0,0,0,0,0,0,0,0,0,1,1,0,1,0,0,0,0,0,0,0,0,0,1,0,1,1,0,1,0,1,0,0,0,0,0,1,0,0,0,1,1,0,0,0,0,0,0,0,1,0,1,0,0,1,1,0,0,1,1,1,1,0,0,1,1,1,1,0,0,1,0,1,1,0,0,0,0,0,1,0,0,0,0,0,1,0,1,0,0,0,0,0,0,0,0,0,1,0,1,1,1,0,0,1,0,0,1,1,0,1,0,0,1,1,0,1,1,1,0,0,0,1,0,0,1,0,0,0,0,1,0,0,1,0,1,1,0,0,0,0,1,0,0,0,0,1,0,1,0,1,0,0,1,1,0,0,0,0,1,1,0,0],\"coloraxis\":\"coloraxis\",\"symbol\":\"circle\"},\"mode\":\"markers\",\"name\":\"Male\",\"orientation\":\"v\",\"showlegend\":true,\"x\":[35,40,49,40,25,42,41,42,47,35,35,46,54,24,40,40,45,32,41,42,26,49,37,28,51,48,43,48,49,27,35,43,41,39,20,58,34,49,53,42,30,60,38,45,30,38,26,39,26,36,47,43,61,31,59,35,28,30,36,40,36,49,40,42,27,32,62,38,40,57,22,28,39,25,43,48,37,36,30,36,30,48,31,58,35,41,26,39,52,43,51,24,37,44,51,50,19,43,31,39,47,38,35,52,20,45,62,43,61,21,42,20,36,40,40,36,48,30,57,31,42,49,36,45,42,28,37,20,50,40,30,42,42,43,21,27,35,38,47,58,31,49,45,26,57,56,34,50,49,49,55,40,27,60,31,36,40,46,38,24,42,19,28,57,33,28,43,42,19,50,44,37,39,63,38,38,52,29,38,24,48,46,38,61,43,36,19,38,25,31,60,29,46,26,45,25,29,40,20,25,31,42,48,33,63,29,42,28,21,41,47,38,38,41,26,32,42,61,43,31,46,23,31,35,32,48,46,39,35,44,25,52,40,27,41,47,40,32,40,41,56,35,40,23,56,41,26,20,24,42,49,39,40,50,35,21,36,36,40,20,28,23,48,32,44,37,46,36,54,51,35,25,41,46,44,35,41,22,18,30,40,41,52,29,29,27,24,53,28,59,24,31,60,36,60,20,63,47,55,61,32,43,37,43,42,50,30,33,39,40,37,22,29,38,34,30,29,29,50,49,27,49,38,35,50,45,36,48,26,41,40,39,35,38,47,37,42,36,35,28,27,49,41,36,60,40,33,46,35,60,19,35,29,41,44,30,37,59,41,23,25,39,47,36,38,34,27,38,37,30,38,45,51,41,18,58,59,27,35,37,63,41,47,27,38,50,52,42,60,40,43,39,48,37,60,37,30,30,26,43,59,42,39,31,35,38,61,26,39,36,45,41,21,25,26,37,19,36,54,41,56,43,49,35,39,40,41,36,46,31,40,45,36,42,52,36,43,49,37,45,47,39,37,55,36,39,48,33,39,38,34,48,38,43,57,36,50,50,40,25,36,42,51,49,46,27,39,47,26,32,41,52,41,19,29,63,22,32,39,42,48,33,25,38],\"xaxis\":\"x\",\"y\":[20000,43500,74000,107500,79000,64000,52000,80000,23000,75000,53000,79000,25500,58000,107000,97500,26000,67500,79500,73000,15000,86000,75000,123000,35500,21500,59500,26500,88000,58000,22000,129000,45000,42000,86500,41500,32500,28000,151500,88500,44500,144500,51000,75500,87000,60500,80000,42000,16000,56500,29500,109500,43500,58000,143000,61000,59000,107000,99000,72500,23500,34500,76500,44500,89000,77500,145500,78500,75000,72500,89500,32000,62500,33000,81500,74000,79000,144000,89000,39500,135000,90000,136500,61500,59000,87000,81000,120500,67500,74500,23000,19000,70000,81500,143500,66500,19000,80500,90500,62500,25000,54500,88000,90500,49000,32000,132500,63500,43500,50500,60500,77500,80500,78500,146500,76500,33000,149500,60000,74000,104000,90500,92500,66500,98500,59500,61500,20500,36500,77500,44500,73500,65000,73500,72000,81500,116500,81500,43000,75500,88500,89000,56500,81500,61500,133000,44500,29500,81500,28000,71500,79500,82500,34000,18500,73500,43500,59000,24500,64500,79500,25000,91500,134500,19500,89000,66500,136500,85000,75500,74500,74000,106000,104500,71500,63500,88500,43000,80500,21500,24500,27500,73500,35500,55500,59500,70000,61000,87000,76000,42000,60500,88000,30000,151500,85500,43000,65000,71500,80000,18000,149000,34500,43000,36500,33500,46500,90500,88000,66500,89500,57500,71000,61500,32000,75500,80500,103500,77500,50500,23000,19500,16500,72000,120000,44500,131500,146500,79000,130500,24500,24500,123500,17500,108500,80500,57000,18000,59000,76500,74500,39000,72500,63000,40500,73500,91500,26500,84000,65000,91500,96000,81500,29500,27000,75500,51500,21500,135500,86000,21500,82500,41000,18000,54500,55000,28000,62500,70000,92500,58000,22000,48500,33500,89500,108000,60500,18000,82000,62500,61000,59000,76500,75000,61000,90000,23000,72000,79000,145500,55000,81500,83000,125000,42000,74000,44500,118500,39000,84500,19500,55500,144000,105500,108500,89500,49000,31000,71000,54500,100500,73500,90500,93500,112000,17000,80500,124500,25500,34500,31500,42500,53500,55000,45500,56500,40500,81500,88500,58500,57000,101500,91000,61000,105000,77000,53500,89500,50000,89500,33500,142500,73500,52000,131500,57000,101500,117000,73000,102000,76000,113500,80000,72000,54500,76500,52000,135500,58500,20000,59500,122000,24500,74500,41500,115000,87500,76500,53000,81500,145500,79000,35500,79000,52000,144000,62500,16500,44500,126500,44500,72500,20000,88000,77500,87500,30500,124500,62500,55500,65500,134000,141000,119500,76500,53500,15000,80000,23500,67500,130000,53500,72500,66000,38000,56500,146500,34500,127500,28500,67500,63500,87500,20500,86000,72000,53500,60500,73500,53500,60000,150500,119500,75000,77000,71000,58500,76500,23500,108500,47000,106500,60000,73500,91500,118000,66500,75500,145500,22000,60500,35500,34500,152500,54500,62500,35500,19500,72500,71000,43000,106500,75500,59500,74000,109500,107500,90500,78000,90000,33000,54000,76500,65000,80500,20000,52500,34000,80500,100000,62500,150000,52000,83500,148000,85500,81000,59500,60500,54000,33000,121500,56500,59000],\"yaxis\":\"y\",\"type\":\"scatter\"},{\"hovertemplate\":\"Gender=Female<br>Age=%{x}<br>AnnualSalary=%{y}<br>Purchased=%{marker.color}<extra></extra>\",\"legendgroup\":\"Female\",\"marker\":{\"color\":[1,1,0,0,0,1,1,1,0,1,0,0,1,1,0,1,0,0,1,0,1,0,0,0,1,0,1,1,0,1,1,0,1,1,0,0,0,1,0,1,0,1,1,0,1,1,1,0,0,0,0,1,1,0,0,1,1,0,0,0,1,0,1,0,0,0,1,1,0,1,0,1,0,0,0,0,0,0,0,1,1,0,0,0,1,0,0,1,1,1,0,1,1,1,1,1,0,0,0,0,0,0,1,1,1,0,0,0,1,0,0,0,1,0,0,0,0,1,1,0,0,0,1,1,1,0,0,1,0,0,1,1,1,0,0,0,1,0,0,0,0,1,0,1,1,0,1,0,0,0,1,1,0,0,0,1,0,0,1,1,0,1,1,0,1,0,1,0,1,1,0,1,0,0,1,1,1,0,0,1,0,1,0,1,0,1,1,0,0,0,0,0,0,1,1,1,0,1,1,0,0,1,1,0,0,0,0,1,0,1,1,0,1,0,1,0,0,0,0,0,1,0,1,0,0,1,0,1,0,0,1,1,0,1,1,0,1,1,0,0,0,0,0,1,1,0,1,1,0,0,1,0,0,0,0,1,1,0,1,0,0,1,1,1,0,0,0,1,0,1,1,0,1,1,1,0,1,0,0,0,0,1,0,1,1,0,0,0,0,1,0,1,1,0,0,0,0,1,0,0,1,1,0,0,1,0,1,0,1,0,0,0,0,0,0,0,0,0,0,0,0,0,1,1,0,0,0,0,0,0,0,0,0,0,1,0,1,0,0,1,0,1,0,1,1,1,1,0,0,0,0,1,0,0,1,1,0,0,0,0,0,1,0,0,0,1,0,0,1,0,1,1,0,1,1,0,1,0,0,1,0,1,1,1,1,0,1,0,0,0,1,0,1,0,1,1,0,0,0,1,0,1,1,0,0,1,0,1,0,1,0,0,1,0,0,0,1,0,0,0,0,0,1,1,1,1,1,1,0,1,0,0,0,0,1,0,1,1,0,1,1,0,0,0,0,0,1,0,1,1,0,0,1,1,1,1,1,1,1,0,0,0,1,0,1,0,0,0,1,1,0,1,0,0,0,0,1,0,1,0,0,1,0,1,1,1,1,1,0,0,1,0,0,0,1,1,0,0,0,0,0,1,1,0,0,0,0,0,0,0,0,1,0,1,1,0],\"coloraxis\":\"coloraxis\",\"symbol\":\"diamond\"},\"mode\":\"markers\",\"name\":\"Female\",\"orientation\":\"v\",\"showlegend\":true,\"x\":[47,46,30,32,27,42,33,39,39,49,41,31,48,38,37,44,47,38,39,21,59,39,43,49,59,40,38,55,23,49,49,49,35,50,38,35,45,51,41,50,28,57,50,27,59,51,49,32,27,36,29,61,33,26,28,50,51,18,41,29,48,38,33,33,40,20,37,47,36,59,36,48,38,41,40,39,39,41,32,51,63,36,22,46,63,33,44,53,55,60,38,56,56,61,45,55,26,53,44,59,42,41,51,54,49,20,27,23,58,34,19,47,55,40,28,51,24,40,62,27,31,32,58,57,51,27,21,57,21,40,42,49,58,29,42,38,34,42,35,26,42,39,28,44,32,34,45,47,43,20,38,49,35,28,27,38,20,25,51,27,39,37,47,20,36,60,45,41,59,61,34,48,37,42,46,52,51,26,32,48,41,61,62,48,34,50,58,34,42,38,50,48,29,40,41,45,43,55,54,38,36,45,54,23,39,36,40,52,30,43,53,46,56,26,62,36,31,37,41,28,50,34,53,38,21,43,29,47,41,29,37,36,26,53,47,49,37,52,19,38,40,19,22,59,46,41,58,57,39,34,61,38,42,30,28,53,60,33,56,38,43,38,52,27,46,32,39,56,30,61,48,36,38,51,59,28,50,27,23,47,35,57,31,59,43,42,35,39,32,40,20,49,58,44,43,19,30,53,44,47,32,62,25,42,58,44,48,45,54,21,27,37,26,22,27,44,43,37,52,25,29,37,60,54,45,49,27,38,18,18,28,26,36,35,54,40,46,24,46,48,51,53,40,41,45,60,47,44,37,36,59,57,30,41,43,53,34,42,19,26,36,42,35,42,42,54,35,42,51,39,32,39,38,55,47,43,50,52,28,36,37,60,40,55,60,33,28,29,33,53,48,33,50,35,53,55,46,25,29,50,36,48,50,27,24,42,44,56,31,49,38,24,46,41,40,22,40,55,28,27,41,37,38,53,58,43,40,37,45,45,23,38,33,27,31,60,48,42,40,60,54,41,37,39,23,31,48,42,33,47,23,35,40,55,52,47,58,57,49,42,35,22,61,33,32,21,41,24,51,52,29,59,29,50,36,28,49,34,47,35,41,56,35,49,48,35,52,49,36,38,48,40,42,24,48,58,36,35,24,39,31,60,46,39,28,45,31,27,30,24,54,53,47,28,48,44],\"xaxis\":\"x\",\"y\":[33500,132500,84500,72500,57000,108000,149000,134000,51500,39000,61500,117500,29000,147500,62000,113500,41500,55000,114500,37500,39500,66500,80500,76500,48500,60500,99500,130000,56500,43500,36000,98500,147000,109500,72500,71000,40500,37500,63000,115500,55500,106500,53500,17000,76000,136500,120500,35500,18500,50000,38500,103500,151500,17000,84000,88000,21500,44000,30000,83000,108500,112000,136500,41000,72000,23000,137000,144000,24500,88000,75000,31500,81500,114500,74500,56500,73000,71000,16500,121500,110500,78500,55000,96000,48500,28000,134500,82000,125000,35500,59500,106500,36500,109500,110500,40500,118000,46500,65500,83000,52500,80000,133500,144500,132500,82000,16500,64500,95000,42500,87500,75500,105500,64500,55000,45500,29500,76500,90500,31000,34000,90500,38000,28500,37500,36500,83500,110500,24500,60000,136500,36500,127500,88500,53000,80000,150500,79000,44500,43000,81500,75000,44000,139000,119500,29500,131000,47000,54500,27500,149500,141000,77000,32500,73500,113000,82000,33500,98500,137000,113500,78000,51000,36000,98500,43500,140500,72000,96500,49500,43000,51500,51500,31500,41000,143500,89500,15000,69500,114500,52500,47500,44500,30000,70500,52500,34500,72000,73500,79500,44000,48500,56500,139500,143500,45000,133000,92500,104000,81500,72500,92500,148500,28000,81500,51500,62500,147500,116000,81500,91500,135500,84500,80000,31500,66500,89000,55500,57500,59500,36000,25000,34000,65000,68000,112000,45500,107000,72000,85500,146000,148500,72000,139500,50000,84500,127500,90000,26000,63500,82500,69500,63000,106500,46500,51000,47000,105500,59000,114500,25500,58500,75000,29500,37000,39500,46000,69000,126500,50000,74500,94500,138000,96000,22000,117000,56500,131500,79000,40500,131000,63000,138500,146000,29000,85500,40500,58000,66000,83500,73500,26000,80500,24500,109500,70000,50000,51500,86000,135500,22500,135500,132500,74500,76500,21000,62000,38500,39000,97500,150000,78500,90500,61500,23000,74500,96000,55500,105500,16000,81500,80000,35000,27000,53500,74500,71500,71000,135500,28500,86500,57000,124500,108000,81500,24500,44500,52500,86000,68000,85000,52000,73500,25000,35500,82500,114500,89000,74000,52500,134000,22500,80500,115500,82500,89500,42500,82500,76500,45500,42000,33000,84500,60000,91500,90500,61500,72500,45500,84000,54000,80000,60000,75500,73500,26000,23000,61500,32500,65500,135000,128500,62500,23500,113000,62500,146500,114000,58500,126000,80000,30500,142000,27500,28500,118500,97500,83000,51000,115500,119000,113000,142500,72000,143000,109500,82000,56500,60500,20000,58500,47500,37500,85500,49500,77500,62500,104000,68000,97500,74500,55000,32000,52500,59500,17500,95500,116500,18500,119500,76500,64500,79500,22500,27500,144500,80500,93000,72500,22000,48000,50000,87500,54000,118000,84500,35000,90000,72500,108000,83500,67500,33000,61000,82000,63500,145500,73500,118500,49000,28500,47000,148500,140500,41500,30000,123500,122000,31500,64500,26500,69500,97500,60000,117000,83500,72000,27000,140500,21000,28000,102500,47000,49500,61500,59000,139500,52500,141500,65000,73500,145500,57000,34500,138000,97000,38000,30500,26500,34500,50500,75000,81500,83500,133500,101000,48500,44000,32000,71000,15000,77500,23500,79000,87000,77500,71000,84000,48500,67500,136500,104000,23500,138500,134000,73500],\"yaxis\":\"y\",\"type\":\"scatter\"}],                        {\"template\":{\"data\":{\"bar\":[{\"error_x\":{\"color\":\"#2a3f5f\"},\"error_y\":{\"color\":\"#2a3f5f\"},\"marker\":{\"line\":{\"color\":\"#E5ECF6\",\"width\":0.5},\"pattern\":{\"fillmode\":\"overlay\",\"size\":10,\"solidity\":0.2}},\"type\":\"bar\"}],\"barpolar\":[{\"marker\":{\"line\":{\"color\":\"#E5ECF6\",\"width\":0.5},\"pattern\":{\"fillmode\":\"overlay\",\"size\":10,\"solidity\":0.2}},\"type\":\"barpolar\"}],\"carpet\":[{\"aaxis\":{\"endlinecolor\":\"#2a3f5f\",\"gridcolor\":\"white\",\"linecolor\":\"white\",\"minorgridcolor\":\"white\",\"startlinecolor\":\"#2a3f5f\"},\"baxis\":{\"endlinecolor\":\"#2a3f5f\",\"gridcolor\":\"white\",\"linecolor\":\"white\",\"minorgridcolor\":\"white\",\"startlinecolor\":\"#2a3f5f\"},\"type\":\"carpet\"}],\"choropleth\":[{\"colorbar\":{\"outlinewidth\":0,\"ticks\":\"\"},\"type\":\"choropleth\"}],\"contour\":[{\"colorbar\":{\"outlinewidth\":0,\"ticks\":\"\"},\"colorscale\":[[0.0,\"#0d0887\"],[0.1111111111111111,\"#46039f\"],[0.2222222222222222,\"#7201a8\"],[0.3333333333333333,\"#9c179e\"],[0.4444444444444444,\"#bd3786\"],[0.5555555555555556,\"#d8576b\"],[0.6666666666666666,\"#ed7953\"],[0.7777777777777778,\"#fb9f3a\"],[0.8888888888888888,\"#fdca26\"],[1.0,\"#f0f921\"]],\"type\":\"contour\"}],\"contourcarpet\":[{\"colorbar\":{\"outlinewidth\":0,\"ticks\":\"\"},\"type\":\"contourcarpet\"}],\"heatmap\":[{\"colorbar\":{\"outlinewidth\":0,\"ticks\":\"\"},\"colorscale\":[[0.0,\"#0d0887\"],[0.1111111111111111,\"#46039f\"],[0.2222222222222222,\"#7201a8\"],[0.3333333333333333,\"#9c179e\"],[0.4444444444444444,\"#bd3786\"],[0.5555555555555556,\"#d8576b\"],[0.6666666666666666,\"#ed7953\"],[0.7777777777777778,\"#fb9f3a\"],[0.8888888888888888,\"#fdca26\"],[1.0,\"#f0f921\"]],\"type\":\"heatmap\"}],\"heatmapgl\":[{\"colorbar\":{\"outlinewidth\":0,\"ticks\":\"\"},\"colorscale\":[[0.0,\"#0d0887\"],[0.1111111111111111,\"#46039f\"],[0.2222222222222222,\"#7201a8\"],[0.3333333333333333,\"#9c179e\"],[0.4444444444444444,\"#bd3786\"],[0.5555555555555556,\"#d8576b\"],[0.6666666666666666,\"#ed7953\"],[0.7777777777777778,\"#fb9f3a\"],[0.8888888888888888,\"#fdca26\"],[1.0,\"#f0f921\"]],\"type\":\"heatmapgl\"}],\"histogram\":[{\"marker\":{\"pattern\":{\"fillmode\":\"overlay\",\"size\":10,\"solidity\":0.2}},\"type\":\"histogram\"}],\"histogram2d\":[{\"colorbar\":{\"outlinewidth\":0,\"ticks\":\"\"},\"colorscale\":[[0.0,\"#0d0887\"],[0.1111111111111111,\"#46039f\"],[0.2222222222222222,\"#7201a8\"],[0.3333333333333333,\"#9c179e\"],[0.4444444444444444,\"#bd3786\"],[0.5555555555555556,\"#d8576b\"],[0.6666666666666666,\"#ed7953\"],[0.7777777777777778,\"#fb9f3a\"],[0.8888888888888888,\"#fdca26\"],[1.0,\"#f0f921\"]],\"type\":\"histogram2d\"}],\"histogram2dcontour\":[{\"colorbar\":{\"outlinewidth\":0,\"ticks\":\"\"},\"colorscale\":[[0.0,\"#0d0887\"],[0.1111111111111111,\"#46039f\"],[0.2222222222222222,\"#7201a8\"],[0.3333333333333333,\"#9c179e\"],[0.4444444444444444,\"#bd3786\"],[0.5555555555555556,\"#d8576b\"],[0.6666666666666666,\"#ed7953\"],[0.7777777777777778,\"#fb9f3a\"],[0.8888888888888888,\"#fdca26\"],[1.0,\"#f0f921\"]],\"type\":\"histogram2dcontour\"}],\"mesh3d\":[{\"colorbar\":{\"outlinewidth\":0,\"ticks\":\"\"},\"type\":\"mesh3d\"}],\"parcoords\":[{\"line\":{\"colorbar\":{\"outlinewidth\":0,\"ticks\":\"\"}},\"type\":\"parcoords\"}],\"pie\":[{\"automargin\":true,\"type\":\"pie\"}],\"scatter\":[{\"marker\":{\"colorbar\":{\"outlinewidth\":0,\"ticks\":\"\"}},\"type\":\"scatter\"}],\"scatter3d\":[{\"line\":{\"colorbar\":{\"outlinewidth\":0,\"ticks\":\"\"}},\"marker\":{\"colorbar\":{\"outlinewidth\":0,\"ticks\":\"\"}},\"type\":\"scatter3d\"}],\"scattercarpet\":[{\"marker\":{\"colorbar\":{\"outlinewidth\":0,\"ticks\":\"\"}},\"type\":\"scattercarpet\"}],\"scattergeo\":[{\"marker\":{\"colorbar\":{\"outlinewidth\":0,\"ticks\":\"\"}},\"type\":\"scattergeo\"}],\"scattergl\":[{\"marker\":{\"colorbar\":{\"outlinewidth\":0,\"ticks\":\"\"}},\"type\":\"scattergl\"}],\"scattermapbox\":[{\"marker\":{\"colorbar\":{\"outlinewidth\":0,\"ticks\":\"\"}},\"type\":\"scattermapbox\"}],\"scatterpolar\":[{\"marker\":{\"colorbar\":{\"outlinewidth\":0,\"ticks\":\"\"}},\"type\":\"scatterpolar\"}],\"scatterpolargl\":[{\"marker\":{\"colorbar\":{\"outlinewidth\":0,\"ticks\":\"\"}},\"type\":\"scatterpolargl\"}],\"scatterternary\":[{\"marker\":{\"colorbar\":{\"outlinewidth\":0,\"ticks\":\"\"}},\"type\":\"scatterternary\"}],\"surface\":[{\"colorbar\":{\"outlinewidth\":0,\"ticks\":\"\"},\"colorscale\":[[0.0,\"#0d0887\"],[0.1111111111111111,\"#46039f\"],[0.2222222222222222,\"#7201a8\"],[0.3333333333333333,\"#9c179e\"],[0.4444444444444444,\"#bd3786\"],[0.5555555555555556,\"#d8576b\"],[0.6666666666666666,\"#ed7953\"],[0.7777777777777778,\"#fb9f3a\"],[0.8888888888888888,\"#fdca26\"],[1.0,\"#f0f921\"]],\"type\":\"surface\"}],\"table\":[{\"cells\":{\"fill\":{\"color\":\"#EBF0F8\"},\"line\":{\"color\":\"white\"}},\"header\":{\"fill\":{\"color\":\"#C8D4E3\"},\"line\":{\"color\":\"white\"}},\"type\":\"table\"}]},\"layout\":{\"annotationdefaults\":{\"arrowcolor\":\"#2a3f5f\",\"arrowhead\":0,\"arrowwidth\":1},\"autotypenumbers\":\"strict\",\"coloraxis\":{\"colorbar\":{\"outlinewidth\":0,\"ticks\":\"\"}},\"colorscale\":{\"diverging\":[[0,\"#8e0152\"],[0.1,\"#c51b7d\"],[0.2,\"#de77ae\"],[0.3,\"#f1b6da\"],[0.4,\"#fde0ef\"],[0.5,\"#f7f7f7\"],[0.6,\"#e6f5d0\"],[0.7,\"#b8e186\"],[0.8,\"#7fbc41\"],[0.9,\"#4d9221\"],[1,\"#276419\"]],\"sequential\":[[0.0,\"#0d0887\"],[0.1111111111111111,\"#46039f\"],[0.2222222222222222,\"#7201a8\"],[0.3333333333333333,\"#9c179e\"],[0.4444444444444444,\"#bd3786\"],[0.5555555555555556,\"#d8576b\"],[0.6666666666666666,\"#ed7953\"],[0.7777777777777778,\"#fb9f3a\"],[0.8888888888888888,\"#fdca26\"],[1.0,\"#f0f921\"]],\"sequentialminus\":[[0.0,\"#0d0887\"],[0.1111111111111111,\"#46039f\"],[0.2222222222222222,\"#7201a8\"],[0.3333333333333333,\"#9c179e\"],[0.4444444444444444,\"#bd3786\"],[0.5555555555555556,\"#d8576b\"],[0.6666666666666666,\"#ed7953\"],[0.7777777777777778,\"#fb9f3a\"],[0.8888888888888888,\"#fdca26\"],[1.0,\"#f0f921\"]]},\"colorway\":[\"#636efa\",\"#EF553B\",\"#00cc96\",\"#ab63fa\",\"#FFA15A\",\"#19d3f3\",\"#FF6692\",\"#B6E880\",\"#FF97FF\",\"#FECB52\"],\"font\":{\"color\":\"#2a3f5f\"},\"geo\":{\"bgcolor\":\"white\",\"lakecolor\":\"white\",\"landcolor\":\"#E5ECF6\",\"showlakes\":true,\"showland\":true,\"subunitcolor\":\"white\"},\"hoverlabel\":{\"align\":\"left\"},\"hovermode\":\"closest\",\"mapbox\":{\"style\":\"light\"},\"paper_bgcolor\":\"white\",\"plot_bgcolor\":\"#E5ECF6\",\"polar\":{\"angularaxis\":{\"gridcolor\":\"white\",\"linecolor\":\"white\",\"ticks\":\"\"},\"bgcolor\":\"#E5ECF6\",\"radialaxis\":{\"gridcolor\":\"white\",\"linecolor\":\"white\",\"ticks\":\"\"}},\"scene\":{\"xaxis\":{\"backgroundcolor\":\"#E5ECF6\",\"gridcolor\":\"white\",\"gridwidth\":2,\"linecolor\":\"white\",\"showbackground\":true,\"ticks\":\"\",\"zerolinecolor\":\"white\"},\"yaxis\":{\"backgroundcolor\":\"#E5ECF6\",\"gridcolor\":\"white\",\"gridwidth\":2,\"linecolor\":\"white\",\"showbackground\":true,\"ticks\":\"\",\"zerolinecolor\":\"white\"},\"zaxis\":{\"backgroundcolor\":\"#E5ECF6\",\"gridcolor\":\"white\",\"gridwidth\":2,\"linecolor\":\"white\",\"showbackground\":true,\"ticks\":\"\",\"zerolinecolor\":\"white\"}},\"shapedefaults\":{\"line\":{\"color\":\"#2a3f5f\"}},\"ternary\":{\"aaxis\":{\"gridcolor\":\"white\",\"linecolor\":\"white\",\"ticks\":\"\"},\"baxis\":{\"gridcolor\":\"white\",\"linecolor\":\"white\",\"ticks\":\"\"},\"bgcolor\":\"#E5ECF6\",\"caxis\":{\"gridcolor\":\"white\",\"linecolor\":\"white\",\"ticks\":\"\"}},\"title\":{\"x\":0.05},\"xaxis\":{\"automargin\":true,\"gridcolor\":\"white\",\"linecolor\":\"white\",\"ticks\":\"\",\"title\":{\"standoff\":15},\"zerolinecolor\":\"white\",\"zerolinewidth\":2},\"yaxis\":{\"automargin\":true,\"gridcolor\":\"white\",\"linecolor\":\"white\",\"ticks\":\"\",\"title\":{\"standoff\":15},\"zerolinecolor\":\"white\",\"zerolinewidth\":2}}},\"xaxis\":{\"anchor\":\"y\",\"domain\":[0.0,1.0],\"title\":{\"text\":\"Age\"}},\"yaxis\":{\"anchor\":\"x\",\"domain\":[0.0,1.0],\"title\":{\"text\":\"AnnualSalary\"}},\"coloraxis\":{\"colorbar\":{\"title\":{\"text\":\"Purchased\"}},\"colorscale\":[[0.0,\"#0d0887\"],[0.1111111111111111,\"#46039f\"],[0.2222222222222222,\"#7201a8\"],[0.3333333333333333,\"#9c179e\"],[0.4444444444444444,\"#bd3786\"],[0.5555555555555556,\"#d8576b\"],[0.6666666666666666,\"#ed7953\"],[0.7777777777777778,\"#fb9f3a\"],[0.8888888888888888,\"#fdca26\"],[1.0,\"#f0f921\"]]},\"legend\":{\"title\":{\"text\":\"Gender\"},\"tracegroupgap\":0},\"margin\":{\"t\":60}},                        {\"responsive\": true}                    ).then(function(){\n",
              "                            \n",
              "var gd = document.getElementById('eafecb39-50e5-4737-a9aa-4a51418db474');\n",
              "var x = new MutationObserver(function (mutations, observer) {{\n",
              "        var display = window.getComputedStyle(gd).display;\n",
              "        if (!display || display === 'none') {{\n",
              "            console.log([gd, 'removed!']);\n",
              "            Plotly.purge(gd);\n",
              "            observer.disconnect();\n",
              "        }}\n",
              "}});\n",
              "\n",
              "// Listen for the removal of the full notebook cells\n",
              "var notebookContainer = gd.closest('#notebook-container');\n",
              "if (notebookContainer) {{\n",
              "    x.observe(notebookContainer, {childList: true});\n",
              "}}\n",
              "\n",
              "// Listen for the clearing of the current output cell\n",
              "var outputEl = gd.closest('.output');\n",
              "if (outputEl) {{\n",
              "    x.observe(outputEl, {childList: true});\n",
              "}}\n",
              "\n",
              "                        })                };                            </script>        </div>\n",
              "</body>\n",
              "</html>"
            ]
          },
          "metadata": {}
        }
      ]
    },
    {
      "cell_type": "code",
      "source": [
        "fig = px.density_contour(project_data, x='Age', y='AnnualSalary')\n",
        "fig.show()"
      ],
      "metadata": {
        "colab": {
          "base_uri": "https://localhost:8080/",
          "height": 542
        },
        "id": "u975tUm5Cdjn",
        "outputId": "2c784d30-30e9-43be-ef5f-fb01cdf3548e"
      },
      "execution_count": 31,
      "outputs": [
        {
          "output_type": "display_data",
          "data": {
            "text/html": [
              "<html>\n",
              "<head><meta charset=\"utf-8\" /></head>\n",
              "<body>\n",
              "    <div>            <script src=\"https://cdnjs.cloudflare.com/ajax/libs/mathjax/2.7.5/MathJax.js?config=TeX-AMS-MML_SVG\"></script><script type=\"text/javascript\">if (window.MathJax) {MathJax.Hub.Config({SVG: {font: \"STIX-Web\"}});}</script>                <script type=\"text/javascript\">window.PlotlyConfig = {MathJaxConfig: 'local'};</script>\n",
              "        <script src=\"https://cdn.plot.ly/plotly-2.8.3.min.js\"></script>                <div id=\"deffd836-f848-470b-aee5-29ba6ceeab13\" class=\"plotly-graph-div\" style=\"height:525px; width:100%;\"></div>            <script type=\"text/javascript\">                                    window.PLOTLYENV=window.PLOTLYENV || {};                                    if (document.getElementById(\"deffd836-f848-470b-aee5-29ba6ceeab13\")) {                    Plotly.newPlot(                        \"deffd836-f848-470b-aee5-29ba6ceeab13\",                        [{\"contours\":{\"coloring\":\"none\"},\"hovertemplate\":\"Age=%{x}<br>AnnualSalary=%{y}<br>count=%{z}<extra></extra>\",\"legendgroup\":\"\",\"line\":{\"color\":\"#636efa\"},\"name\":\"\",\"showlegend\":false,\"x\":[35,40,49,40,25,47,46,42,30,41,42,47,32,27,42,33,35,35,46,39,39,49,54,41,31,24,40,40,48,38,45,32,37,41,44,47,38,39,42,26,21,59,39,43,49,37,49,28,59,40,38,51,55,23,49,49,48,49,43,35,50,48,49,38,27,35,35,43,41,39,45,51,20,41,58,50,28,34,57,50,49,53,42,27,59,51,49,32,30,27,36,60,38,29,61,33,45,26,30,38,28,50,26,39,26,51,36,47,18,43,61,41,31,29,48,38,59,33,35,28,30,36,40,33,36,49,40,20,37,47,36,40,59,36,42,27,32,48,38,62,38,40,57,41,22,40,39,39,41,28,39,25,43,48,37,36,32,51,30,36,30,63,48,36,31,58,22,46,63,33,35,41,26,44,39,52,53,43,51,55,60,38,24,56,56,37,61,44,45,55,51,50,26,19,43,31,39,53,44,47,59,42,38,41,35,52,51,20,45,62,54,49,20,43,27,23,58,61,21,34,19,42,47,20,36,40,40,55,40,28,36,51,48,24,30,40,62,57,31,27,42,49,36,45,31,42,32,28,37,58,57,51,27,20,50,21,57,40,21,30,42,40,42,43,42,49,21,58,29,27,42,38,34,42,35,35,26,38,42,39,47,28,44,58,32,34,45,31,49,45,26,57,56,47,43,34,20,38,50,49,49,35,28,27,38,49,55,40,20,25,27,51,27,39,37,60,31,47,36,20,40,36,60,45,46,38,41,24,42,19,28,57,33,28,59,43,42,19,61,50,34,44,48,37,37,39,42,63,46,38,52,51,26,32,38,48,41,52,61,62,48,34,29,38,50,58,34,24,42,38,48,46,50,48,29,38,61,43,40,41,36,45,19,43,38,55,54,25,31,60,38,36,45,54,29,23,46,26,39,45,36,40,25,52,30,29,40,20,25,43,53,46,56,26,31,62,42,48,36,31,37,41,28,33,63,50,34,29,42,28,21,53,38,21,41,43,47,38,29,38,47,41,29,37,41,36,26,32,26,42,61,53,43,47,31,49,37,52,46,23,31,35,19,32,38,40,19,22,59,46,48,46,41,58,39,57,35,39,44,34,61,38,42,30,28,53,25,60,52,40,33,27,56,38,41,43,47,38,52,27,40,46,32,32,40,39,56,30,41,61,56,35,48,36,38,51,59,28,40,23,56,41,26,20,24,50,42,27,23,47,49,35,57,39,31,59,40,43,42,35,39,50,32,35,40,20,21,49,36,36,58,44,40,20,28,23,48,43,19,30,32,53,44,37,46,36,54,44,51,47,32,62,25,42,35,25,41,58,46,44,35,44,48,45,41,54,22,18,30,40,41,52,21,27,29,29,27,24,37,26,22,53,27,28,44,43,59,24,31,37,52,60,36,25,29,37,60,60,54,20,45,49,63,47,27,38,55,18,18,61,28,26,36,32,35,54,40,43,46,24,37,46,43,48,42,50,30,33,39,40,51,53,37,40,22,41,45,29,60,38,47,34,30,44,29,29,37,50,36,59,57,49,27,49,30,38,41,43,53,35,50,45,34,42,19,36,48,26,26,36,42,41,40,35,39,35,42,42,38,54,47,37,42,36,35,35,28,27,49,42,41,51,36,60,40,39,33,46,35,60,32,19,39,38,55,35,29,47,41,43,44,30,50,52,28,36,37,59,41,23,25,37,39,60,40,47,36,38,55,60,34,27,33,28,29,33,53,38,37,30,38,48,33,50,45,51,35,41,53,55,46,25,18,58,29,50,36,59,48,50,27,27,24,42,35,44,37,63,41,47,27,56,38,31,50,52,49,38,24,42,46,41,60,40,22,40,40,55,28,27,43,41,37,39,48,37,60,37,38,30,53,58,43,40,37,30,45,45,23,38,26,33,27,43,59,42,31,39,31,35,60,38,61,26,39,36,45,48,41,21,42,25,26,37,40,60,19,54,36,41,37,54,41,56,43,49,39,23,31,35,48,39,42,33,47,40,23,41,35,40,36,46,31,55,52,40,45,36,42,52,36,47,43,58,57,49,49,37,42,45,47,39,35,22,37,61,33,55,36,39,48,32,33,21,39,41,24,51,38,52,34,48,29,59,29,50,38,36,28,43,57,36,49,34,47,35,50,41,50,56,35,40,49,25,36,48,42,51,49,46,27,39,35,47,52,49,36,26,38,48,32,40,42,41,24,52,48,41,19,29,58,36,63,35,22,24,39,31,60,32,46,39,39,42,28,45,48,31,33,27,25,30,24,54,53,38,47,28,48,44],\"xaxis\":\"x\",\"xbingroup\":\"x\",\"y\":[20000,43500,74000,107500,79000,33500,132500,64000,84500,52000,80000,23000,72500,57000,108000,149000,75000,53000,79000,134000,51500,39000,25500,61500,117500,58000,107000,97500,29000,147500,26000,67500,62000,79500,113500,41500,55000,114500,73000,15000,37500,39500,66500,80500,86000,75000,76500,123000,48500,60500,99500,35500,130000,56500,43500,36000,21500,98500,59500,147000,109500,26500,88000,72500,58000,22000,71000,129000,45000,42000,40500,37500,86500,63000,41500,115500,55500,32500,106500,53500,28000,151500,88500,17000,76000,136500,120500,35500,44500,18500,50000,144500,51000,38500,103500,151500,75500,17000,87000,60500,84000,88000,80000,42000,16000,21500,56500,29500,44000,109500,43500,30000,58000,83000,108500,112000,143000,136500,61000,59000,107000,99000,72500,41000,23500,34500,72000,23000,137000,144000,24500,76500,88000,75000,44500,89000,77500,31500,81500,145500,78500,75000,72500,114500,89500,74500,56500,73000,71000,32000,62500,33000,81500,74000,79000,144000,16500,121500,89000,39500,135000,110500,90000,78500,136500,61500,55000,96000,48500,28000,59000,87000,81000,134500,120500,67500,82000,74500,23000,125000,35500,59500,19000,106500,36500,70000,109500,81500,110500,40500,143500,66500,118000,19000,80500,90500,62500,46500,65500,25000,83000,52500,54500,80000,88000,90500,133500,49000,32000,132500,144500,132500,82000,63500,16500,64500,95000,43500,50500,42500,87500,60500,75500,77500,80500,78500,146500,105500,64500,55000,76500,45500,33000,29500,149500,76500,90500,60000,74000,31000,104000,90500,92500,66500,34000,98500,90500,59500,61500,38000,28500,37500,36500,20500,36500,83500,110500,77500,24500,44500,73500,60000,65000,73500,136500,36500,72000,127500,88500,81500,53000,80000,150500,79000,44500,116500,43000,81500,81500,75000,43000,44000,139000,75500,119500,29500,131000,88500,89000,56500,81500,61500,133000,47000,54500,44500,27500,149500,29500,141000,81500,77000,32500,73500,113000,28000,71500,79500,82000,33500,82500,98500,137000,113500,78000,34000,18500,51000,73500,36000,43500,98500,43500,140500,59000,24500,72000,64500,79500,25000,91500,134500,19500,89000,96500,66500,136500,85000,49500,75500,43000,74500,51500,74000,51500,106000,31500,104500,41000,71500,143500,89500,15000,69500,63500,114500,52500,88500,47500,44500,30000,70500,43000,80500,52500,34500,72000,21500,73500,79500,24500,27500,44000,48500,56500,73500,35500,55500,139500,143500,59500,45000,70000,133000,61000,92500,104000,87000,76000,42000,81500,72500,92500,148500,60500,28000,88000,30000,81500,151500,51500,62500,85500,147500,116000,43000,65000,71500,80000,81500,91500,135500,84500,80000,18000,31500,149000,34500,66500,89000,55500,57500,59500,43000,36500,36000,25000,33500,46500,90500,88000,34000,65000,68000,66500,112000,89500,57500,45500,71000,107000,72000,85500,146000,61500,148500,32000,75500,72000,80500,103500,139500,77500,50000,50500,84500,127500,90000,23000,19500,16500,72000,26000,120000,63500,82500,69500,63000,106500,46500,44500,131500,51000,47000,146500,105500,79000,59000,130500,114500,25500,58500,75000,29500,37000,39500,24500,46000,24500,123500,69000,17500,126500,50000,108500,74500,80500,94500,138000,96000,57000,22000,18000,117000,59000,56500,131500,79000,76500,40500,74500,39000,131000,63000,138500,146000,29000,85500,72500,63000,40500,73500,91500,26500,84000,40500,65000,58000,66000,83500,91500,73500,26000,96000,80500,24500,81500,109500,70000,50000,51500,29500,86000,27000,135500,22500,75500,135500,51500,21500,132500,74500,135500,86000,21500,82500,41000,76500,21000,62000,18000,38500,54500,55000,28000,62500,70000,39000,92500,97500,150000,78500,90500,61500,58000,22000,48500,23000,33500,89500,108000,74500,96000,55500,60500,105500,18000,82000,62500,61000,59000,76500,16000,81500,75000,61000,90000,23000,80000,35000,27000,72000,53500,79000,74500,71500,145500,55000,81500,71000,135500,83000,125000,28500,86500,57000,42000,124500,108000,74000,81500,24500,44500,118500,44500,52500,39000,86000,68000,84500,85000,52000,73500,19500,25000,35500,82500,55500,114500,89000,144000,74000,105500,52500,108500,89500,49000,31000,71000,54500,134000,22500,100500,80500,73500,115500,82500,90500,89500,93500,42500,112000,17000,82500,80500,124500,76500,25500,45500,42000,33000,34500,31500,42500,84500,53500,60000,91500,90500,55000,45500,56500,61500,72500,45500,40500,81500,84000,88500,54000,80000,58500,57000,60000,101500,91000,75500,73500,61000,26000,105000,77000,53500,89500,23000,50000,89500,33500,142500,61500,73500,32500,52000,131500,57000,65500,101500,117000,73000,102000,135000,76000,128500,62500,23500,113500,80000,113000,72000,62500,54500,76500,146500,114000,58500,126000,52000,135500,58500,20000,59500,80000,122000,30500,142000,24500,74500,41500,27500,28500,115000,87500,118500,97500,83000,51000,115500,76500,53000,81500,145500,119000,113000,142500,79000,35500,72000,79000,143000,109500,82000,56500,52000,144000,60500,20000,58500,62500,47500,37500,85500,16500,49500,77500,44500,62500,126500,44500,72500,20000,88000,104000,77500,68000,87500,30500,97500,74500,55000,124500,32000,52500,62500,59500,17500,95500,55500,116500,18500,119500,65500,76500,64500,134000,141000,119500,76500,53500,79500,15000,22500,27500,144500,80500,93000,80000,72500,22000,48000,50000,23500,87500,54000,67500,130000,53500,118000,72500,66000,38000,84500,56500,146500,34500,127500,28500,67500,35000,63500,87500,90000,20500,86000,72000,72500,108000,53500,83500,60500,67500,33000,73500,53500,60000,150500,119500,61000,82000,63500,75000,145500,77000,73500,118500,49000,71000,28500,58500,47000,148500,76500,23500,108500,140500,41500,47000,106500,60000,73500,91500,118000,30000,66500,123500,122000,31500,75500,145500,64500,22000,60500,35500,26500,69500,34500,97500,60000,152500,54500,62500,35500,117000,19500,83500,72500,72000,27000,140500,71000,21000,43000,106500,28000,102500,47000,49500,75500,61500,59000,59500,74000,109500,139500,52500,141500,65000,107500,73500,90500,145500,57000,78000,34500,90000,33000,138000,54000,76500,65000,80500,20000,52500,97000,34000,38000,30500,26500,80500,34500,50500,100000,75000,81500,62500,83500,150000,133500,52000,83500,148000,101000,48500,85500,44000,81000,32000,71000,15000,77500,59500,23500,79000,60500,54000,87000,77500,33000,71000,121500,84000,56500,48500,67500,136500,104000,59000,23500,138500,134000,73500],\"yaxis\":\"y\",\"ybingroup\":\"y\",\"type\":\"histogram2dcontour\"}],                        {\"template\":{\"data\":{\"bar\":[{\"error_x\":{\"color\":\"#2a3f5f\"},\"error_y\":{\"color\":\"#2a3f5f\"},\"marker\":{\"line\":{\"color\":\"#E5ECF6\",\"width\":0.5},\"pattern\":{\"fillmode\":\"overlay\",\"size\":10,\"solidity\":0.2}},\"type\":\"bar\"}],\"barpolar\":[{\"marker\":{\"line\":{\"color\":\"#E5ECF6\",\"width\":0.5},\"pattern\":{\"fillmode\":\"overlay\",\"size\":10,\"solidity\":0.2}},\"type\":\"barpolar\"}],\"carpet\":[{\"aaxis\":{\"endlinecolor\":\"#2a3f5f\",\"gridcolor\":\"white\",\"linecolor\":\"white\",\"minorgridcolor\":\"white\",\"startlinecolor\":\"#2a3f5f\"},\"baxis\":{\"endlinecolor\":\"#2a3f5f\",\"gridcolor\":\"white\",\"linecolor\":\"white\",\"minorgridcolor\":\"white\",\"startlinecolor\":\"#2a3f5f\"},\"type\":\"carpet\"}],\"choropleth\":[{\"colorbar\":{\"outlinewidth\":0,\"ticks\":\"\"},\"type\":\"choropleth\"}],\"contour\":[{\"colorbar\":{\"outlinewidth\":0,\"ticks\":\"\"},\"colorscale\":[[0.0,\"#0d0887\"],[0.1111111111111111,\"#46039f\"],[0.2222222222222222,\"#7201a8\"],[0.3333333333333333,\"#9c179e\"],[0.4444444444444444,\"#bd3786\"],[0.5555555555555556,\"#d8576b\"],[0.6666666666666666,\"#ed7953\"],[0.7777777777777778,\"#fb9f3a\"],[0.8888888888888888,\"#fdca26\"],[1.0,\"#f0f921\"]],\"type\":\"contour\"}],\"contourcarpet\":[{\"colorbar\":{\"outlinewidth\":0,\"ticks\":\"\"},\"type\":\"contourcarpet\"}],\"heatmap\":[{\"colorbar\":{\"outlinewidth\":0,\"ticks\":\"\"},\"colorscale\":[[0.0,\"#0d0887\"],[0.1111111111111111,\"#46039f\"],[0.2222222222222222,\"#7201a8\"],[0.3333333333333333,\"#9c179e\"],[0.4444444444444444,\"#bd3786\"],[0.5555555555555556,\"#d8576b\"],[0.6666666666666666,\"#ed7953\"],[0.7777777777777778,\"#fb9f3a\"],[0.8888888888888888,\"#fdca26\"],[1.0,\"#f0f921\"]],\"type\":\"heatmap\"}],\"heatmapgl\":[{\"colorbar\":{\"outlinewidth\":0,\"ticks\":\"\"},\"colorscale\":[[0.0,\"#0d0887\"],[0.1111111111111111,\"#46039f\"],[0.2222222222222222,\"#7201a8\"],[0.3333333333333333,\"#9c179e\"],[0.4444444444444444,\"#bd3786\"],[0.5555555555555556,\"#d8576b\"],[0.6666666666666666,\"#ed7953\"],[0.7777777777777778,\"#fb9f3a\"],[0.8888888888888888,\"#fdca26\"],[1.0,\"#f0f921\"]],\"type\":\"heatmapgl\"}],\"histogram\":[{\"marker\":{\"pattern\":{\"fillmode\":\"overlay\",\"size\":10,\"solidity\":0.2}},\"type\":\"histogram\"}],\"histogram2d\":[{\"colorbar\":{\"outlinewidth\":0,\"ticks\":\"\"},\"colorscale\":[[0.0,\"#0d0887\"],[0.1111111111111111,\"#46039f\"],[0.2222222222222222,\"#7201a8\"],[0.3333333333333333,\"#9c179e\"],[0.4444444444444444,\"#bd3786\"],[0.5555555555555556,\"#d8576b\"],[0.6666666666666666,\"#ed7953\"],[0.7777777777777778,\"#fb9f3a\"],[0.8888888888888888,\"#fdca26\"],[1.0,\"#f0f921\"]],\"type\":\"histogram2d\"}],\"histogram2dcontour\":[{\"colorbar\":{\"outlinewidth\":0,\"ticks\":\"\"},\"colorscale\":[[0.0,\"#0d0887\"],[0.1111111111111111,\"#46039f\"],[0.2222222222222222,\"#7201a8\"],[0.3333333333333333,\"#9c179e\"],[0.4444444444444444,\"#bd3786\"],[0.5555555555555556,\"#d8576b\"],[0.6666666666666666,\"#ed7953\"],[0.7777777777777778,\"#fb9f3a\"],[0.8888888888888888,\"#fdca26\"],[1.0,\"#f0f921\"]],\"type\":\"histogram2dcontour\"}],\"mesh3d\":[{\"colorbar\":{\"outlinewidth\":0,\"ticks\":\"\"},\"type\":\"mesh3d\"}],\"parcoords\":[{\"line\":{\"colorbar\":{\"outlinewidth\":0,\"ticks\":\"\"}},\"type\":\"parcoords\"}],\"pie\":[{\"automargin\":true,\"type\":\"pie\"}],\"scatter\":[{\"marker\":{\"colorbar\":{\"outlinewidth\":0,\"ticks\":\"\"}},\"type\":\"scatter\"}],\"scatter3d\":[{\"line\":{\"colorbar\":{\"outlinewidth\":0,\"ticks\":\"\"}},\"marker\":{\"colorbar\":{\"outlinewidth\":0,\"ticks\":\"\"}},\"type\":\"scatter3d\"}],\"scattercarpet\":[{\"marker\":{\"colorbar\":{\"outlinewidth\":0,\"ticks\":\"\"}},\"type\":\"scattercarpet\"}],\"scattergeo\":[{\"marker\":{\"colorbar\":{\"outlinewidth\":0,\"ticks\":\"\"}},\"type\":\"scattergeo\"}],\"scattergl\":[{\"marker\":{\"colorbar\":{\"outlinewidth\":0,\"ticks\":\"\"}},\"type\":\"scattergl\"}],\"scattermapbox\":[{\"marker\":{\"colorbar\":{\"outlinewidth\":0,\"ticks\":\"\"}},\"type\":\"scattermapbox\"}],\"scatterpolar\":[{\"marker\":{\"colorbar\":{\"outlinewidth\":0,\"ticks\":\"\"}},\"type\":\"scatterpolar\"}],\"scatterpolargl\":[{\"marker\":{\"colorbar\":{\"outlinewidth\":0,\"ticks\":\"\"}},\"type\":\"scatterpolargl\"}],\"scatterternary\":[{\"marker\":{\"colorbar\":{\"outlinewidth\":0,\"ticks\":\"\"}},\"type\":\"scatterternary\"}],\"surface\":[{\"colorbar\":{\"outlinewidth\":0,\"ticks\":\"\"},\"colorscale\":[[0.0,\"#0d0887\"],[0.1111111111111111,\"#46039f\"],[0.2222222222222222,\"#7201a8\"],[0.3333333333333333,\"#9c179e\"],[0.4444444444444444,\"#bd3786\"],[0.5555555555555556,\"#d8576b\"],[0.6666666666666666,\"#ed7953\"],[0.7777777777777778,\"#fb9f3a\"],[0.8888888888888888,\"#fdca26\"],[1.0,\"#f0f921\"]],\"type\":\"surface\"}],\"table\":[{\"cells\":{\"fill\":{\"color\":\"#EBF0F8\"},\"line\":{\"color\":\"white\"}},\"header\":{\"fill\":{\"color\":\"#C8D4E3\"},\"line\":{\"color\":\"white\"}},\"type\":\"table\"}]},\"layout\":{\"annotationdefaults\":{\"arrowcolor\":\"#2a3f5f\",\"arrowhead\":0,\"arrowwidth\":1},\"autotypenumbers\":\"strict\",\"coloraxis\":{\"colorbar\":{\"outlinewidth\":0,\"ticks\":\"\"}},\"colorscale\":{\"diverging\":[[0,\"#8e0152\"],[0.1,\"#c51b7d\"],[0.2,\"#de77ae\"],[0.3,\"#f1b6da\"],[0.4,\"#fde0ef\"],[0.5,\"#f7f7f7\"],[0.6,\"#e6f5d0\"],[0.7,\"#b8e186\"],[0.8,\"#7fbc41\"],[0.9,\"#4d9221\"],[1,\"#276419\"]],\"sequential\":[[0.0,\"#0d0887\"],[0.1111111111111111,\"#46039f\"],[0.2222222222222222,\"#7201a8\"],[0.3333333333333333,\"#9c179e\"],[0.4444444444444444,\"#bd3786\"],[0.5555555555555556,\"#d8576b\"],[0.6666666666666666,\"#ed7953\"],[0.7777777777777778,\"#fb9f3a\"],[0.8888888888888888,\"#fdca26\"],[1.0,\"#f0f921\"]],\"sequentialminus\":[[0.0,\"#0d0887\"],[0.1111111111111111,\"#46039f\"],[0.2222222222222222,\"#7201a8\"],[0.3333333333333333,\"#9c179e\"],[0.4444444444444444,\"#bd3786\"],[0.5555555555555556,\"#d8576b\"],[0.6666666666666666,\"#ed7953\"],[0.7777777777777778,\"#fb9f3a\"],[0.8888888888888888,\"#fdca26\"],[1.0,\"#f0f921\"]]},\"colorway\":[\"#636efa\",\"#EF553B\",\"#00cc96\",\"#ab63fa\",\"#FFA15A\",\"#19d3f3\",\"#FF6692\",\"#B6E880\",\"#FF97FF\",\"#FECB52\"],\"font\":{\"color\":\"#2a3f5f\"},\"geo\":{\"bgcolor\":\"white\",\"lakecolor\":\"white\",\"landcolor\":\"#E5ECF6\",\"showlakes\":true,\"showland\":true,\"subunitcolor\":\"white\"},\"hoverlabel\":{\"align\":\"left\"},\"hovermode\":\"closest\",\"mapbox\":{\"style\":\"light\"},\"paper_bgcolor\":\"white\",\"plot_bgcolor\":\"#E5ECF6\",\"polar\":{\"angularaxis\":{\"gridcolor\":\"white\",\"linecolor\":\"white\",\"ticks\":\"\"},\"bgcolor\":\"#E5ECF6\",\"radialaxis\":{\"gridcolor\":\"white\",\"linecolor\":\"white\",\"ticks\":\"\"}},\"scene\":{\"xaxis\":{\"backgroundcolor\":\"#E5ECF6\",\"gridcolor\":\"white\",\"gridwidth\":2,\"linecolor\":\"white\",\"showbackground\":true,\"ticks\":\"\",\"zerolinecolor\":\"white\"},\"yaxis\":{\"backgroundcolor\":\"#E5ECF6\",\"gridcolor\":\"white\",\"gridwidth\":2,\"linecolor\":\"white\",\"showbackground\":true,\"ticks\":\"\",\"zerolinecolor\":\"white\"},\"zaxis\":{\"backgroundcolor\":\"#E5ECF6\",\"gridcolor\":\"white\",\"gridwidth\":2,\"linecolor\":\"white\",\"showbackground\":true,\"ticks\":\"\",\"zerolinecolor\":\"white\"}},\"shapedefaults\":{\"line\":{\"color\":\"#2a3f5f\"}},\"ternary\":{\"aaxis\":{\"gridcolor\":\"white\",\"linecolor\":\"white\",\"ticks\":\"\"},\"baxis\":{\"gridcolor\":\"white\",\"linecolor\":\"white\",\"ticks\":\"\"},\"bgcolor\":\"#E5ECF6\",\"caxis\":{\"gridcolor\":\"white\",\"linecolor\":\"white\",\"ticks\":\"\"}},\"title\":{\"x\":0.05},\"xaxis\":{\"automargin\":true,\"gridcolor\":\"white\",\"linecolor\":\"white\",\"ticks\":\"\",\"title\":{\"standoff\":15},\"zerolinecolor\":\"white\",\"zerolinewidth\":2},\"yaxis\":{\"automargin\":true,\"gridcolor\":\"white\",\"linecolor\":\"white\",\"ticks\":\"\",\"title\":{\"standoff\":15},\"zerolinecolor\":\"white\",\"zerolinewidth\":2}}},\"xaxis\":{\"anchor\":\"y\",\"domain\":[0.0,1.0],\"title\":{\"text\":\"Age\"}},\"yaxis\":{\"anchor\":\"x\",\"domain\":[0.0,1.0],\"title\":{\"text\":\"AnnualSalary\"}},\"legend\":{\"tracegroupgap\":0},\"margin\":{\"t\":60}},                        {\"responsive\": true}                    ).then(function(){\n",
              "                            \n",
              "var gd = document.getElementById('deffd836-f848-470b-aee5-29ba6ceeab13');\n",
              "var x = new MutationObserver(function (mutations, observer) {{\n",
              "        var display = window.getComputedStyle(gd).display;\n",
              "        if (!display || display === 'none') {{\n",
              "            console.log([gd, 'removed!']);\n",
              "            Plotly.purge(gd);\n",
              "            observer.disconnect();\n",
              "        }}\n",
              "}});\n",
              "\n",
              "// Listen for the removal of the full notebook cells\n",
              "var notebookContainer = gd.closest('#notebook-container');\n",
              "if (notebookContainer) {{\n",
              "    x.observe(notebookContainer, {childList: true});\n",
              "}}\n",
              "\n",
              "// Listen for the clearing of the current output cell\n",
              "var outputEl = gd.closest('.output');\n",
              "if (outputEl) {{\n",
              "    x.observe(outputEl, {childList: true});\n",
              "}}\n",
              "\n",
              "                        })                };                            </script>        </div>\n",
              "</body>\n",
              "</html>"
            ]
          },
          "metadata": {}
        }
      ]
    },
    {
      "cell_type": "code",
      "source": [
        "project_data = project_data.drop(columns=['User ID'], axis=1)\n",
        "corr = project_data.corr()\n",
        "sns.heatmap(corr, annot=True)"
      ],
      "metadata": {
        "colab": {
          "base_uri": "https://localhost:8080/",
          "height": 286
        },
        "id": "mMf1ahuj-hF3",
        "outputId": "6f0d63d0-acfa-4e44-b702-c08601f4b35c"
      },
      "execution_count": 13,
      "outputs": [
        {
          "output_type": "execute_result",
          "data": {
            "text/plain": [
              "<matplotlib.axes._subplots.AxesSubplot at 0x7f5af88091d0>"
            ]
          },
          "metadata": {},
          "execution_count": 13
        },
        {
          "output_type": "display_data",
          "data": {
            "text/plain": [
              "<Figure size 432x288 with 2 Axes>"
            ],
            "image/png": "[encoded data removed]"
          },
          "metadata": {
            "needs_background": "light"
          }
        }
      ]
    },
    {
      "cell_type": "code",
      "source": [
        "X_train=project_data.drop(columns=\"Purchased\")\n",
        "y_train=project_data[\"Purchased\"]\n",
        "\n",
        "X_train, X_test, y_train, y_test = train_test_split(X_train, y_train, test_size=0.3)"
      ],
      "metadata": {
        "id": "WJqX6KJ4-r-u"
      },
      "execution_count": 14,
      "outputs": []
    },
    {
      "cell_type": "code",
      "source": [
        "print('Train dataset shape:',X_train.shape)\n",
        "print('Test dataset shape', y_train.shape)"
      ],
      "metadata": {
        "colab": {
          "base_uri": "https://localhost:8080/"
        },
        "id": "RjthKUyZ-3so",
        "outputId": "fb4ef7af-6ebf-4493-ee11-33f3877a814f"
      },
      "execution_count": 15,
      "outputs": [
        {
          "output_type": "stream",
          "name": "stdout",
          "text": [
            "Train dataset shape: (700, 3)\n",
            "Test dataset shape (700,)\n"
          ]
        }
      ]
    },
    {
      "cell_type": "code",
      "source": [
        "numeric_columns = X_train.select_dtypes(exclude='object').columns\n",
        "print(numeric_columns)\n",
        "\n",
        "categorical_columns = X_train.select_dtypes(include='object').columns\n",
        "print(categorical_columns)"
      ],
      "metadata": {
        "colab": {
          "base_uri": "https://localhost:8080/"
        },
        "id": "g7Rd_c_H_AqW",
        "outputId": "c2f6159b-1c1f-4f75-9cbc-7b96511cf215"
      },
      "execution_count": 16,
      "outputs": [
        {
          "output_type": "stream",
          "name": "stdout",
          "text": [
            "Index(['Age', 'AnnualSalary'], dtype='object')\n",
            "Index(['Gender'], dtype='object')\n"
          ]
        }
      ]
    },
    {
      "cell_type": "code",
      "source": [
        "numeric_features = Pipeline([\n",
        "    ('handlingmissingvalues',SimpleImputer(strategy='median')),\n",
        "    ('scaling',StandardScaler(with_mean=True))\n",
        "])\n",
        "\n",
        "print(numeric_features)\n",
        "print('*'*100)\n",
        "\n",
        "categorical_features = Pipeline([\n",
        "    ('handlingmissingvalues',SimpleImputer(strategy='most_frequent')),\n",
        "    ('encoding', OneHotEncoder()),\n",
        "    ('scaling', StandardScaler(with_mean=False))\n",
        "])\n",
        "\n",
        "print(categorical_features)\n",
        "\n",
        "processing = ColumnTransformer([\n",
        "    ('numeric', numeric_features, numeric_columns),\n",
        "    ('categorical', categorical_features, categorical_columns)\n",
        "])"
      ],
      "metadata": {
        "colab": {
          "base_uri": "https://localhost:8080/"
        },
        "id": "BmLOad20_LZP",
        "outputId": "31c19ea2-5c97-4b29-dfd9-e493060ce618"
      },
      "execution_count": 18,
      "outputs": [
        {
          "output_type": "stream",
          "name": "stdout",
          "text": [
            "Pipeline(steps=[('handlingmissingvalues', SimpleImputer(strategy='median')),\n",
            "                ('scaling', StandardScaler())])\n",
            "****************************************************************************************************\n",
            "Pipeline(steps=[('handlingmissingvalues',\n",
            "                 SimpleImputer(strategy='most_frequent')),\n",
            "                ('encoding', OneHotEncoder()),\n",
            "                ('scaling', StandardScaler(with_mean=False))])\n"
          ]
        }
      ]
    },
    {
      "cell_type": "code",
      "source": [
        "def prepare_model(algorithm):\n",
        "    model = Pipeline(steps= [\n",
        "        ('processing',processing),\n",
        "        ('pca', TruncatedSVD(n_components=3, random_state=12)),\n",
        "        ('modeling', algorithm)\n",
        "    ])\n",
        "    model.fit(X_train, y_train)\n",
        "    return model"
      ],
      "metadata": {
        "id": "-YiDGs7P_hD3"
      },
      "execution_count": 19,
      "outputs": []
    },
    {
      "cell_type": "code",
      "source": [
        "def prepare_confusion_matrix(algo, model):\n",
        "    print(algo)\n",
        "    pred = model.predict(X_test)\n",
        "    cm = confusion_matrix(y_test, pred)\n",
        "    ax= plt.subplot()\n",
        "    sns.heatmap(cm, annot=True, fmt='g', ax=ax)\n",
        "    plt.show()\n",
        "    \n",
        "    # labels, title and ticks\n",
        "    ax.set_xlabel('Predicted labels');ax.set_ylabel('True labels'); \n",
        "    ax.set_title('Confusion Matrix'); "
      ],
      "metadata": {
        "id": "8goviRrh_vHf"
      },
      "execution_count": 20,
      "outputs": []
    },
    {
      "cell_type": "code",
      "source": [
        "def prepare_classification_report(algo, model):\n",
        "    print(algo+' Report :')\n",
        "    pred = model.predict(X_test)\n",
        "    print(classification_report(y_test, pred))"
      ],
      "metadata": {
        "id": "u4DRnqzO_3Bn"
      },
      "execution_count": 21,
      "outputs": []
    },
    {
      "cell_type": "code",
      "source": [
        "def prepare_roc_curve(algo, model):\n",
        "    print(algo)\n",
        "    y_pred_proba = model.predict_proba(X_test)[::,1]\n",
        "    fpr, tpr, thresholds = roc_curve(y_test,  y_pred_proba)\n",
        "    roc_auc = auc(fpr, tpr)\n",
        "    curve = RocCurveDisplay(fpr=fpr, tpr=tpr, roc_auc=roc_auc)\n",
        "    curve.plot()\n",
        "    plt.show()"
      ],
      "metadata": {
        "id": "ijU7saGE_5qg"
      },
      "execution_count": 22,
      "outputs": []
    },
    {
      "cell_type": "code",
      "source": [
        "algorithms = [('logistic regression', LogisticRegression()), \n",
        "              ('KNN classifier', KNeighborsClassifier()), \n",
        "              ('Random Forest calssifier', RandomForestClassifier()), \n",
        "              ('Adaboost classifier', AdaBoostClassifier()), \n",
        "              ('Gradientboot classifier',GradientBoostingClassifier())\n",
        "             ]\n",
        "\n",
        "trained_models = []\n",
        "model_and_score = {}\n",
        "\n",
        "for index, tup in enumerate(algorithms):\n",
        "    model = prepare_model(tup[1])\n",
        "    model_and_score[tup[0]] = str(model.score(X_train,y_train)*100)+\"%\"\n",
        "    trained_models.append((tup[0],model))\n",
        "    #prepare_classification_report(tup[0], model)\n",
        "    \n",
        "print(model_and_score)"
      ],
      "metadata": {
        "colab": {
          "base_uri": "https://localhost:8080/"
        },
        "id": "7hdstmL-ABD-",
        "outputId": "97097a12-5c38-4f40-ad75-5465d5c392f6"
      },
      "execution_count": 23,
      "outputs": [
        {
          "output_type": "stream",
          "name": "stdout",
          "text": [
            "{'logistic regression': '81.85714285714286%', 'KNN classifier': '92.42857142857143%', 'Random Forest calssifier': '99.71428571428571%', 'Adaboost classifier': '88.28571428571429%', 'Gradientboot classifier': '95.14285714285714%'}\n"
          ]
        }
      ]
    },
    {
      "cell_type": "code",
      "source": [
        "for index, tup in enumerate(trained_models):\n",
        "    prepare_classification_report(tup[0], tup[1])\n",
        "    print(\"\\n\")"
      ],
      "metadata": {
        "colab": {
          "base_uri": "https://localhost:8080/"
        },
        "id": "waD4GPRsAOAO",
        "outputId": "80f64c1e-c1c6-4ed0-8e51-958b1b086764"
      },
      "execution_count": 24,
      "outputs": [
        {
          "output_type": "stream",
          "name": "stdout",
          "text": [
            "logistic regression Report :\n",
            "              precision    recall  f1-score   support\n",
            "\n",
            "           0       0.82      0.86      0.84       179\n",
            "           1       0.78      0.72      0.75       121\n",
            "\n",
            "    accuracy                           0.80       300\n",
            "   macro avg       0.80      0.79      0.79       300\n",
            "weighted avg       0.80      0.80      0.80       300\n",
            "\n",
            "\n",
            "\n",
            "KNN classifier Report :\n",
            "              precision    recall  f1-score   support\n",
            "\n",
            "           0       0.90      0.88      0.89       179\n",
            "           1       0.83      0.85      0.84       121\n",
            "\n",
            "    accuracy                           0.87       300\n",
            "   macro avg       0.86      0.87      0.87       300\n",
            "weighted avg       0.87      0.87      0.87       300\n",
            "\n",
            "\n",
            "\n",
            "Random Forest calssifier Report :\n",
            "              precision    recall  f1-score   support\n",
            "\n",
            "           0       0.90      0.86      0.88       179\n",
            "           1       0.81      0.86      0.83       121\n",
            "\n",
            "    accuracy                           0.86       300\n",
            "   macro avg       0.85      0.86      0.86       300\n",
            "weighted avg       0.86      0.86      0.86       300\n",
            "\n",
            "\n",
            "\n",
            "Adaboost classifier Report :\n",
            "              precision    recall  f1-score   support\n",
            "\n",
            "           0       0.84      0.88      0.86       179\n",
            "           1       0.81      0.76      0.79       121\n",
            "\n",
            "    accuracy                           0.83       300\n",
            "   macro avg       0.83      0.82      0.82       300\n",
            "weighted avg       0.83      0.83      0.83       300\n",
            "\n",
            "\n",
            "\n",
            "Gradientboot classifier Report :\n",
            "              precision    recall  f1-score   support\n",
            "\n",
            "           0       0.90      0.88      0.89       179\n",
            "           1       0.83      0.86      0.85       121\n",
            "\n",
            "    accuracy                           0.87       300\n",
            "   macro avg       0.87      0.87      0.87       300\n",
            "weighted avg       0.87      0.87      0.87       300\n",
            "\n",
            "\n",
            "\n"
          ]
        }
      ]
    },
    {
      "cell_type": "code",
      "source": [
        "for index, tup in enumerate(trained_models):\n",
        "    prepare_roc_curve(tup[0], tup[1])"
      ],
      "metadata": {
        "colab": {
          "base_uri": "https://localhost:8080/",
          "height": 1000
        },
        "id": "GWQpcIk2AX33",
        "outputId": "17d2fddc-8b72-4777-f963-a1639d9540d5"
      },
      "execution_count": 25,
      "outputs": [
        {
          "output_type": "stream",
          "name": "stdout",
          "text": [
            "logistic regression\n"
          ]
        },
        {
          "output_type": "display_data",
          "data": {
            "text/plain": [
              "<Figure size 432x288 with 1 Axes>"
            ],
            "image/png": "[encoded data removed]"
          },
          "metadata": {
            "needs_background": "light"
          }
        },
        {
          "output_type": "stream",
          "name": "stdout",
          "text": [
            "KNN classifier\n"
          ]
        },
        {
          "output_type": "display_data",
          "data": {
            "text/plain": [
              "<Figure size 432x288 with 1 Axes>"
            ],
            "image/png": "[encoded data removed]"
          },
          "metadata": {
            "needs_background": "light"
          }
        },
        {
          "output_type": "stream",
          "name": "stdout",
          "text": [
            "Random Forest calssifier\n"
          ]
        },
        {
          "output_type": "display_data",
          "data": {
            "text/plain": [
              "<Figure size 432x288 with 1 Axes>"
            ],
            "image/png": "[encoded data removed]"
          },
          "metadata": {
            "needs_background": "light"
          }
        },
        {
          "output_type": "stream",
          "name": "stdout",
          "text": [
            "Adaboost classifier\n"
          ]
        },
        {
          "output_type": "display_data",
          "data": {
            "text/plain": [
              "<Figure size 432x288 with 1 Axes>"
            ],
            "image/png": "[encoded data removed]"
          },
          "metadata": {
            "needs_background": "light"
          }
        },
        {
          "output_type": "stream",
          "name": "stdout",
          "text": [
            "Gradientboot classifier\n"
          ]
        },
        {
          "output_type": "display_data",
          "data": {
            "text/plain": [
              "<Figure size 432x288 with 1 Axes>"
            ],
            "image/png": "[encoded data removed]"
          },
          "metadata": {
            "needs_background": "light"
          }
        }
      ]
    }
  ]
}