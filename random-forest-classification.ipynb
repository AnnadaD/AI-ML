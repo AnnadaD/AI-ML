{
 "cells": [
  {
   "cell_type": "code",
   "execution_count": 1,
   "id": "9be3d160",
   "metadata": {
    "_cell_guid": "b1076dfc-b9ad-4769-8c92-a6c4dae69d19",
    "_uuid": "8f2839f25d086af736a60e9eeb907d3b93b6e0e5",
    "execution": {
     "iopub.execute_input": "2022-10-26T15:04:21.948258Z",
     "iopub.status.busy": "2022-10-26T15:04:21.947430Z",
     "iopub.status.idle": "2022-10-26T15:04:21.967462Z",
     "shell.execute_reply": "2022-10-26T15:04:21.965886Z"
    },
    "papermill": {
     "duration": 0.03115,
     "end_time": "2022-10-26T15:04:21.970514",
     "exception": false,
     "start_time": "2022-10-26T15:04:21.939364",
     "status": "completed"
    },
    "tags": []
   },
   "outputs": [
    {
     "name": "stdout",
     "output_type": "stream",
     "text": [
      "/kaggle/input/diabetes-data-set/diabetes.csv\n"
     ]
    }
   ],
   "source": [
    "# This Python 3 environment comes with many helpful analytics libraries installed\n",
    "# It is defined by the kaggle/python Docker image: https://github.com/kaggle/docker-python\n",
    "# For example, here's several helpful packages to load\n",
    "\n",
    "import numpy as np # linear algebra\n",
    "import pandas as pd # data processing, CSV file I/O (e.g. pd.read_csv)\n",
    "\n",
    "# Input data files are available in the read-only \"../input/\" directory\n",
    "# For example, running this (by clicking run or pressing Shift+Enter) will list all files under the input directory\n",
    "\n",
    "import os\n",
    "for dirname, _, filenames in os.walk('/kaggle/input'):\n",
    "    for filename in filenames:\n",
    "        print(os.path.join(dirname, filename))\n",
    "\n",
    "# You can write up to 20GB to the current directory (/kaggle/working/) that gets preserved as output when you create a version using \"Save & Run All\" \n",
    "# You can also write temporary files to /kaggle/temp/, but they won't be saved outside of the current session"
   ]
  },
  {
   "cell_type": "code",
   "execution_count": 2,
   "id": "10fe89fe",
   "metadata": {
    "execution": {
     "iopub.execute_input": "2022-10-26T15:04:21.984180Z",
     "iopub.status.busy": "2022-10-26T15:04:21.983733Z",
     "iopub.status.idle": "2022-10-26T15:04:22.037605Z",
     "shell.execute_reply": "2022-10-26T15:04:22.036156Z"
    },
    "papermill": {
     "duration": 0.064684,
     "end_time": "2022-10-26T15:04:22.040813",
     "exception": false,
     "start_time": "2022-10-26T15:04:21.976129",
     "status": "completed"
    },
    "tags": []
   },
   "outputs": [
    {
     "data": {
      "text/html": [
       "<div>\n",
       "<style scoped>\n",
       "    .dataframe tbody tr th:only-of-type {\n",
       "        vertical-align: middle;\n",
       "    }\n",
       "\n",
       "    .dataframe tbody tr th {\n",
       "        vertical-align: top;\n",
       "    }\n",
       "\n",
       "    .dataframe thead th {\n",
       "        text-align: right;\n",
       "    }\n",
       "</style>\n",
       "<table border=\"1\" class=\"dataframe\">\n",
       "  <thead>\n",
       "    <tr style=\"text-align: right;\">\n",
       "      <th></th>\n",
       "      <th>Pregnancies</th>\n",
       "      <th>Glucose</th>\n",
       "      <th>BloodPressure</th>\n",
       "      <th>SkinThickness</th>\n",
       "      <th>Insulin</th>\n",
       "      <th>BMI</th>\n",
       "      <th>DiabetesPedigreeFunction</th>\n",
       "      <th>Age</th>\n",
       "      <th>Outcome</th>\n",
       "    </tr>\n",
       "  </thead>\n",
       "  <tbody>\n",
       "    <tr>\n",
       "      <th>0</th>\n",
       "      <td>6</td>\n",
       "      <td>148</td>\n",
       "      <td>72</td>\n",
       "      <td>35</td>\n",
       "      <td>0</td>\n",
       "      <td>33.6</td>\n",
       "      <td>0.627</td>\n",
       "      <td>50</td>\n",
       "      <td>1</td>\n",
       "    </tr>\n",
       "    <tr>\n",
       "      <th>1</th>\n",
       "      <td>1</td>\n",
       "      <td>85</td>\n",
       "      <td>66</td>\n",
       "      <td>29</td>\n",
       "      <td>0</td>\n",
       "      <td>26.6</td>\n",
       "      <td>0.351</td>\n",
       "      <td>31</td>\n",
       "      <td>0</td>\n",
       "    </tr>\n",
       "    <tr>\n",
       "      <th>2</th>\n",
       "      <td>8</td>\n",
       "      <td>183</td>\n",
       "      <td>64</td>\n",
       "      <td>0</td>\n",
       "      <td>0</td>\n",
       "      <td>23.3</td>\n",
       "      <td>0.672</td>\n",
       "      <td>32</td>\n",
       "      <td>1</td>\n",
       "    </tr>\n",
       "    <tr>\n",
       "      <th>3</th>\n",
       "      <td>1</td>\n",
       "      <td>89</td>\n",
       "      <td>66</td>\n",
       "      <td>23</td>\n",
       "      <td>94</td>\n",
       "      <td>28.1</td>\n",
       "      <td>0.167</td>\n",
       "      <td>21</td>\n",
       "      <td>0</td>\n",
       "    </tr>\n",
       "    <tr>\n",
       "      <th>4</th>\n",
       "      <td>0</td>\n",
       "      <td>137</td>\n",
       "      <td>40</td>\n",
       "      <td>35</td>\n",
       "      <td>168</td>\n",
       "      <td>43.1</td>\n",
       "      <td>2.288</td>\n",
       "      <td>33</td>\n",
       "      <td>1</td>\n",
       "    </tr>\n",
       "    <tr>\n",
       "      <th>5</th>\n",
       "      <td>5</td>\n",
       "      <td>116</td>\n",
       "      <td>74</td>\n",
       "      <td>0</td>\n",
       "      <td>0</td>\n",
       "      <td>25.6</td>\n",
       "      <td>0.201</td>\n",
       "      <td>30</td>\n",
       "      <td>0</td>\n",
       "    </tr>\n",
       "    <tr>\n",
       "      <th>6</th>\n",
       "      <td>3</td>\n",
       "      <td>78</td>\n",
       "      <td>50</td>\n",
       "      <td>32</td>\n",
       "      <td>88</td>\n",
       "      <td>31.0</td>\n",
       "      <td>0.248</td>\n",
       "      <td>26</td>\n",
       "      <td>1</td>\n",
       "    </tr>\n",
       "    <tr>\n",
       "      <th>7</th>\n",
       "      <td>10</td>\n",
       "      <td>115</td>\n",
       "      <td>0</td>\n",
       "      <td>0</td>\n",
       "      <td>0</td>\n",
       "      <td>35.3</td>\n",
       "      <td>0.134</td>\n",
       "      <td>29</td>\n",
       "      <td>0</td>\n",
       "    </tr>\n",
       "    <tr>\n",
       "      <th>8</th>\n",
       "      <td>2</td>\n",
       "      <td>197</td>\n",
       "      <td>70</td>\n",
       "      <td>45</td>\n",
       "      <td>543</td>\n",
       "      <td>30.5</td>\n",
       "      <td>0.158</td>\n",
       "      <td>53</td>\n",
       "      <td>1</td>\n",
       "    </tr>\n",
       "    <tr>\n",
       "      <th>9</th>\n",
       "      <td>8</td>\n",
       "      <td>125</td>\n",
       "      <td>96</td>\n",
       "      <td>0</td>\n",
       "      <td>0</td>\n",
       "      <td>0.0</td>\n",
       "      <td>0.232</td>\n",
       "      <td>54</td>\n",
       "      <td>1</td>\n",
       "    </tr>\n",
       "  </tbody>\n",
       "</table>\n",
       "</div>"
      ],
      "text/plain": [
       "   Pregnancies  Glucose  BloodPressure  SkinThickness  Insulin   BMI  \\\n",
       "0            6      148             72             35        0  33.6   \n",
       "1            1       85             66             29        0  26.6   \n",
       "2            8      183             64              0        0  23.3   \n",
       "3            1       89             66             23       94  28.1   \n",
       "4            0      137             40             35      168  43.1   \n",
       "5            5      116             74              0        0  25.6   \n",
       "6            3       78             50             32       88  31.0   \n",
       "7           10      115              0              0        0  35.3   \n",
       "8            2      197             70             45      543  30.5   \n",
       "9            8      125             96              0        0   0.0   \n",
       "\n",
       "   DiabetesPedigreeFunction  Age  Outcome  \n",
       "0                     0.627   50        1  \n",
       "1                     0.351   31        0  \n",
       "2                     0.672   32        1  \n",
       "3                     0.167   21        0  \n",
       "4                     2.288   33        1  \n",
       "5                     0.201   30        0  \n",
       "6                     0.248   26        1  \n",
       "7                     0.134   29        0  \n",
       "8                     0.158   53        1  \n",
       "9                     0.232   54        1  "
      ]
     },
     "execution_count": 2,
     "metadata": {},
     "output_type": "execute_result"
    }
   ],
   "source": [
    "data = pd.read_csv(\"../input/diabetes-data-set/diabetes.csv\")\n",
    "data.head(10)"
   ]
  },
  {
   "cell_type": "code",
   "execution_count": 3,
   "id": "062e4c47",
   "metadata": {
    "execution": {
     "iopub.execute_input": "2022-10-26T15:04:22.054511Z",
     "iopub.status.busy": "2022-10-26T15:04:22.054049Z",
     "iopub.status.idle": "2022-10-26T15:04:22.062614Z",
     "shell.execute_reply": "2022-10-26T15:04:22.061065Z"
    },
    "papermill": {
     "duration": 0.020059,
     "end_time": "2022-10-26T15:04:22.066650",
     "exception": false,
     "start_time": "2022-10-26T15:04:22.046591",
     "status": "completed"
    },
    "tags": []
   },
   "outputs": [
    {
     "name": "stdout",
     "output_type": "stream",
     "text": [
      "Name\t\t\t\tData\n",
      "\n",
      "Pregnancies                   int64\n",
      "Glucose                       int64\n",
      "BloodPressure                 int64\n",
      "SkinThickness                 int64\n",
      "Insulin                       int64\n",
      "BMI                         float64\n",
      "DiabetesPedigreeFunction    float64\n",
      "Age                           int64\n",
      "Outcome                       int64\n",
      "dtype: object\n"
     ]
    }
   ],
   "source": [
    "print(\"Name\\t\\t\\t\\tData\\n\")\n",
    "print(data.dtypes) \n"
   ]
  },
  {
   "cell_type": "code",
   "execution_count": 4,
   "id": "35cc2d31",
   "metadata": {
    "execution": {
     "iopub.execute_input": "2022-10-26T15:04:22.081146Z",
     "iopub.status.busy": "2022-10-26T15:04:22.080681Z",
     "iopub.status.idle": "2022-10-26T15:04:22.141455Z",
     "shell.execute_reply": "2022-10-26T15:04:22.139592Z"
    },
    "papermill": {
     "duration": 0.071668,
     "end_time": "2022-10-26T15:04:22.144523",
     "exception": false,
     "start_time": "2022-10-26T15:04:22.072855",
     "status": "completed"
    },
    "tags": []
   },
   "outputs": [
    {
     "data": {
      "text/html": [
       "<div>\n",
       "<style scoped>\n",
       "    .dataframe tbody tr th:only-of-type {\n",
       "        vertical-align: middle;\n",
       "    }\n",
       "\n",
       "    .dataframe tbody tr th {\n",
       "        vertical-align: top;\n",
       "    }\n",
       "\n",
       "    .dataframe thead th {\n",
       "        text-align: right;\n",
       "    }\n",
       "</style>\n",
       "<table border=\"1\" class=\"dataframe\">\n",
       "  <thead>\n",
       "    <tr style=\"text-align: right;\">\n",
       "      <th></th>\n",
       "      <th>Pregnancies</th>\n",
       "      <th>Glucose</th>\n",
       "      <th>BloodPressure</th>\n",
       "      <th>SkinThickness</th>\n",
       "      <th>Insulin</th>\n",
       "      <th>BMI</th>\n",
       "      <th>DiabetesPedigreeFunction</th>\n",
       "      <th>Age</th>\n",
       "      <th>Outcome</th>\n",
       "    </tr>\n",
       "  </thead>\n",
       "  <tbody>\n",
       "    <tr>\n",
       "      <th>count</th>\n",
       "      <td>768.000000</td>\n",
       "      <td>768.000000</td>\n",
       "      <td>768.000000</td>\n",
       "      <td>768.000000</td>\n",
       "      <td>768.000000</td>\n",
       "      <td>768.000000</td>\n",
       "      <td>768.000000</td>\n",
       "      <td>768.000000</td>\n",
       "      <td>768.000000</td>\n",
       "    </tr>\n",
       "    <tr>\n",
       "      <th>mean</th>\n",
       "      <td>3.845052</td>\n",
       "      <td>120.894531</td>\n",
       "      <td>69.105469</td>\n",
       "      <td>20.536458</td>\n",
       "      <td>79.799479</td>\n",
       "      <td>31.992578</td>\n",
       "      <td>0.471876</td>\n",
       "      <td>33.240885</td>\n",
       "      <td>0.348958</td>\n",
       "    </tr>\n",
       "    <tr>\n",
       "      <th>std</th>\n",
       "      <td>3.369578</td>\n",
       "      <td>31.972618</td>\n",
       "      <td>19.355807</td>\n",
       "      <td>15.952218</td>\n",
       "      <td>115.244002</td>\n",
       "      <td>7.884160</td>\n",
       "      <td>0.331329</td>\n",
       "      <td>11.760232</td>\n",
       "      <td>0.476951</td>\n",
       "    </tr>\n",
       "    <tr>\n",
       "      <th>min</th>\n",
       "      <td>0.000000</td>\n",
       "      <td>0.000000</td>\n",
       "      <td>0.000000</td>\n",
       "      <td>0.000000</td>\n",
       "      <td>0.000000</td>\n",
       "      <td>0.000000</td>\n",
       "      <td>0.078000</td>\n",
       "      <td>21.000000</td>\n",
       "      <td>0.000000</td>\n",
       "    </tr>\n",
       "    <tr>\n",
       "      <th>25%</th>\n",
       "      <td>1.000000</td>\n",
       "      <td>99.000000</td>\n",
       "      <td>62.000000</td>\n",
       "      <td>0.000000</td>\n",
       "      <td>0.000000</td>\n",
       "      <td>27.300000</td>\n",
       "      <td>0.243750</td>\n",
       "      <td>24.000000</td>\n",
       "      <td>0.000000</td>\n",
       "    </tr>\n",
       "    <tr>\n",
       "      <th>50%</th>\n",
       "      <td>3.000000</td>\n",
       "      <td>117.000000</td>\n",
       "      <td>72.000000</td>\n",
       "      <td>23.000000</td>\n",
       "      <td>30.500000</td>\n",
       "      <td>32.000000</td>\n",
       "      <td>0.372500</td>\n",
       "      <td>29.000000</td>\n",
       "      <td>0.000000</td>\n",
       "    </tr>\n",
       "    <tr>\n",
       "      <th>75%</th>\n",
       "      <td>6.000000</td>\n",
       "      <td>140.250000</td>\n",
       "      <td>80.000000</td>\n",
       "      <td>32.000000</td>\n",
       "      <td>127.250000</td>\n",
       "      <td>36.600000</td>\n",
       "      <td>0.626250</td>\n",
       "      <td>41.000000</td>\n",
       "      <td>1.000000</td>\n",
       "    </tr>\n",
       "    <tr>\n",
       "      <th>max</th>\n",
       "      <td>17.000000</td>\n",
       "      <td>199.000000</td>\n",
       "      <td>122.000000</td>\n",
       "      <td>99.000000</td>\n",
       "      <td>846.000000</td>\n",
       "      <td>67.100000</td>\n",
       "      <td>2.420000</td>\n",
       "      <td>81.000000</td>\n",
       "      <td>1.000000</td>\n",
       "    </tr>\n",
       "  </tbody>\n",
       "</table>\n",
       "</div>"
      ],
      "text/plain": [
       "       Pregnancies     Glucose  BloodPressure  SkinThickness     Insulin  \\\n",
       "count   768.000000  768.000000     768.000000     768.000000  768.000000   \n",
       "mean      3.845052  120.894531      69.105469      20.536458   79.799479   \n",
       "std       3.369578   31.972618      19.355807      15.952218  115.244002   \n",
       "min       0.000000    0.000000       0.000000       0.000000    0.000000   \n",
       "25%       1.000000   99.000000      62.000000       0.000000    0.000000   \n",
       "50%       3.000000  117.000000      72.000000      23.000000   30.500000   \n",
       "75%       6.000000  140.250000      80.000000      32.000000  127.250000   \n",
       "max      17.000000  199.000000     122.000000      99.000000  846.000000   \n",
       "\n",
       "              BMI  DiabetesPedigreeFunction         Age     Outcome  \n",
       "count  768.000000                768.000000  768.000000  768.000000  \n",
       "mean    31.992578                  0.471876   33.240885    0.348958  \n",
       "std      7.884160                  0.331329   11.760232    0.476951  \n",
       "min      0.000000                  0.078000   21.000000    0.000000  \n",
       "25%     27.300000                  0.243750   24.000000    0.000000  \n",
       "50%     32.000000                  0.372500   29.000000    0.000000  \n",
       "75%     36.600000                  0.626250   41.000000    1.000000  \n",
       "max     67.100000                  2.420000   81.000000    1.000000  "
      ]
     },
     "execution_count": 4,
     "metadata": {},
     "output_type": "execute_result"
    }
   ],
   "source": [
    "data.describe()"
   ]
  },
  {
   "cell_type": "code",
   "execution_count": 5,
   "id": "0f0abd5e",
   "metadata": {
    "execution": {
     "iopub.execute_input": "2022-10-26T15:04:22.159130Z",
     "iopub.status.busy": "2022-10-26T15:04:22.157982Z",
     "iopub.status.idle": "2022-10-26T15:04:22.179648Z",
     "shell.execute_reply": "2022-10-26T15:04:22.178684Z"
    },
    "papermill": {
     "duration": 0.031924,
     "end_time": "2022-10-26T15:04:22.182561",
     "exception": false,
     "start_time": "2022-10-26T15:04:22.150637",
     "status": "completed"
    },
    "tags": []
   },
   "outputs": [
    {
     "data": {
      "text/plain": [
       "Pregnancies                   0\n",
       "Glucose                       5\n",
       "BloodPressure                35\n",
       "SkinThickness               227\n",
       "Insulin                     374\n",
       "BMI                          11\n",
       "DiabetesPedigreeFunction      0\n",
       "Age                           0\n",
       "Outcome                       0\n",
       "dtype: int64"
      ]
     },
     "execution_count": 5,
     "metadata": {},
     "output_type": "execute_result"
    }
   ],
   "source": [
    "#deal with the corrupted data:\n",
    "corrupted_data = data.loc[:,'Glucose':'BMI']\n",
    "corrupted_data.replace(0,np.nan,inplace=True)\n",
    "data.loc[:,'Glucose':'BMI'] = corrupted_data\n",
    "data.isnull().sum()"
   ]
  },
  {
   "cell_type": "code",
   "execution_count": 6,
   "id": "a876dff9",
   "metadata": {
    "execution": {
     "iopub.execute_input": "2022-10-26T15:04:22.198498Z",
     "iopub.status.busy": "2022-10-26T15:04:22.198044Z",
     "iopub.status.idle": "2022-10-26T15:04:22.243976Z",
     "shell.execute_reply": "2022-10-26T15:04:22.242183Z"
    },
    "papermill": {
     "duration": 0.058103,
     "end_time": "2022-10-26T15:04:22.247346",
     "exception": false,
     "start_time": "2022-10-26T15:04:22.189243",
     "status": "completed"
    },
    "tags": []
   },
   "outputs": [
    {
     "data": {
      "text/html": [
       "<div>\n",
       "<style scoped>\n",
       "    .dataframe tbody tr th:only-of-type {\n",
       "        vertical-align: middle;\n",
       "    }\n",
       "\n",
       "    .dataframe tbody tr th {\n",
       "        vertical-align: top;\n",
       "    }\n",
       "\n",
       "    .dataframe thead th {\n",
       "        text-align: right;\n",
       "    }\n",
       "</style>\n",
       "<table border=\"1\" class=\"dataframe\">\n",
       "  <thead>\n",
       "    <tr style=\"text-align: right;\">\n",
       "      <th></th>\n",
       "      <th>Pregnancies</th>\n",
       "      <th>Glucose</th>\n",
       "      <th>BloodPressure</th>\n",
       "      <th>SkinThickness</th>\n",
       "      <th>Insulin</th>\n",
       "      <th>BMI</th>\n",
       "      <th>DiabetesPedigreeFunction</th>\n",
       "      <th>Age</th>\n",
       "      <th>Outcome</th>\n",
       "    </tr>\n",
       "  </thead>\n",
       "  <tbody>\n",
       "    <tr>\n",
       "      <th>count</th>\n",
       "      <td>768.000000</td>\n",
       "      <td>763.000000</td>\n",
       "      <td>733.000000</td>\n",
       "      <td>541.000000</td>\n",
       "      <td>394.000000</td>\n",
       "      <td>757.000000</td>\n",
       "      <td>768.000000</td>\n",
       "      <td>768.000000</td>\n",
       "      <td>768.000000</td>\n",
       "    </tr>\n",
       "    <tr>\n",
       "      <th>mean</th>\n",
       "      <td>3.845052</td>\n",
       "      <td>121.686763</td>\n",
       "      <td>72.405184</td>\n",
       "      <td>29.153420</td>\n",
       "      <td>155.548223</td>\n",
       "      <td>32.457464</td>\n",
       "      <td>0.471876</td>\n",
       "      <td>33.240885</td>\n",
       "      <td>0.348958</td>\n",
       "    </tr>\n",
       "    <tr>\n",
       "      <th>std</th>\n",
       "      <td>3.369578</td>\n",
       "      <td>30.535641</td>\n",
       "      <td>12.382158</td>\n",
       "      <td>10.476982</td>\n",
       "      <td>118.775855</td>\n",
       "      <td>6.924988</td>\n",
       "      <td>0.331329</td>\n",
       "      <td>11.760232</td>\n",
       "      <td>0.476951</td>\n",
       "    </tr>\n",
       "    <tr>\n",
       "      <th>min</th>\n",
       "      <td>0.000000</td>\n",
       "      <td>44.000000</td>\n",
       "      <td>24.000000</td>\n",
       "      <td>7.000000</td>\n",
       "      <td>14.000000</td>\n",
       "      <td>18.200000</td>\n",
       "      <td>0.078000</td>\n",
       "      <td>21.000000</td>\n",
       "      <td>0.000000</td>\n",
       "    </tr>\n",
       "    <tr>\n",
       "      <th>25%</th>\n",
       "      <td>1.000000</td>\n",
       "      <td>99.000000</td>\n",
       "      <td>64.000000</td>\n",
       "      <td>22.000000</td>\n",
       "      <td>76.250000</td>\n",
       "      <td>27.500000</td>\n",
       "      <td>0.243750</td>\n",
       "      <td>24.000000</td>\n",
       "      <td>0.000000</td>\n",
       "    </tr>\n",
       "    <tr>\n",
       "      <th>50%</th>\n",
       "      <td>3.000000</td>\n",
       "      <td>117.000000</td>\n",
       "      <td>72.000000</td>\n",
       "      <td>29.000000</td>\n",
       "      <td>125.000000</td>\n",
       "      <td>32.300000</td>\n",
       "      <td>0.372500</td>\n",
       "      <td>29.000000</td>\n",
       "      <td>0.000000</td>\n",
       "    </tr>\n",
       "    <tr>\n",
       "      <th>75%</th>\n",
       "      <td>6.000000</td>\n",
       "      <td>141.000000</td>\n",
       "      <td>80.000000</td>\n",
       "      <td>36.000000</td>\n",
       "      <td>190.000000</td>\n",
       "      <td>36.600000</td>\n",
       "      <td>0.626250</td>\n",
       "      <td>41.000000</td>\n",
       "      <td>1.000000</td>\n",
       "    </tr>\n",
       "    <tr>\n",
       "      <th>max</th>\n",
       "      <td>17.000000</td>\n",
       "      <td>199.000000</td>\n",
       "      <td>122.000000</td>\n",
       "      <td>99.000000</td>\n",
       "      <td>846.000000</td>\n",
       "      <td>67.100000</td>\n",
       "      <td>2.420000</td>\n",
       "      <td>81.000000</td>\n",
       "      <td>1.000000</td>\n",
       "    </tr>\n",
       "  </tbody>\n",
       "</table>\n",
       "</div>"
      ],
      "text/plain": [
       "       Pregnancies     Glucose  BloodPressure  SkinThickness     Insulin  \\\n",
       "count   768.000000  763.000000     733.000000     541.000000  394.000000   \n",
       "mean      3.845052  121.686763      72.405184      29.153420  155.548223   \n",
       "std       3.369578   30.535641      12.382158      10.476982  118.775855   \n",
       "min       0.000000   44.000000      24.000000       7.000000   14.000000   \n",
       "25%       1.000000   99.000000      64.000000      22.000000   76.250000   \n",
       "50%       3.000000  117.000000      72.000000      29.000000  125.000000   \n",
       "75%       6.000000  141.000000      80.000000      36.000000  190.000000   \n",
       "max      17.000000  199.000000     122.000000      99.000000  846.000000   \n",
       "\n",
       "              BMI  DiabetesPedigreeFunction         Age     Outcome  \n",
       "count  757.000000                768.000000  768.000000  768.000000  \n",
       "mean    32.457464                  0.471876   33.240885    0.348958  \n",
       "std      6.924988                  0.331329   11.760232    0.476951  \n",
       "min     18.200000                  0.078000   21.000000    0.000000  \n",
       "25%     27.500000                  0.243750   24.000000    0.000000  \n",
       "50%     32.300000                  0.372500   29.000000    0.000000  \n",
       "75%     36.600000                  0.626250   41.000000    1.000000  \n",
       "max     67.100000                  2.420000   81.000000    1.000000  "
      ]
     },
     "execution_count": 6,
     "metadata": {},
     "output_type": "execute_result"
    }
   ],
   "source": [
    "data.describe()\n"
   ]
  },
  {
   "cell_type": "code",
   "execution_count": 7,
   "id": "1699673a",
   "metadata": {
    "execution": {
     "iopub.execute_input": "2022-10-26T15:04:22.264115Z",
     "iopub.status.busy": "2022-10-26T15:04:22.263372Z",
     "iopub.status.idle": "2022-10-26T15:04:22.274047Z",
     "shell.execute_reply": "2022-10-26T15:04:22.272634Z"
    },
    "papermill": {
     "duration": 0.02269,
     "end_time": "2022-10-26T15:04:22.276747",
     "exception": false,
     "start_time": "2022-10-26T15:04:22.254057",
     "status": "completed"
    },
    "tags": []
   },
   "outputs": [],
   "source": [
    "#we will drop the rows the missing values.\n",
    "data.dropna(subset=['Glucose','BMI'],inplace=True)"
   ]
  },
  {
   "cell_type": "code",
   "execution_count": 8,
   "id": "b3be0aee",
   "metadata": {
    "execution": {
     "iopub.execute_input": "2022-10-26T15:04:22.292305Z",
     "iopub.status.busy": "2022-10-26T15:04:22.291894Z",
     "iopub.status.idle": "2022-10-26T15:04:24.601833Z",
     "shell.execute_reply": "2022-10-26T15:04:24.598994Z"
    },
    "papermill": {
     "duration": 2.322244,
     "end_time": "2022-10-26T15:04:24.605550",
     "exception": false,
     "start_time": "2022-10-26T15:04:22.283306",
     "status": "completed"
    },
    "tags": []
   },
   "outputs": [],
   "source": [
    "from imblearn.over_sampling import SMOTE\n",
    "import matplotlib.pyplot as plt\n",
    "import seaborn as sns\n",
    "sns.set()\n",
    "%matplotlib inline\n",
    "from sklearn.impute import KNNImputer\n",
    "data_knn = data.copy()\n",
    "knn_imputer = KNNImputer(n_neighbors=5)\n",
    "data_knn.iloc[:,:] = knn_imputer.fit_transform(data_knn)\n",
    "cleaned_data = data_knn.copy()"
   ]
  },
  {
   "cell_type": "code",
   "execution_count": 9,
   "id": "bd997350",
   "metadata": {
    "execution": {
     "iopub.execute_input": "2022-10-26T15:04:24.636934Z",
     "iopub.status.busy": "2022-10-26T15:04:24.636469Z",
     "iopub.status.idle": "2022-10-26T15:04:24.682353Z",
     "shell.execute_reply": "2022-10-26T15:04:24.681006Z"
    },
    "papermill": {
     "duration": 0.071163,
     "end_time": "2022-10-26T15:04:24.686065",
     "exception": false,
     "start_time": "2022-10-26T15:04:24.614902",
     "status": "completed"
    },
    "tags": []
   },
   "outputs": [
    {
     "data": {
      "text/html": [
       "<div>\n",
       "<style scoped>\n",
       "    .dataframe tbody tr th:only-of-type {\n",
       "        vertical-align: middle;\n",
       "    }\n",
       "\n",
       "    .dataframe tbody tr th {\n",
       "        vertical-align: top;\n",
       "    }\n",
       "\n",
       "    .dataframe thead th {\n",
       "        text-align: right;\n",
       "    }\n",
       "</style>\n",
       "<table border=\"1\" class=\"dataframe\">\n",
       "  <thead>\n",
       "    <tr style=\"text-align: right;\">\n",
       "      <th></th>\n",
       "      <th>Pregnancies</th>\n",
       "      <th>Glucose</th>\n",
       "      <th>BloodPressure</th>\n",
       "      <th>SkinThickness</th>\n",
       "      <th>Insulin</th>\n",
       "      <th>BMI</th>\n",
       "      <th>DiabetesPedigreeFunction</th>\n",
       "      <th>Age</th>\n",
       "      <th>Outcome</th>\n",
       "    </tr>\n",
       "  </thead>\n",
       "  <tbody>\n",
       "    <tr>\n",
       "      <th>count</th>\n",
       "      <td>752.000000</td>\n",
       "      <td>752.000000</td>\n",
       "      <td>752.000000</td>\n",
       "      <td>752.000000</td>\n",
       "      <td>752.000000</td>\n",
       "      <td>752.000000</td>\n",
       "      <td>752.000000</td>\n",
       "      <td>752.000000</td>\n",
       "      <td>752.000000</td>\n",
       "    </tr>\n",
       "    <tr>\n",
       "      <th>mean</th>\n",
       "      <td>3.851064</td>\n",
       "      <td>121.941489</td>\n",
       "      <td>72.413830</td>\n",
       "      <td>29.102128</td>\n",
       "      <td>154.656649</td>\n",
       "      <td>32.454654</td>\n",
       "      <td>0.473051</td>\n",
       "      <td>33.312500</td>\n",
       "      <td>0.351064</td>\n",
       "    </tr>\n",
       "    <tr>\n",
       "      <th>std</th>\n",
       "      <td>3.375189</td>\n",
       "      <td>30.601198</td>\n",
       "      <td>12.223965</td>\n",
       "      <td>9.473877</td>\n",
       "      <td>98.872359</td>\n",
       "      <td>6.928926</td>\n",
       "      <td>0.330108</td>\n",
       "      <td>11.709395</td>\n",
       "      <td>0.477621</td>\n",
       "    </tr>\n",
       "    <tr>\n",
       "      <th>min</th>\n",
       "      <td>0.000000</td>\n",
       "      <td>44.000000</td>\n",
       "      <td>24.000000</td>\n",
       "      <td>7.000000</td>\n",
       "      <td>14.000000</td>\n",
       "      <td>18.200000</td>\n",
       "      <td>0.078000</td>\n",
       "      <td>21.000000</td>\n",
       "      <td>0.000000</td>\n",
       "    </tr>\n",
       "    <tr>\n",
       "      <th>25%</th>\n",
       "      <td>1.000000</td>\n",
       "      <td>99.750000</td>\n",
       "      <td>64.000000</td>\n",
       "      <td>23.000000</td>\n",
       "      <td>90.000000</td>\n",
       "      <td>27.500000</td>\n",
       "      <td>0.244000</td>\n",
       "      <td>24.000000</td>\n",
       "      <td>0.000000</td>\n",
       "    </tr>\n",
       "    <tr>\n",
       "      <th>50%</th>\n",
       "      <td>3.000000</td>\n",
       "      <td>117.000000</td>\n",
       "      <td>72.000000</td>\n",
       "      <td>29.000000</td>\n",
       "      <td>135.000000</td>\n",
       "      <td>32.300000</td>\n",
       "      <td>0.377000</td>\n",
       "      <td>29.000000</td>\n",
       "      <td>0.000000</td>\n",
       "    </tr>\n",
       "    <tr>\n",
       "      <th>75%</th>\n",
       "      <td>6.000000</td>\n",
       "      <td>141.000000</td>\n",
       "      <td>80.000000</td>\n",
       "      <td>34.650000</td>\n",
       "      <td>191.850000</td>\n",
       "      <td>36.600000</td>\n",
       "      <td>0.627500</td>\n",
       "      <td>41.000000</td>\n",
       "      <td>1.000000</td>\n",
       "    </tr>\n",
       "    <tr>\n",
       "      <th>max</th>\n",
       "      <td>17.000000</td>\n",
       "      <td>199.000000</td>\n",
       "      <td>122.000000</td>\n",
       "      <td>99.000000</td>\n",
       "      <td>846.000000</td>\n",
       "      <td>67.100000</td>\n",
       "      <td>2.420000</td>\n",
       "      <td>81.000000</td>\n",
       "      <td>1.000000</td>\n",
       "    </tr>\n",
       "  </tbody>\n",
       "</table>\n",
       "</div>"
      ],
      "text/plain": [
       "       Pregnancies     Glucose  BloodPressure  SkinThickness     Insulin  \\\n",
       "count   752.000000  752.000000     752.000000     752.000000  752.000000   \n",
       "mean      3.851064  121.941489      72.413830      29.102128  154.656649   \n",
       "std       3.375189   30.601198      12.223965       9.473877   98.872359   \n",
       "min       0.000000   44.000000      24.000000       7.000000   14.000000   \n",
       "25%       1.000000   99.750000      64.000000      23.000000   90.000000   \n",
       "50%       3.000000  117.000000      72.000000      29.000000  135.000000   \n",
       "75%       6.000000  141.000000      80.000000      34.650000  191.850000   \n",
       "max      17.000000  199.000000     122.000000      99.000000  846.000000   \n",
       "\n",
       "              BMI  DiabetesPedigreeFunction         Age     Outcome  \n",
       "count  752.000000                752.000000  752.000000  752.000000  \n",
       "mean    32.454654                  0.473051   33.312500    0.351064  \n",
       "std      6.928926                  0.330108   11.709395    0.477621  \n",
       "min     18.200000                  0.078000   21.000000    0.000000  \n",
       "25%     27.500000                  0.244000   24.000000    0.000000  \n",
       "50%     32.300000                  0.377000   29.000000    0.000000  \n",
       "75%     36.600000                  0.627500   41.000000    1.000000  \n",
       "max     67.100000                  2.420000   81.000000    1.000000  "
      ]
     },
     "execution_count": 9,
     "metadata": {},
     "output_type": "execute_result"
    }
   ],
   "source": [
    "data_knn.describe()"
   ]
  },
  {
   "cell_type": "markdown",
   "id": "fd178f94",
   "metadata": {
    "papermill": {
     "duration": 0.007383,
     "end_time": "2022-10-26T15:04:24.705253",
     "exception": false,
     "start_time": "2022-10-26T15:04:24.697870",
     "status": "completed"
    },
    "tags": []
   },
   "source": [
    "**Random Forest Classification**"
   ]
  },
  {
   "cell_type": "code",
   "execution_count": 10,
   "id": "39fb3fc5",
   "metadata": {
    "execution": {
     "iopub.execute_input": "2022-10-26T15:04:24.723738Z",
     "iopub.status.busy": "2022-10-26T15:04:24.721209Z",
     "iopub.status.idle": "2022-10-26T15:04:24.728914Z",
     "shell.execute_reply": "2022-10-26T15:04:24.727877Z"
    },
    "papermill": {
     "duration": 0.019955,
     "end_time": "2022-10-26T15:04:24.732455",
     "exception": false,
     "start_time": "2022-10-26T15:04:24.712500",
     "status": "completed"
    },
    "tags": []
   },
   "outputs": [],
   "source": [
    "from sklearn.model_selection import train_test_split\n",
    "from sklearn.ensemble import RandomForestClassifier"
   ]
  },
  {
   "cell_type": "code",
   "execution_count": 11,
   "id": "a3ee6b7d",
   "metadata": {
    "execution": {
     "iopub.execute_input": "2022-10-26T15:04:24.748939Z",
     "iopub.status.busy": "2022-10-26T15:04:24.748479Z",
     "iopub.status.idle": "2022-10-26T15:04:24.762098Z",
     "shell.execute_reply": "2022-10-26T15:04:24.760640Z"
    },
    "papermill": {
     "duration": 0.025882,
     "end_time": "2022-10-26T15:04:24.764990",
     "exception": false,
     "start_time": "2022-10-26T15:04:24.739108",
     "status": "completed"
    },
    "tags": []
   },
   "outputs": [],
   "source": [
    "X = cleaned_data.drop('Outcome',axis=1)  \n",
    "y = cleaned_data['Outcome']\n",
    "X_train, X_test, y_train, y_test = train_test_split(X, y, test_size=0.33,stratify=y,random_state=42)"
   ]
  },
  {
   "cell_type": "code",
   "execution_count": 12,
   "id": "d7d23d2e",
   "metadata": {
    "execution": {
     "iopub.execute_input": "2022-10-26T15:04:24.780761Z",
     "iopub.status.busy": "2022-10-26T15:04:24.780205Z",
     "iopub.status.idle": "2022-10-26T15:04:24.797941Z",
     "shell.execute_reply": "2022-10-26T15:04:24.796310Z"
    },
    "papermill": {
     "duration": 0.029224,
     "end_time": "2022-10-26T15:04:24.800826",
     "exception": false,
     "start_time": "2022-10-26T15:04:24.771602",
     "status": "completed"
    },
    "tags": []
   },
   "outputs": [],
   "source": [
    "sm = SMOTE(random_state=42)\n",
    "x_res,y_res=sm.fit_resample(X_train,y_train)"
   ]
  },
  {
   "cell_type": "code",
   "execution_count": 13,
   "id": "4f6f2ab7",
   "metadata": {
    "execution": {
     "iopub.execute_input": "2022-10-26T15:04:24.820110Z",
     "iopub.status.busy": "2022-10-26T15:04:24.819281Z",
     "iopub.status.idle": "2022-10-26T15:04:24.826380Z",
     "shell.execute_reply": "2022-10-26T15:04:24.825101Z"
    },
    "papermill": {
     "duration": 0.020901,
     "end_time": "2022-10-26T15:04:24.829375",
     "exception": false,
     "start_time": "2022-10-26T15:04:24.808474",
     "status": "completed"
    },
    "tags": []
   },
   "outputs": [],
   "source": [
    "from sklearn.metrics import confusion_matrix, classification_report\n",
    "from sklearn.model_selection import GridSearchCV\n",
    "estimator = RandomForestClassifier(n_estimators=300)\n",
    "\n",
    "params = { 'max_depth' : range(5,20),\n",
    "          'min_samples_split' : np.arange(2,10)\n",
    "}\n",
    "grid = GridSearchCV(estimator, params, cv=5,verbose=True,n_jobs=-1,scoring='f1')"
   ]
  },
  {
   "cell_type": "code",
   "execution_count": 14,
   "id": "33facb72",
   "metadata": {
    "execution": {
     "iopub.execute_input": "2022-10-26T15:04:24.844907Z",
     "iopub.status.busy": "2022-10-26T15:04:24.844446Z",
     "iopub.status.idle": "2022-10-26T15:06:52.414258Z",
     "shell.execute_reply": "2022-10-26T15:06:52.412559Z"
    },
    "papermill": {
     "duration": 147.58652,
     "end_time": "2022-10-26T15:06:52.422764",
     "exception": false,
     "start_time": "2022-10-26T15:04:24.836244",
     "status": "completed"
    },
    "tags": []
   },
   "outputs": [
    {
     "name": "stdout",
     "output_type": "stream",
     "text": [
      "Fitting 5 folds for each of 120 candidates, totalling 600 fits\n"
     ]
    },
    {
     "data": {
      "text/plain": [
       "GridSearchCV(cv=5, estimator=RandomForestClassifier(n_estimators=300),\n",
       "             n_jobs=-1,\n",
       "             param_grid={'max_depth': range(5, 20),\n",
       "                         'min_samples_split': array([2, 3, 4, 5, 6, 7, 8, 9])},\n",
       "             scoring='f1', verbose=True)"
      ]
     },
     "execution_count": 14,
     "metadata": {},
     "output_type": "execute_result"
    }
   ],
   "source": [
    "grid.fit(x_res,y_res)\n"
   ]
  },
  {
   "cell_type": "code",
   "execution_count": 15,
   "id": "7932b1e8",
   "metadata": {
    "execution": {
     "iopub.execute_input": "2022-10-26T15:06:52.438537Z",
     "iopub.status.busy": "2022-10-26T15:06:52.437593Z",
     "iopub.status.idle": "2022-10-26T15:06:52.493926Z",
     "shell.execute_reply": "2022-10-26T15:06:52.492726Z"
    },
    "papermill": {
     "duration": 0.067418,
     "end_time": "2022-10-26T15:06:52.496704",
     "exception": false,
     "start_time": "2022-10-26T15:06:52.429286",
     "status": "completed"
    },
    "tags": []
   },
   "outputs": [],
   "source": [
    "y_pred = grid.predict(X_test)"
   ]
  },
  {
   "cell_type": "code",
   "execution_count": 16,
   "id": "f54fe8c0",
   "metadata": {
    "execution": {
     "iopub.execute_input": "2022-10-26T15:06:52.512074Z",
     "iopub.status.busy": "2022-10-26T15:06:52.511691Z",
     "iopub.status.idle": "2022-10-26T15:06:52.519935Z",
     "shell.execute_reply": "2022-10-26T15:06:52.518541Z"
    },
    "papermill": {
     "duration": 0.018906,
     "end_time": "2022-10-26T15:06:52.522383",
     "exception": false,
     "start_time": "2022-10-26T15:06:52.503477",
     "status": "completed"
    },
    "tags": []
   },
   "outputs": [
    {
     "data": {
      "text/plain": [
       "{'max_depth': 11, 'min_samples_split': 3}"
      ]
     },
     "execution_count": 16,
     "metadata": {},
     "output_type": "execute_result"
    }
   ],
   "source": [
    "from sklearn.model_selection import GridSearchCV\n",
    "#grid = GridSearchCV(estimator, params, cv=5,verbose=True,n_jobs=-1,scoring='recall')\n",
    "\n",
    "grid.best_params_"
   ]
  },
  {
   "cell_type": "code",
   "execution_count": 17,
   "id": "c5eadc32",
   "metadata": {
    "execution": {
     "iopub.execute_input": "2022-10-26T15:06:52.537044Z",
     "iopub.status.busy": "2022-10-26T15:06:52.536649Z",
     "iopub.status.idle": "2022-10-26T15:06:52.549055Z",
     "shell.execute_reply": "2022-10-26T15:06:52.547706Z"
    },
    "papermill": {
     "duration": 0.023312,
     "end_time": "2022-10-26T15:06:52.552275",
     "exception": false,
     "start_time": "2022-10-26T15:06:52.528963",
     "status": "completed"
    },
    "tags": []
   },
   "outputs": [
    {
     "name": "stdout",
     "output_type": "stream",
     "text": [
      "              precision    recall  f1-score   support\n",
      "\n",
      "         0.0       0.79      0.80      0.80       162\n",
      "         1.0       0.62      0.61      0.62        87\n",
      "\n",
      "    accuracy                           0.73       249\n",
      "   macro avg       0.71      0.71      0.71       249\n",
      "weighted avg       0.73      0.73      0.73       249\n",
      "\n"
     ]
    }
   ],
   "source": [
    "print(classification_report(y_test, y_pred))"
   ]
  }
 ],
 "metadata": {
  "kernelspec": {
   "display_name": "Python 3",
   "language": "python",
   "name": "python3"
  },
  "language_info": {
   "codemirror_mode": {
    "name": "ipython",
    "version": 3
   },
   "file_extension": ".py",
   "mimetype": "text/x-python",
   "name": "python",
   "nbconvert_exporter": "python",
   "pygments_lexer": "ipython3",
   "version": "3.7.12"
  },
  "papermill": {
   "default_parameters": {},
   "duration": 162.930145,
   "end_time": "2022-10-26T15:06:55.180962",
   "environment_variables": {},
   "exception": null,
   "input_path": "__notebook__.ipynb",
   "output_path": "__notebook__.ipynb",
   "parameters": {},
   "start_time": "2022-10-26T15:04:12.250817",
   "version": "2.3.4"
  }
 },
 "nbformat": 4,
 "nbformat_minor": 5
}
