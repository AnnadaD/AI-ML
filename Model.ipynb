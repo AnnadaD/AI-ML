{
 "cells": [
  {
   "cell_type": "code",
   "execution_count": 1,
   "id": "c1a0fd42",
   "metadata": {
    "_cell_guid": "b1076dfc-b9ad-4769-8c92-a6c4dae69d19",
    "_uuid": "8f2839f25d086af736a60e9eeb907d3b93b6e0e5",
    "execution": {
     "iopub.execute_input": "2022-10-27T14:46:36.909084Z",
     "iopub.status.busy": "2022-10-27T14:46:36.908431Z",
     "iopub.status.idle": "2022-10-27T14:46:36.934253Z",
     "shell.execute_reply": "2022-10-27T14:46:36.933026Z"
    },
    "papermill": {
     "duration": 0.039835,
     "end_time": "2022-10-27T14:46:36.937353",
     "exception": false,
     "start_time": "2022-10-27T14:46:36.897518",
     "status": "completed"
    },
    "tags": []
   },
   "outputs": [
    {
     "name": "stdout",
     "output_type": "stream",
     "text": [
      "/kaggle/input/chocolate-ratings/chocolate_makers.csv\n",
      "/kaggle/input/chocolate-ratings/chocolate_ratings.csv\n"
     ]
    }
   ],
   "source": [
    "# This Python 3 environment comes with many helpful analytics libraries installed\n",
    "# It is defined by the kaggle/python Docker image: https://github.com/kaggle/docker-python\n",
    "# For example, here's several helpful packages to load\n",
    "\n",
    "import numpy as np # linear algebra\n",
    "import pandas as pd # data processing, CSV file I/O (e.g. pd.read_csv)\n",
    "\n",
    "# Input data files are available in the read-only \"../input/\" directory\n",
    "# For example, running this (by clicking run or pressing Shift+Enter) will list all files under the input directory\n",
    "\n",
    "import os\n",
    "for dirname, _, filenames in os.walk('/kaggle/input'):\n",
    "    for filename in filenames:\n",
    "        print(os.path.join(dirname, filename))\n",
    "\n",
    "# You can write up to 20GB to the current directory (/kaggle/working/) that gets preserved as output when you create a version using \"Save & Run All\" \n",
    "# You can also write temporary files to /kaggle/temp/, but they won't be saved outside of the current session"
   ]
  },
  {
   "cell_type": "markdown",
   "id": "ec46743d",
   "metadata": {
    "papermill": {
     "duration": 0.005831,
     "end_time": "2022-10-27T14:46:36.949781",
     "exception": false,
     "start_time": "2022-10-27T14:46:36.943950",
     "status": "completed"
    },
    "tags": []
   },
   "source": [
    "**Importing Libraries**"
   ]
  },
  {
   "cell_type": "code",
   "execution_count": 2,
   "id": "45a7cdb0",
   "metadata": {
    "execution": {
     "iopub.execute_input": "2022-10-27T14:46:36.963031Z",
     "iopub.status.busy": "2022-10-27T14:46:36.962633Z",
     "iopub.status.idle": "2022-10-27T14:46:38.009397Z",
     "shell.execute_reply": "2022-10-27T14:46:38.008423Z"
    },
    "papermill": {
     "duration": 1.056542,
     "end_time": "2022-10-27T14:46:38.012155",
     "exception": false,
     "start_time": "2022-10-27T14:46:36.955613",
     "status": "completed"
    },
    "tags": []
   },
   "outputs": [],
   "source": [
    "import numpy as np \n",
    "import pandas as pd \n",
    "import seaborn as sns\n",
    "import matplotlib.pyplot as plt"
   ]
  },
  {
   "cell_type": "markdown",
   "id": "ba6ce8ec",
   "metadata": {
    "papermill": {
     "duration": 0.005794,
     "end_time": "2022-10-27T14:46:38.023963",
     "exception": false,
     "start_time": "2022-10-27T14:46:38.018169",
     "status": "completed"
    },
    "tags": []
   },
   "source": [
    "**Loading the Dataset**"
   ]
  },
  {
   "cell_type": "code",
   "execution_count": 3,
   "id": "d4511bcc",
   "metadata": {
    "execution": {
     "iopub.execute_input": "2022-10-27T14:46:38.039175Z",
     "iopub.status.busy": "2022-10-27T14:46:38.038039Z",
     "iopub.status.idle": "2022-10-27T14:46:38.102208Z",
     "shell.execute_reply": "2022-10-27T14:46:38.100626Z"
    },
    "papermill": {
     "duration": 0.074941,
     "end_time": "2022-10-27T14:46:38.104978",
     "exception": false,
     "start_time": "2022-10-27T14:46:38.030037",
     "status": "completed"
    },
    "tags": []
   },
   "outputs": [
    {
     "name": "stdout",
     "output_type": "stream",
     "text": [
      "<class 'pandas.core.frame.DataFrame'>\n",
      "RangeIndex: 2530 entries, 0 to 2529\n",
      "Data columns (total 10 columns):\n",
      " #   Column                            Non-Null Count  Dtype  \n",
      "---  ------                            --------------  -----  \n",
      " 0   REF                               2530 non-null   int64  \n",
      " 1   Company (Manufacturer)            2530 non-null   object \n",
      " 2   Company Location                  2530 non-null   object \n",
      " 3   Review Date                       2530 non-null   int64  \n",
      " 4   Country of Bean Origin            2530 non-null   object \n",
      " 5   Specific Bean Origin or Bar Name  2530 non-null   object \n",
      " 6   Cocoa Percent                     2530 non-null   object \n",
      " 7   Ingredients                       2443 non-null   object \n",
      " 8   Most Memorable Characteristics    2530 non-null   object \n",
      " 9   Rating                            2530 non-null   float64\n",
      "dtypes: float64(1), int64(2), object(7)\n",
      "memory usage: 197.8+ KB\n"
     ]
    }
   ],
   "source": [
    "df = pd.read_csv('../input/chocolate-ratings/chocolate_ratings.csv')\n",
    "makerdf = pd.read_csv('../input/chocolate-ratings/chocolate_makers.csv')\n",
    "df.info()\n"
   ]
  },
  {
   "cell_type": "markdown",
   "id": "d80c87e5",
   "metadata": {
    "papermill": {
     "duration": 0.006018,
     "end_time": "2022-10-27T14:46:38.116959",
     "exception": false,
     "start_time": "2022-10-27T14:46:38.110941",
     "status": "completed"
    },
    "tags": []
   },
   "source": [
    "**Checking the data**"
   ]
  },
  {
   "cell_type": "code",
   "execution_count": 4,
   "id": "e37dedd7",
   "metadata": {
    "execution": {
     "iopub.execute_input": "2022-10-27T14:46:38.130743Z",
     "iopub.status.busy": "2022-10-27T14:46:38.130313Z",
     "iopub.status.idle": "2022-10-27T14:46:38.155077Z",
     "shell.execute_reply": "2022-10-27T14:46:38.154060Z"
    },
    "papermill": {
     "duration": 0.034609,
     "end_time": "2022-10-27T14:46:38.157491",
     "exception": false,
     "start_time": "2022-10-27T14:46:38.122882",
     "status": "completed"
    },
    "tags": []
   },
   "outputs": [
    {
     "data": {
      "text/html": [
       "<div>\n",
       "<style scoped>\n",
       "    .dataframe tbody tr th:only-of-type {\n",
       "        vertical-align: middle;\n",
       "    }\n",
       "\n",
       "    .dataframe tbody tr th {\n",
       "        vertical-align: top;\n",
       "    }\n",
       "\n",
       "    .dataframe thead th {\n",
       "        text-align: right;\n",
       "    }\n",
       "</style>\n",
       "<table border=\"1\" class=\"dataframe\">\n",
       "  <thead>\n",
       "    <tr style=\"text-align: right;\">\n",
       "      <th></th>\n",
       "      <th>REF</th>\n",
       "      <th>Company (Manufacturer)</th>\n",
       "      <th>Company Location</th>\n",
       "      <th>Review Date</th>\n",
       "      <th>Country of Bean Origin</th>\n",
       "      <th>Specific Bean Origin or Bar Name</th>\n",
       "      <th>Cocoa Percent</th>\n",
       "      <th>Ingredients</th>\n",
       "      <th>Most Memorable Characteristics</th>\n",
       "      <th>Rating</th>\n",
       "    </tr>\n",
       "  </thead>\n",
       "  <tbody>\n",
       "    <tr>\n",
       "      <th>0</th>\n",
       "      <td>2454</td>\n",
       "      <td>5150</td>\n",
       "      <td>U.S.A.</td>\n",
       "      <td>2019</td>\n",
       "      <td>Tanzania</td>\n",
       "      <td>Kokoa Kamili, batch 1</td>\n",
       "      <td>76%</td>\n",
       "      <td>3- B,S,C</td>\n",
       "      <td>rich cocoa, fatty, bready</td>\n",
       "      <td>3.25</td>\n",
       "    </tr>\n",
       "    <tr>\n",
       "      <th>1</th>\n",
       "      <td>2458</td>\n",
       "      <td>5150</td>\n",
       "      <td>U.S.A.</td>\n",
       "      <td>2019</td>\n",
       "      <td>Dominican Republic</td>\n",
       "      <td>Zorzal, batch 1</td>\n",
       "      <td>76%</td>\n",
       "      <td>3- B,S,C</td>\n",
       "      <td>cocoa, vegetal, savory</td>\n",
       "      <td>3.50</td>\n",
       "    </tr>\n",
       "    <tr>\n",
       "      <th>2</th>\n",
       "      <td>2454</td>\n",
       "      <td>5150</td>\n",
       "      <td>U.S.A.</td>\n",
       "      <td>2019</td>\n",
       "      <td>Madagascar</td>\n",
       "      <td>Bejofo Estate, batch 1</td>\n",
       "      <td>76%</td>\n",
       "      <td>3- B,S,C</td>\n",
       "      <td>cocoa, blackberry, full body</td>\n",
       "      <td>3.75</td>\n",
       "    </tr>\n",
       "    <tr>\n",
       "      <th>3</th>\n",
       "      <td>2542</td>\n",
       "      <td>5150</td>\n",
       "      <td>U.S.A.</td>\n",
       "      <td>2021</td>\n",
       "      <td>Fiji</td>\n",
       "      <td>Matasawalevu, batch 1</td>\n",
       "      <td>68%</td>\n",
       "      <td>3- B,S,C</td>\n",
       "      <td>chewy, off, rubbery</td>\n",
       "      <td>3.00</td>\n",
       "    </tr>\n",
       "    <tr>\n",
       "      <th>4</th>\n",
       "      <td>2546</td>\n",
       "      <td>5150</td>\n",
       "      <td>U.S.A.</td>\n",
       "      <td>2021</td>\n",
       "      <td>Venezuela</td>\n",
       "      <td>Sur del Lago, batch 1</td>\n",
       "      <td>72%</td>\n",
       "      <td>3- B,S,C</td>\n",
       "      <td>fatty, earthy, moss, nutty,chalky</td>\n",
       "      <td>3.00</td>\n",
       "    </tr>\n",
       "    <tr>\n",
       "      <th>5</th>\n",
       "      <td>2546</td>\n",
       "      <td>5150</td>\n",
       "      <td>U.S.A.</td>\n",
       "      <td>2021</td>\n",
       "      <td>Uganda</td>\n",
       "      <td>Semuliki Forest, batch 1</td>\n",
       "      <td>80%</td>\n",
       "      <td>3- B,S,C</td>\n",
       "      <td>mildly bitter, basic cocoa, fatty</td>\n",
       "      <td>3.25</td>\n",
       "    </tr>\n",
       "    <tr>\n",
       "      <th>6</th>\n",
       "      <td>2542</td>\n",
       "      <td>5150</td>\n",
       "      <td>U.S.A.</td>\n",
       "      <td>2021</td>\n",
       "      <td>India</td>\n",
       "      <td>Anamalai, batch 1</td>\n",
       "      <td>68%</td>\n",
       "      <td>3- B,S,C</td>\n",
       "      <td>milk brownie, macadamia,chewy</td>\n",
       "      <td>3.50</td>\n",
       "    </tr>\n",
       "    <tr>\n",
       "      <th>7</th>\n",
       "      <td>797</td>\n",
       "      <td>A. Morin</td>\n",
       "      <td>France</td>\n",
       "      <td>2012</td>\n",
       "      <td>Bolivia</td>\n",
       "      <td>Bolivia</td>\n",
       "      <td>70%</td>\n",
       "      <td>4- B,S,C,L</td>\n",
       "      <td>vegetal, nutty</td>\n",
       "      <td>3.50</td>\n",
       "    </tr>\n",
       "    <tr>\n",
       "      <th>8</th>\n",
       "      <td>797</td>\n",
       "      <td>A. Morin</td>\n",
       "      <td>France</td>\n",
       "      <td>2012</td>\n",
       "      <td>Peru</td>\n",
       "      <td>Peru</td>\n",
       "      <td>63%</td>\n",
       "      <td>4- B,S,C,L</td>\n",
       "      <td>fruity, melon, roasty</td>\n",
       "      <td>3.75</td>\n",
       "    </tr>\n",
       "    <tr>\n",
       "      <th>9</th>\n",
       "      <td>1011</td>\n",
       "      <td>A. Morin</td>\n",
       "      <td>France</td>\n",
       "      <td>2013</td>\n",
       "      <td>Panama</td>\n",
       "      <td>Panama</td>\n",
       "      <td>70%</td>\n",
       "      <td>4- B,S,C,L</td>\n",
       "      <td>brief fruit note, earthy, nutty</td>\n",
       "      <td>2.75</td>\n",
       "    </tr>\n",
       "  </tbody>\n",
       "</table>\n",
       "</div>"
      ],
      "text/plain": [
       "    REF Company (Manufacturer) Company Location  Review Date  \\\n",
       "0  2454                   5150           U.S.A.         2019   \n",
       "1  2458                   5150           U.S.A.         2019   \n",
       "2  2454                   5150           U.S.A.         2019   \n",
       "3  2542                   5150           U.S.A.         2021   \n",
       "4  2546                   5150           U.S.A.         2021   \n",
       "5  2546                   5150           U.S.A.         2021   \n",
       "6  2542                   5150           U.S.A.         2021   \n",
       "7   797               A. Morin           France         2012   \n",
       "8   797               A. Morin           France         2012   \n",
       "9  1011               A. Morin           France         2013   \n",
       "\n",
       "  Country of Bean Origin Specific Bean Origin or Bar Name Cocoa Percent  \\\n",
       "0               Tanzania            Kokoa Kamili, batch 1           76%   \n",
       "1     Dominican Republic                  Zorzal, batch 1           76%   \n",
       "2             Madagascar           Bejofo Estate, batch 1           76%   \n",
       "3                   Fiji            Matasawalevu, batch 1           68%   \n",
       "4              Venezuela            Sur del Lago, batch 1           72%   \n",
       "5                 Uganda         Semuliki Forest, batch 1           80%   \n",
       "6                  India                Anamalai, batch 1           68%   \n",
       "7                Bolivia                          Bolivia           70%   \n",
       "8                   Peru                             Peru           63%   \n",
       "9                 Panama                           Panama           70%   \n",
       "\n",
       "  Ingredients     Most Memorable Characteristics  Rating  \n",
       "0    3- B,S,C          rich cocoa, fatty, bready    3.25  \n",
       "1    3- B,S,C             cocoa, vegetal, savory    3.50  \n",
       "2    3- B,S,C       cocoa, blackberry, full body    3.75  \n",
       "3    3- B,S,C                chewy, off, rubbery    3.00  \n",
       "4    3- B,S,C  fatty, earthy, moss, nutty,chalky    3.00  \n",
       "5    3- B,S,C  mildly bitter, basic cocoa, fatty    3.25  \n",
       "6    3- B,S,C      milk brownie, macadamia,chewy    3.50  \n",
       "7  4- B,S,C,L                     vegetal, nutty    3.50  \n",
       "8  4- B,S,C,L              fruity, melon, roasty    3.75  \n",
       "9  4- B,S,C,L    brief fruit note, earthy, nutty    2.75  "
      ]
     },
     "execution_count": 4,
     "metadata": {},
     "output_type": "execute_result"
    }
   ],
   "source": [
    "df.head(10)"
   ]
  },
  {
   "cell_type": "code",
   "execution_count": 5,
   "id": "465599c9",
   "metadata": {
    "execution": {
     "iopub.execute_input": "2022-10-27T14:46:38.174764Z",
     "iopub.status.busy": "2022-10-27T14:46:38.173994Z",
     "iopub.status.idle": "2022-10-27T14:46:38.187599Z",
     "shell.execute_reply": "2022-10-27T14:46:38.186424Z"
    },
    "papermill": {
     "duration": 0.026242,
     "end_time": "2022-10-27T14:46:38.190161",
     "exception": false,
     "start_time": "2022-10-27T14:46:38.163919",
     "status": "completed"
    },
    "tags": []
   },
   "outputs": [
    {
     "data": {
      "text/html": [
       "<div>\n",
       "<style scoped>\n",
       "    .dataframe tbody tr th:only-of-type {\n",
       "        vertical-align: middle;\n",
       "    }\n",
       "\n",
       "    .dataframe tbody tr th {\n",
       "        vertical-align: top;\n",
       "    }\n",
       "\n",
       "    .dataframe thead th {\n",
       "        text-align: right;\n",
       "    }\n",
       "</style>\n",
       "<table border=\"1\" class=\"dataframe\">\n",
       "  <thead>\n",
       "    <tr style=\"text-align: right;\">\n",
       "      <th></th>\n",
       "      <th>COMPANY NAME</th>\n",
       "      <th>CITY</th>\n",
       "      <th>STATE/PROVINCE</th>\n",
       "      <th>OWNER/MAKER</th>\n",
       "      <th>COUNTRY</th>\n",
       "    </tr>\n",
       "  </thead>\n",
       "  <tbody>\n",
       "    <tr>\n",
       "      <th>0</th>\n",
       "      <td>Choklat</td>\n",
       "      <td>Calgary</td>\n",
       "      <td>Alberta</td>\n",
       "      <td>Brad Churchill</td>\n",
       "      <td>Canada</td>\n",
       "    </tr>\n",
       "    <tr>\n",
       "      <th>1</th>\n",
       "      <td>Yukon Chocolate Company</td>\n",
       "      <td>Calgary</td>\n",
       "      <td>Alberta</td>\n",
       "      <td>Sydney Oland</td>\n",
       "      <td>Canada</td>\n",
       "    </tr>\n",
       "    <tr>\n",
       "      <th>2</th>\n",
       "      <td>Kin+Pod</td>\n",
       "      <td>Calgary</td>\n",
       "      <td>Alberta</td>\n",
       "      <td>Georden Spicer</td>\n",
       "      <td>Canada</td>\n",
       "    </tr>\n",
       "    <tr>\n",
       "      <th>3</th>\n",
       "      <td>Goldie</td>\n",
       "      <td>Calgary</td>\n",
       "      <td>Alberta</td>\n",
       "      <td>Amy Horne (instagram)</td>\n",
       "      <td>Canada</td>\n",
       "    </tr>\n",
       "    <tr>\n",
       "      <th>4</th>\n",
       "      <td>Moth Chocolate</td>\n",
       "      <td>Calgary</td>\n",
       "      <td>Alberta</td>\n",
       "      <td>Geordan Spicer (mothchocolate.com)</td>\n",
       "      <td>Canada</td>\n",
       "    </tr>\n",
       "    <tr>\n",
       "      <th>5</th>\n",
       "      <td>Ten Degrees</td>\n",
       "      <td>Calgary</td>\n",
       "      <td>Alberta</td>\n",
       "      <td>Mark, Michele Scott, Bianca</td>\n",
       "      <td>Canada</td>\n",
       "    </tr>\n",
       "    <tr>\n",
       "      <th>6</th>\n",
       "      <td>The Jones Chocolate Co.</td>\n",
       "      <td>Edmonton</td>\n",
       "      <td>Alberta</td>\n",
       "      <td>Curtis Jones</td>\n",
       "      <td>Canada</td>\n",
       "    </tr>\n",
       "    <tr>\n",
       "      <th>7</th>\n",
       "      <td>Au Chocolat</td>\n",
       "      <td>Morinville</td>\n",
       "      <td>Alberta</td>\n",
       "      <td>Tammy MacDonald</td>\n",
       "      <td>Canada</td>\n",
       "    </tr>\n",
       "    <tr>\n",
       "      <th>8</th>\n",
       "      <td>Jacek</td>\n",
       "      <td>Sherwood Park</td>\n",
       "      <td>Alberta</td>\n",
       "      <td>Jacqueline Jacek, Curtis Jones</td>\n",
       "      <td>Canada</td>\n",
       "    </tr>\n",
       "    <tr>\n",
       "      <th>9</th>\n",
       "      <td>Take a Fancy</td>\n",
       "      <td>Burnaby</td>\n",
       "      <td>British Columbia</td>\n",
       "      <td>Becks D'Angelo</td>\n",
       "      <td>Canada</td>\n",
       "    </tr>\n",
       "  </tbody>\n",
       "</table>\n",
       "</div>"
      ],
      "text/plain": [
       "              COMPANY NAME           CITY    STATE/PROVINCE  \\\n",
       "0                  Choklat        Calgary           Alberta   \n",
       "1  Yukon Chocolate Company        Calgary           Alberta   \n",
       "2                  Kin+Pod        Calgary           Alberta   \n",
       "3                   Goldie        Calgary           Alberta   \n",
       "4           Moth Chocolate        Calgary           Alberta   \n",
       "5              Ten Degrees        Calgary           Alberta   \n",
       "6  The Jones Chocolate Co.       Edmonton           Alberta   \n",
       "7              Au Chocolat     Morinville           Alberta   \n",
       "8                    Jacek  Sherwood Park           Alberta   \n",
       "9             Take a Fancy        Burnaby  British Columbia   \n",
       "\n",
       "                          OWNER/MAKER COUNTRY  \n",
       "0                      Brad Churchill  Canada  \n",
       "1                        Sydney Oland  Canada  \n",
       "2                      Georden Spicer  Canada  \n",
       "3               Amy Horne (instagram)  Canada  \n",
       "4  Geordan Spicer (mothchocolate.com)  Canada  \n",
       "5         Mark, Michele Scott, Bianca  Canada  \n",
       "6                        Curtis Jones  Canada  \n",
       "7                     Tammy MacDonald  Canada  \n",
       "8      Jacqueline Jacek, Curtis Jones  Canada  \n",
       "9                      Becks D'Angelo  Canada  "
      ]
     },
     "execution_count": 5,
     "metadata": {},
     "output_type": "execute_result"
    }
   ],
   "source": [
    "makerdf.head(10)"
   ]
  },
  {
   "cell_type": "markdown",
   "id": "17b741de",
   "metadata": {
    "papermill": {
     "duration": 0.007465,
     "end_time": "2022-10-27T14:46:38.204449",
     "exception": false,
     "start_time": "2022-10-27T14:46:38.196984",
     "status": "completed"
    },
    "tags": []
   },
   "source": [
    "**Basic information about the data**"
   ]
  },
  {
   "cell_type": "code",
   "execution_count": 6,
   "id": "2e7887fe",
   "metadata": {
    "execution": {
     "iopub.execute_input": "2022-10-27T14:46:38.221511Z",
     "iopub.status.busy": "2022-10-27T14:46:38.220932Z",
     "iopub.status.idle": "2022-10-27T14:46:38.249464Z",
     "shell.execute_reply": "2022-10-27T14:46:38.247482Z"
    },
    "papermill": {
     "duration": 0.040643,
     "end_time": "2022-10-27T14:46:38.252206",
     "exception": false,
     "start_time": "2022-10-27T14:46:38.211563",
     "status": "completed"
    },
    "tags": []
   },
   "outputs": [
    {
     "name": "stdout",
     "output_type": "stream",
     "text": [
      "Number of Instances: 2530\n",
      "Number of Features: 10\n",
      "\n",
      "Summary:\n",
      "               REF  Review Date       Rating\n",
      "count  2530.000000  2530.000000  2530.000000\n",
      "mean   1429.800791  2014.374308     3.196344\n",
      "std     757.648556     3.968267     0.445321\n",
      "min       5.000000  2006.000000     1.000000\n",
      "25%     802.000000  2012.000000     3.000000\n",
      "50%    1454.000000  2015.000000     3.250000\n",
      "75%    2079.000000  2018.000000     3.500000\n",
      "max    2712.000000  2021.000000     4.000000\n",
      "\n",
      "Missing Values:\n",
      "REF                                  0\n",
      "Company (Manufacturer)               0\n",
      "Company Location                     0\n",
      "Review Date                          0\n",
      "Country of Bean Origin               0\n",
      "Specific Bean Origin or Bar Name     0\n",
      "Cocoa Percent                        0\n",
      "Ingredients                         87\n",
      "Most Memorable Characteristics       0\n",
      "Rating                               0\n",
      "dtype: int64\n"
     ]
    }
   ],
   "source": [
    "def info(df):\n",
    "    \n",
    "    # Shape of the dataframe\n",
    "    print(\"Number of Instances:\",df.shape[0])\n",
    "    print(\"Number of Features:\",df.shape[1])\n",
    "    \n",
    "    # Summary Stats\n",
    "    print(\"\\nSummary:\")\n",
    "    print(df.describe())\n",
    "    \n",
    "    # Missing Value Inspection\n",
    "    print(\"\\nMissing Values:\")\n",
    "    print(df.isna().sum())\n",
    "\n",
    "info(df)"
   ]
  },
  {
   "cell_type": "markdown",
   "id": "91da61b9",
   "metadata": {
    "papermill": {
     "duration": 0.006733,
     "end_time": "2022-10-27T14:46:38.266600",
     "exception": false,
     "start_time": "2022-10-27T14:46:38.259867",
     "status": "completed"
    },
    "tags": []
   },
   "source": [
    "**Making changes to make the data more readable**"
   ]
  },
  {
   "cell_type": "code",
   "execution_count": 7,
   "id": "c443371d",
   "metadata": {
    "execution": {
     "iopub.execute_input": "2022-10-27T14:46:38.283375Z",
     "iopub.status.busy": "2022-10-27T14:46:38.282270Z",
     "iopub.status.idle": "2022-10-27T14:46:38.300936Z",
     "shell.execute_reply": "2022-10-27T14:46:38.298333Z"
    },
    "papermill": {
     "duration": 0.030157,
     "end_time": "2022-10-27T14:46:38.303838",
     "exception": false,
     "start_time": "2022-10-27T14:46:38.273681",
     "status": "completed"
    },
    "tags": []
   },
   "outputs": [
    {
     "name": "stdout",
     "output_type": "stream",
     "text": [
      "Feature Names before Cleaning:\n",
      "['REF', 'Company (Manufacturer)', 'Company Location', 'Review Date', 'Country of Bean Origin', 'Specific Bean Origin or Bar Name', 'Cocoa Percent', 'Ingredients', 'Most Memorable Characteristics', 'Rating']\n",
      "\n",
      "Feature Names after Cleaning:\n",
      "['ref', 'company_(manufacturer)', 'company_location', 'review_date', 'country_of_bean_origin', 'specific_bean_origin_or_bar_name', 'cocoa_percent', 'ingredients', 'most_memorable_characteristics', 'rating']\n"
     ]
    },
    {
     "data": {
      "text/plain": [
       "company                               int64\n",
       "company_(manufacturer)               object\n",
       "company_location                     object\n",
       "review_date                           int64\n",
       "country_of_bean_origin               object\n",
       "specific_bean_origin_or_bar_name     object\n",
       "cocoa_percent                        object\n",
       "ingredients                          object\n",
       "most_memorable_characteristics       object\n",
       "rating                              float64\n",
       "dtype: object"
      ]
     },
     "execution_count": 7,
     "metadata": {},
     "output_type": "execute_result"
    }
   ],
   "source": [
    "cols = list(df.columns)\n",
    "def rec_features(feature_names):\n",
    "    rec_feat = []\n",
    "    for f in feature_names:\n",
    "        rec_feat.append(((f.casefold()).replace(\"\\n\",\"_\")).replace(\" \",\"_\"))\n",
    "    return rec_feat\n",
    "\n",
    "print(\"Feature Names before Cleaning:\")\n",
    "print(cols)\n",
    "print(\"\\nFeature Names after Cleaning:\")\n",
    "print(rec_features(cols))\n",
    "\n",
    "# handling the feature name company\n",
    "new_feature_names = rec_features(cols)\n",
    "new_feature_names[0] = \"company\"\n",
    "\n",
    "# Re-assigning feature names\n",
    "df=df.rename(columns=dict(zip(df.columns,new_feature_names)))\n",
    "df.dtypes"
   ]
  },
  {
   "cell_type": "code",
   "execution_count": 8,
   "id": "1677d89c",
   "metadata": {
    "execution": {
     "iopub.execute_input": "2022-10-27T14:46:38.321502Z",
     "iopub.status.busy": "2022-10-27T14:46:38.320956Z",
     "iopub.status.idle": "2022-10-27T14:46:38.330835Z",
     "shell.execute_reply": "2022-10-27T14:46:38.329468Z"
    },
    "papermill": {
     "duration": 0.022601,
     "end_time": "2022-10-27T14:46:38.333276",
     "exception": false,
     "start_time": "2022-10-27T14:46:38.310675",
     "status": "completed"
    },
    "tags": []
   },
   "outputs": [],
   "source": [
    "#Convert cocoa % to float\n",
    "df['cocoa_percent']=df['cocoa_percent'].str.replace('%','').astype(float)/100"
   ]
  },
  {
   "cell_type": "markdown",
   "id": "875f2d08",
   "metadata": {
    "papermill": {
     "duration": 0.006727,
     "end_time": "2022-10-27T14:46:38.346873",
     "exception": false,
     "start_time": "2022-10-27T14:46:38.340146",
     "status": "completed"
    },
    "tags": []
   },
   "source": [
    "**Exploring the Data**"
   ]
  },
  {
   "cell_type": "code",
   "execution_count": 9,
   "id": "e94279b3",
   "metadata": {
    "execution": {
     "iopub.execute_input": "2022-10-27T14:46:38.362383Z",
     "iopub.status.busy": "2022-10-27T14:46:38.361731Z",
     "iopub.status.idle": "2022-10-27T14:46:38.688380Z",
     "shell.execute_reply": "2022-10-27T14:46:38.686966Z"
    },
    "papermill": {
     "duration": 0.337531,
     "end_time": "2022-10-27T14:46:38.691091",
     "exception": false,
     "start_time": "2022-10-27T14:46:38.353560",
     "status": "completed"
    },
    "tags": []
   },
   "outputs": [
    {
     "data": {
      "image/png": "[encoded data removed]",
      "text/plain": [
       "<Figure size 1080x288 with 1 Axes>"
      ]
     },
     "metadata": {},
     "output_type": "display_data"
    }
   ],
   "source": [
    "#Lets check with Cocoa %\n",
    "import seaborn as sns\n",
    "dcoco = df.groupby('review_date').aggregate({'cocoa_percent':'mean'})\n",
    "dcoco = dcoco.reset_index()\n",
    "\n",
    "# Plotting\n",
    "sns.set()\n",
    "plt.figure(figsize=(15, 4))\n",
    "ax = sns.lineplot(x='review_date', y='cocoa_percent', data=dcoco)\n",
    "ax.set(xticks=dcoco.review_date.values)\n",
    "plt.xlabel(\"\\nDate of Review\")\n",
    "plt.ylabel(\"Average Cocoa Percentage\")\n",
    "plt.title(\"Cocoa Percentage patterns over the years \\n\")\n",
    "plt.show()\n"
   ]
  },
  {
   "cell_type": "code",
   "execution_count": 10,
   "id": "3bc672ff",
   "metadata": {
    "execution": {
     "iopub.execute_input": "2022-10-27T14:46:38.710829Z",
     "iopub.status.busy": "2022-10-27T14:46:38.710047Z",
     "iopub.status.idle": "2022-10-27T14:46:39.001056Z",
     "shell.execute_reply": "2022-10-27T14:46:38.999952Z"
    },
    "papermill": {
     "duration": 0.303648,
     "end_time": "2022-10-27T14:46:39.003507",
     "exception": false,
     "start_time": "2022-10-27T14:46:38.699859",
     "status": "completed"
    },
    "tags": []
   },
   "outputs": [
    {
     "data": {
      "image/png": "[encoded data removed]",
      "text/plain": [
       "<Figure size 1080x288 with 1 Axes>"
      ]
     },
     "metadata": {},
     "output_type": "display_data"
    }
   ],
   "source": [
    "#Now lets check the change of rating of chocolate\n",
    "drate = df.groupby('review_date').aggregate({'rating':'mean'})\n",
    "drate = drate.reset_index()\n",
    "\n",
    "# Plotting\n",
    "sns.set()\n",
    "plt.figure(figsize=(15, 4))\n",
    "ax = sns.lineplot(x='review_date', y='rating', data=drate)\n",
    "ax.set(xticks=drate.review_date.values)\n",
    "plt.xlabel(\"\\nDate of Review\")\n",
    "plt.ylabel(\"Average Rating\")\n",
    "plt.title(\"Average Rating over the years \\n\")\n",
    "plt.show()"
   ]
  },
  {
   "cell_type": "markdown",
   "id": "f0579d13",
   "metadata": {
    "papermill": {
     "duration": 0.007835,
     "end_time": "2022-10-27T14:46:39.019636",
     "exception": false,
     "start_time": "2022-10-27T14:46:39.011801",
     "status": "completed"
    },
    "tags": []
   },
   "source": [
    "From this we can notice that 2008 and 2009 has large declination of the rating of chocolate and thats when the companies tried experimenting and tried adding more cocoa in the chocolate"
   ]
  },
  {
   "cell_type": "code",
   "execution_count": 11,
   "id": "e29cb843",
   "metadata": {
    "execution": {
     "iopub.execute_input": "2022-10-27T14:46:39.037696Z",
     "iopub.status.busy": "2022-10-27T14:46:39.037264Z",
     "iopub.status.idle": "2022-10-27T14:46:39.278387Z",
     "shell.execute_reply": "2022-10-27T14:46:39.277103Z"
    },
    "papermill": {
     "duration": 0.253467,
     "end_time": "2022-10-27T14:46:39.281159",
     "exception": false,
     "start_time": "2022-10-27T14:46:39.027692",
     "status": "completed"
    },
    "tags": []
   },
   "outputs": [
    {
     "data": {
      "image/png": "[encoded data removed]",
      "text/plain": [
       "<Figure size 864x288 with 1 Axes>"
      ]
     },
     "metadata": {},
     "output_type": "display_data"
    }
   ],
   "source": [
    "top5company = df['company_location'].value_counts()[0:5]\n",
    "plt.figure(figsize=(12,4))\n",
    "top5company.plot(kind='bar')\n",
    "plt.title('Top 5 Company Location')\n",
    "plt.grid()\n",
    "plt.show()\n"
   ]
  },
  {
   "cell_type": "markdown",
   "id": "03ebb837",
   "metadata": {
    "papermill": {
     "duration": 0.008868,
     "end_time": "2022-10-27T14:46:39.299043",
     "exception": false,
     "start_time": "2022-10-27T14:46:39.290175",
     "status": "completed"
    },
    "tags": []
   },
   "source": [
    "USA stands first in company location"
   ]
  },
  {
   "cell_type": "code",
   "execution_count": 12,
   "id": "79d71f89",
   "metadata": {
    "execution": {
     "iopub.execute_input": "2022-10-27T14:46:39.319502Z",
     "iopub.status.busy": "2022-10-27T14:46:39.318101Z",
     "iopub.status.idle": "2022-10-27T14:46:39.714828Z",
     "shell.execute_reply": "2022-10-27T14:46:39.713557Z"
    },
    "papermill": {
     "duration": 0.409526,
     "end_time": "2022-10-27T14:46:39.717258",
     "exception": false,
     "start_time": "2022-10-27T14:46:39.307732",
     "status": "completed"
    },
    "tags": []
   },
   "outputs": [
    {
     "data": {
      "image/png": "[encoded data removed]",
      "text/plain": [
       "<Figure size 1080x288 with 1 Axes>"
      ]
     },
     "metadata": {},
     "output_type": "display_data"
    }
   ],
   "source": [
    "#Trying to find the rating by Company Location\n",
    "temp_list = top5company.index.tolist()\n",
    "df_temp = df[df['company_location'].isin(temp_list)]\n",
    "\n",
    "plt.figure(figsize=(15,4))\n",
    "sns.lineplot(data = df_temp, x='company_location', y='rating')\n",
    "plt.title('Rating by Company Location')\n",
    "#plt.xticks(rotation=90)\n",
    "plt.grid()\n",
    "plt.show()"
   ]
  },
  {
   "cell_type": "code",
   "execution_count": 13,
   "id": "d446207d",
   "metadata": {
    "execution": {
     "iopub.execute_input": "2022-10-27T14:46:39.737465Z",
     "iopub.status.busy": "2022-10-27T14:46:39.737067Z",
     "iopub.status.idle": "2022-10-27T14:46:40.064089Z",
     "shell.execute_reply": "2022-10-27T14:46:40.062874Z"
    },
    "papermill": {
     "duration": 0.340362,
     "end_time": "2022-10-27T14:46:40.066741",
     "exception": false,
     "start_time": "2022-10-27T14:46:39.726379",
     "status": "completed"
    },
    "tags": []
   },
   "outputs": [
    {
     "name": "stdout",
     "output_type": "stream",
     "text": [
      "Rating: 3.5 Reviews: 565\n",
      "Rating: 3.0 Reviews: 523\n",
      "Rating: 3.25 Reviews: 464\n",
      "Rating: 2.75 Reviews: 333\n",
      "Rating: 3.75 Reviews: 300\n",
      "Rating: 2.5 Reviews: 166\n",
      "Rating: 4.0 Reviews: 112\n",
      "Rating: 2.0 Reviews: 33\n",
      "Rating: 2.25 Reviews: 17\n",
      "Rating: 1.5 Reviews: 10\n",
      "Rating: 1.0 Reviews: 4\n",
      "Rating: 1.75 Reviews: 3\n"
     ]
    },
    {
     "data": {
      "image/png": "[encoded data removed]",
      "text/plain": [
       "<Figure size 720x360 with 1 Axes>"
      ]
     },
     "metadata": {},
     "output_type": "display_data"
    }
   ],
   "source": [
    "# The counts of each rating\n",
    "r=list(df['rating'].value_counts())\n",
    "rating=df['rating'].value_counts().index.tolist()\n",
    "rat=dict(zip(rating,r))\n",
    "for key,val in rat.items():\n",
    "    print ('Rating:',key,'Reviews:',val)\n",
    "plt.figure(figsize=(10,5))\n",
    "sns.countplot(x='rating',data=df)\n",
    "plt.xlabel('Rating of chocolate bar',size=12,color='blue')\n",
    "plt.ylabel('Number of Chocolate bars',size=12,color='blue')\n",
    "plt.show()"
   ]
  },
  {
   "cell_type": "code",
   "execution_count": 14,
   "id": "df98d3ab",
   "metadata": {
    "execution": {
     "iopub.execute_input": "2022-10-27T14:46:40.088342Z",
     "iopub.status.busy": "2022-10-27T14:46:40.087942Z",
     "iopub.status.idle": "2022-10-27T14:46:40.362620Z",
     "shell.execute_reply": "2022-10-27T14:46:40.361420Z"
    },
    "papermill": {
     "duration": 0.28848,
     "end_time": "2022-10-27T14:46:40.365126",
     "exception": false,
     "start_time": "2022-10-27T14:46:40.076646",
     "status": "completed"
    },
    "tags": []
   },
   "outputs": [
    {
     "name": "stdout",
     "output_type": "stream",
     "text": [
      "Top Chocolate Producing Countries in the World\n",
      "\n",
      "U.S.A.    1136\n",
      "Canada     177\n",
      "France     176\n",
      "U.K.       133\n",
      "Italy       78\n",
      "Name: company_location, dtype: int64\n"
     ]
    },
    {
     "data": {
      "image/png": "[encoded data removed]",
      "text/plain": [
       "<Figure size 720x360 with 1 Axes>"
      ]
     },
     "metadata": {},
     "output_type": "display_data"
    }
   ],
   "source": [
    "print ('Top Chocolate Producing Countries in the World\\n')\n",
    "country=list(df['company_location'].value_counts().head(5).index)\n",
    "choco_bars=list(df['company_location'].value_counts().head(5))\n",
    "prod_ctry=dict(zip(country,choco_bars))\n",
    "print(df['company_location'].value_counts().head())\n",
    "\n",
    "plt.figure(figsize=(10,5))\n",
    "plt.hlines(y=country,xmin=0,xmax=choco_bars,color='skyblue')\n",
    "plt.plot(choco_bars,country,\"o\")\n",
    "plt.xlabel('Country')\n",
    "plt.ylabel('Number of chocolate bars')\n",
    "plt.title(\"Top Chocolate Producing Countries in the World\")\n",
    "plt.show()"
   ]
  },
  {
   "cell_type": "code",
   "execution_count": 15,
   "id": "cd2dd403",
   "metadata": {
    "execution": {
     "iopub.execute_input": "2022-10-27T14:46:40.389143Z",
     "iopub.status.busy": "2022-10-27T14:46:40.388736Z",
     "iopub.status.idle": "2022-10-27T14:46:40.639748Z",
     "shell.execute_reply": "2022-10-27T14:46:40.638405Z"
    },
    "papermill": {
     "duration": 0.267117,
     "end_time": "2022-10-27T14:46:40.643463",
     "exception": false,
     "start_time": "2022-10-27T14:46:40.376346",
     "status": "completed"
    },
    "tags": []
   },
   "outputs": [
    {
     "data": {
      "image/png": "[encoded data removed]",
      "text/plain": [
       "<Figure size 432x288 with 1 Axes>"
      ]
     },
     "metadata": {},
     "output_type": "display_data"
    },
    {
     "name": "stdout",
     "output_type": "stream",
     "text": [
      "{'U.S.A.': 42, 'Canada': 15, 'France': 18, 'U.K.': 4, 'Italy': 4}\n"
     ]
    }
   ],
   "source": [
    "countries=country\n",
    "best_choc={}\n",
    "for j in countries:\n",
    "    c=0\n",
    "    b=df[df['company_location']==j]\n",
    "    br=b[b['rating']>=4] \n",
    "    for i in br['rating']:\n",
    "        c+=1\n",
    "        best_choc[j]=c    \n",
    "\n",
    "\n",
    "li=best_choc.keys()\n",
    "# The lollipop plot\n",
    "plt.hlines(y=li,xmin=0,xmax=best_choc.values(),color='pink')\n",
    "plt.plot(best_choc.values(),li,\"o\")\n",
    "plt.xlabel('Country')\n",
    "plt.ylabel('Number of chocolates')\n",
    "plt.title(\"Top Chocolate Producing Countries in the World (Ratings above 4.0)\")\n",
    "plt.show()\n",
    "print(best_choc)"
   ]
  },
  {
   "cell_type": "markdown",
   "id": "b67cb755",
   "metadata": {
    "papermill": {
     "duration": 0.011415,
     "end_time": "2022-10-27T14:46:40.666909",
     "exception": false,
     "start_time": "2022-10-27T14:46:40.655494",
     "status": "completed"
    },
    "tags": []
   },
   "source": [
    "USA is the top chocolate producing country and also highest rating chocolates"
   ]
  }
 ],
 "metadata": {
  "kernelspec": {
   "display_name": "Python 3",
   "language": "python",
   "name": "python3"
  },
  "language_info": {
   "codemirror_mode": {
    "name": "ipython",
    "version": 3
   },
   "file_extension": ".py",
   "mimetype": "text/x-python",
   "name": "python",
   "nbconvert_exporter": "python",
   "pygments_lexer": "ipython3",
   "version": "3.7.12"
  },
  "papermill": {
   "default_parameters": {},
   "duration": 13.903306,
   "end_time": "2022-10-27T14:46:41.500092",
   "environment_variables": {},
   "exception": null,
   "input_path": "__notebook__.ipynb",
   "output_path": "__notebook__.ipynb",
   "parameters": {},
   "start_time": "2022-10-27T14:46:27.596786",
   "version": "2.3.4"
  }
 },
 "nbformat": 4,
 "nbformat_minor": 5
}
