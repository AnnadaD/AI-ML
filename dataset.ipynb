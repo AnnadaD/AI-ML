{
 "cells": [
  {
   "cell_type": "code",
   "execution_count": 1,
   "id": "628e7ab1",
   "metadata": {
    "_cell_guid": "b1076dfc-b9ad-4769-8c92-a6c4dae69d19",
    "_uuid": "8f2839f25d086af736a60e9eeb907d3b93b6e0e5",
    "execution": {
     "iopub.execute_input": "2022-10-27T14:40:48.218566Z",
     "iopub.status.busy": "2022-10-27T14:40:48.218067Z",
     "iopub.status.idle": "2022-10-27T14:40:48.236847Z",
     "shell.execute_reply": "2022-10-27T14:40:48.235366Z"
    },
    "papermill": {
     "duration": 0.029236,
     "end_time": "2022-10-27T14:40:48.239862",
     "exception": false,
     "start_time": "2022-10-27T14:40:48.210626",
     "status": "completed"
    },
    "tags": []
   },
   "outputs": [
    {
     "name": "stdout",
     "output_type": "stream",
     "text": [
      "/kaggle/input/chocolate-ratings/chocolate_makers.csv\n",
      "/kaggle/input/chocolate-ratings/chocolate_ratings.csv\n"
     ]
    }
   ],
   "source": [
    "# This Python 3 environment comes with many helpful analytics libraries installed\n",
    "# It is defined by the kaggle/python Docker image: https://github.com/kaggle/docker-python\n",
    "# For example, here's several helpful packages to load\n",
    "\n",
    "import numpy as np # linear algebra\n",
    "import pandas as pd # data processing, CSV file I/O (e.g. pd.read_csv)\n",
    "\n",
    "# Input data files are available in the read-only \"../input/\" directory\n",
    "# For example, running this (by clicking run or pressing Shift+Enter) will list all files under the input directory\n",
    "\n",
    "import os\n",
    "for dirname, _, filenames in os.walk('/kaggle/input'):\n",
    "    for filename in filenames:\n",
    "        print(os.path.join(dirname, filename))\n",
    "\n",
    "# You can write up to 20GB to the current directory (/kaggle/working/) that gets preserved as output when you create a version using \"Save & Run All\" \n",
    "# You can also write temporary files to /kaggle/temp/, but they won't be saved outside of the current session"
   ]
  },
  {
   "cell_type": "markdown",
   "id": "ec0c0f8b",
   "metadata": {
    "papermill": {
     "duration": 0.003575,
     "end_time": "2022-10-27T14:40:48.247642",
     "exception": false,
     "start_time": "2022-10-27T14:40:48.244067",
     "status": "completed"
    },
    "tags": []
   },
   "source": [
    "**Importing Libraries**"
   ]
  },
  {
   "cell_type": "code",
   "execution_count": 2,
   "id": "7f366d12",
   "metadata": {
    "execution": {
     "iopub.execute_input": "2022-10-27T14:40:48.257607Z",
     "iopub.status.busy": "2022-10-27T14:40:48.257155Z",
     "iopub.status.idle": "2022-10-27T14:40:49.554304Z",
     "shell.execute_reply": "2022-10-27T14:40:49.552707Z"
    },
    "papermill": {
     "duration": 1.305958,
     "end_time": "2022-10-27T14:40:49.557574",
     "exception": false,
     "start_time": "2022-10-27T14:40:48.251616",
     "status": "completed"
    },
    "tags": []
   },
   "outputs": [],
   "source": [
    "import numpy as np \n",
    "import pandas as pd \n",
    "import seaborn as sns\n",
    "import matplotlib.pyplot as plt"
   ]
  },
  {
   "cell_type": "markdown",
   "id": "1e86cd7a",
   "metadata": {
    "papermill": {
     "duration": 0.003503,
     "end_time": "2022-10-27T14:40:49.565152",
     "exception": false,
     "start_time": "2022-10-27T14:40:49.561649",
     "status": "completed"
    },
    "tags": []
   },
   "source": [
    "**Loading the Dataset**"
   ]
  },
  {
   "cell_type": "code",
   "execution_count": 3,
   "id": "8fd915b9",
   "metadata": {
    "execution": {
     "iopub.execute_input": "2022-10-27T14:40:49.574621Z",
     "iopub.status.busy": "2022-10-27T14:40:49.574195Z",
     "iopub.status.idle": "2022-10-27T14:40:49.636520Z",
     "shell.execute_reply": "2022-10-27T14:40:49.634874Z"
    },
    "papermill": {
     "duration": 0.070382,
     "end_time": "2022-10-27T14:40:49.639375",
     "exception": false,
     "start_time": "2022-10-27T14:40:49.568993",
     "status": "completed"
    },
    "tags": []
   },
   "outputs": [
    {
     "name": "stdout",
     "output_type": "stream",
     "text": [
      "<class 'pandas.core.frame.DataFrame'>\n",
      "RangeIndex: 2530 entries, 0 to 2529\n",
      "Data columns (total 10 columns):\n",
      " #   Column                            Non-Null Count  Dtype  \n",
      "---  ------                            --------------  -----  \n",
      " 0   REF                               2530 non-null   int64  \n",
      " 1   Company (Manufacturer)            2530 non-null   object \n",
      " 2   Company Location                  2530 non-null   object \n",
      " 3   Review Date                       2530 non-null   int64  \n",
      " 4   Country of Bean Origin            2530 non-null   object \n",
      " 5   Specific Bean Origin or Bar Name  2530 non-null   object \n",
      " 6   Cocoa Percent                     2530 non-null   object \n",
      " 7   Ingredients                       2443 non-null   object \n",
      " 8   Most Memorable Characteristics    2530 non-null   object \n",
      " 9   Rating                            2530 non-null   float64\n",
      "dtypes: float64(1), int64(2), object(7)\n",
      "memory usage: 197.8+ KB\n"
     ]
    }
   ],
   "source": [
    "df = pd.read_csv('../input/chocolate-ratings/chocolate_ratings.csv')\n",
    "makerdf = pd.read_csv('../input/chocolate-ratings/chocolate_makers.csv')\n",
    "df.info()\n"
   ]
  },
  {
   "cell_type": "markdown",
   "id": "cad857db",
   "metadata": {
    "papermill": {
     "duration": 0.003865,
     "end_time": "2022-10-27T14:40:49.647540",
     "exception": false,
     "start_time": "2022-10-27T14:40:49.643675",
     "status": "completed"
    },
    "tags": []
   },
   "source": [
    "**Checking the data**"
   ]
  },
  {
   "cell_type": "code",
   "execution_count": 4,
   "id": "f2839f80",
   "metadata": {
    "execution": {
     "iopub.execute_input": "2022-10-27T14:40:49.657747Z",
     "iopub.status.busy": "2022-10-27T14:40:49.657115Z",
     "iopub.status.idle": "2022-10-27T14:40:49.681107Z",
     "shell.execute_reply": "2022-10-27T14:40:49.679745Z"
    },
    "papermill": {
     "duration": 0.032282,
     "end_time": "2022-10-27T14:40:49.683837",
     "exception": false,
     "start_time": "2022-10-27T14:40:49.651555",
     "status": "completed"
    },
    "tags": []
   },
   "outputs": [
    {
     "data": {
      "text/html": [
       "<div>\n",
       "<style scoped>\n",
       "    .dataframe tbody tr th:only-of-type {\n",
       "        vertical-align: middle;\n",
       "    }\n",
       "\n",
       "    .dataframe tbody tr th {\n",
       "        vertical-align: top;\n",
       "    }\n",
       "\n",
       "    .dataframe thead th {\n",
       "        text-align: right;\n",
       "    }\n",
       "</style>\n",
       "<table border=\"1\" class=\"dataframe\">\n",
       "  <thead>\n",
       "    <tr style=\"text-align: right;\">\n",
       "      <th></th>\n",
       "      <th>REF</th>\n",
       "      <th>Company (Manufacturer)</th>\n",
       "      <th>Company Location</th>\n",
       "      <th>Review Date</th>\n",
       "      <th>Country of Bean Origin</th>\n",
       "      <th>Specific Bean Origin or Bar Name</th>\n",
       "      <th>Cocoa Percent</th>\n",
       "      <th>Ingredients</th>\n",
       "      <th>Most Memorable Characteristics</th>\n",
       "      <th>Rating</th>\n",
       "    </tr>\n",
       "  </thead>\n",
       "  <tbody>\n",
       "    <tr>\n",
       "      <th>0</th>\n",
       "      <td>2454</td>\n",
       "      <td>5150</td>\n",
       "      <td>U.S.A.</td>\n",
       "      <td>2019</td>\n",
       "      <td>Tanzania</td>\n",
       "      <td>Kokoa Kamili, batch 1</td>\n",
       "      <td>76%</td>\n",
       "      <td>3- B,S,C</td>\n",
       "      <td>rich cocoa, fatty, bready</td>\n",
       "      <td>3.25</td>\n",
       "    </tr>\n",
       "    <tr>\n",
       "      <th>1</th>\n",
       "      <td>2458</td>\n",
       "      <td>5150</td>\n",
       "      <td>U.S.A.</td>\n",
       "      <td>2019</td>\n",
       "      <td>Dominican Republic</td>\n",
       "      <td>Zorzal, batch 1</td>\n",
       "      <td>76%</td>\n",
       "      <td>3- B,S,C</td>\n",
       "      <td>cocoa, vegetal, savory</td>\n",
       "      <td>3.50</td>\n",
       "    </tr>\n",
       "    <tr>\n",
       "      <th>2</th>\n",
       "      <td>2454</td>\n",
       "      <td>5150</td>\n",
       "      <td>U.S.A.</td>\n",
       "      <td>2019</td>\n",
       "      <td>Madagascar</td>\n",
       "      <td>Bejofo Estate, batch 1</td>\n",
       "      <td>76%</td>\n",
       "      <td>3- B,S,C</td>\n",
       "      <td>cocoa, blackberry, full body</td>\n",
       "      <td>3.75</td>\n",
       "    </tr>\n",
       "    <tr>\n",
       "      <th>3</th>\n",
       "      <td>2542</td>\n",
       "      <td>5150</td>\n",
       "      <td>U.S.A.</td>\n",
       "      <td>2021</td>\n",
       "      <td>Fiji</td>\n",
       "      <td>Matasawalevu, batch 1</td>\n",
       "      <td>68%</td>\n",
       "      <td>3- B,S,C</td>\n",
       "      <td>chewy, off, rubbery</td>\n",
       "      <td>3.00</td>\n",
       "    </tr>\n",
       "    <tr>\n",
       "      <th>4</th>\n",
       "      <td>2546</td>\n",
       "      <td>5150</td>\n",
       "      <td>U.S.A.</td>\n",
       "      <td>2021</td>\n",
       "      <td>Venezuela</td>\n",
       "      <td>Sur del Lago, batch 1</td>\n",
       "      <td>72%</td>\n",
       "      <td>3- B,S,C</td>\n",
       "      <td>fatty, earthy, moss, nutty,chalky</td>\n",
       "      <td>3.00</td>\n",
       "    </tr>\n",
       "    <tr>\n",
       "      <th>5</th>\n",
       "      <td>2546</td>\n",
       "      <td>5150</td>\n",
       "      <td>U.S.A.</td>\n",
       "      <td>2021</td>\n",
       "      <td>Uganda</td>\n",
       "      <td>Semuliki Forest, batch 1</td>\n",
       "      <td>80%</td>\n",
       "      <td>3- B,S,C</td>\n",
       "      <td>mildly bitter, basic cocoa, fatty</td>\n",
       "      <td>3.25</td>\n",
       "    </tr>\n",
       "    <tr>\n",
       "      <th>6</th>\n",
       "      <td>2542</td>\n",
       "      <td>5150</td>\n",
       "      <td>U.S.A.</td>\n",
       "      <td>2021</td>\n",
       "      <td>India</td>\n",
       "      <td>Anamalai, batch 1</td>\n",
       "      <td>68%</td>\n",
       "      <td>3- B,S,C</td>\n",
       "      <td>milk brownie, macadamia,chewy</td>\n",
       "      <td>3.50</td>\n",
       "    </tr>\n",
       "    <tr>\n",
       "      <th>7</th>\n",
       "      <td>797</td>\n",
       "      <td>A. Morin</td>\n",
       "      <td>France</td>\n",
       "      <td>2012</td>\n",
       "      <td>Bolivia</td>\n",
       "      <td>Bolivia</td>\n",
       "      <td>70%</td>\n",
       "      <td>4- B,S,C,L</td>\n",
       "      <td>vegetal, nutty</td>\n",
       "      <td>3.50</td>\n",
       "    </tr>\n",
       "    <tr>\n",
       "      <th>8</th>\n",
       "      <td>797</td>\n",
       "      <td>A. Morin</td>\n",
       "      <td>France</td>\n",
       "      <td>2012</td>\n",
       "      <td>Peru</td>\n",
       "      <td>Peru</td>\n",
       "      <td>63%</td>\n",
       "      <td>4- B,S,C,L</td>\n",
       "      <td>fruity, melon, roasty</td>\n",
       "      <td>3.75</td>\n",
       "    </tr>\n",
       "    <tr>\n",
       "      <th>9</th>\n",
       "      <td>1011</td>\n",
       "      <td>A. Morin</td>\n",
       "      <td>France</td>\n",
       "      <td>2013</td>\n",
       "      <td>Panama</td>\n",
       "      <td>Panama</td>\n",
       "      <td>70%</td>\n",
       "      <td>4- B,S,C,L</td>\n",
       "      <td>brief fruit note, earthy, nutty</td>\n",
       "      <td>2.75</td>\n",
       "    </tr>\n",
       "  </tbody>\n",
       "</table>\n",
       "</div>"
      ],
      "text/plain": [
       "    REF Company (Manufacturer) Company Location  Review Date  \\\n",
       "0  2454                   5150           U.S.A.         2019   \n",
       "1  2458                   5150           U.S.A.         2019   \n",
       "2  2454                   5150           U.S.A.         2019   \n",
       "3  2542                   5150           U.S.A.         2021   \n",
       "4  2546                   5150           U.S.A.         2021   \n",
       "5  2546                   5150           U.S.A.         2021   \n",
       "6  2542                   5150           U.S.A.         2021   \n",
       "7   797               A. Morin           France         2012   \n",
       "8   797               A. Morin           France         2012   \n",
       "9  1011               A. Morin           France         2013   \n",
       "\n",
       "  Country of Bean Origin Specific Bean Origin or Bar Name Cocoa Percent  \\\n",
       "0               Tanzania            Kokoa Kamili, batch 1           76%   \n",
       "1     Dominican Republic                  Zorzal, batch 1           76%   \n",
       "2             Madagascar           Bejofo Estate, batch 1           76%   \n",
       "3                   Fiji            Matasawalevu, batch 1           68%   \n",
       "4              Venezuela            Sur del Lago, batch 1           72%   \n",
       "5                 Uganda         Semuliki Forest, batch 1           80%   \n",
       "6                  India                Anamalai, batch 1           68%   \n",
       "7                Bolivia                          Bolivia           70%   \n",
       "8                   Peru                             Peru           63%   \n",
       "9                 Panama                           Panama           70%   \n",
       "\n",
       "  Ingredients     Most Memorable Characteristics  Rating  \n",
       "0    3- B,S,C          rich cocoa, fatty, bready    3.25  \n",
       "1    3- B,S,C             cocoa, vegetal, savory    3.50  \n",
       "2    3- B,S,C       cocoa, blackberry, full body    3.75  \n",
       "3    3- B,S,C                chewy, off, rubbery    3.00  \n",
       "4    3- B,S,C  fatty, earthy, moss, nutty,chalky    3.00  \n",
       "5    3- B,S,C  mildly bitter, basic cocoa, fatty    3.25  \n",
       "6    3- B,S,C      milk brownie, macadamia,chewy    3.50  \n",
       "7  4- B,S,C,L                     vegetal, nutty    3.50  \n",
       "8  4- B,S,C,L              fruity, melon, roasty    3.75  \n",
       "9  4- B,S,C,L    brief fruit note, earthy, nutty    2.75  "
      ]
     },
     "execution_count": 4,
     "metadata": {},
     "output_type": "execute_result"
    }
   ],
   "source": [
    "df.head(10)"
   ]
  },
  {
   "cell_type": "code",
   "execution_count": 5,
   "id": "a9d7308b",
   "metadata": {
    "execution": {
     "iopub.execute_input": "2022-10-27T14:40:49.694895Z",
     "iopub.status.busy": "2022-10-27T14:40:49.694414Z",
     "iopub.status.idle": "2022-10-27T14:40:49.709449Z",
     "shell.execute_reply": "2022-10-27T14:40:49.707700Z"
    },
    "papermill": {
     "duration": 0.024088,
     "end_time": "2022-10-27T14:40:49.712460",
     "exception": false,
     "start_time": "2022-10-27T14:40:49.688372",
     "status": "completed"
    },
    "tags": []
   },
   "outputs": [
    {
     "data": {
      "text/html": [
       "<div>\n",
       "<style scoped>\n",
       "    .dataframe tbody tr th:only-of-type {\n",
       "        vertical-align: middle;\n",
       "    }\n",
       "\n",
       "    .dataframe tbody tr th {\n",
       "        vertical-align: top;\n",
       "    }\n",
       "\n",
       "    .dataframe thead th {\n",
       "        text-align: right;\n",
       "    }\n",
       "</style>\n",
       "<table border=\"1\" class=\"dataframe\">\n",
       "  <thead>\n",
       "    <tr style=\"text-align: right;\">\n",
       "      <th></th>\n",
       "      <th>COMPANY NAME</th>\n",
       "      <th>CITY</th>\n",
       "      <th>STATE/PROVINCE</th>\n",
       "      <th>OWNER/MAKER</th>\n",
       "      <th>COUNTRY</th>\n",
       "    </tr>\n",
       "  </thead>\n",
       "  <tbody>\n",
       "    <tr>\n",
       "      <th>0</th>\n",
       "      <td>Choklat</td>\n",
       "      <td>Calgary</td>\n",
       "      <td>Alberta</td>\n",
       "      <td>Brad Churchill</td>\n",
       "      <td>Canada</td>\n",
       "    </tr>\n",
       "    <tr>\n",
       "      <th>1</th>\n",
       "      <td>Yukon Chocolate Company</td>\n",
       "      <td>Calgary</td>\n",
       "      <td>Alberta</td>\n",
       "      <td>Sydney Oland</td>\n",
       "      <td>Canada</td>\n",
       "    </tr>\n",
       "    <tr>\n",
       "      <th>2</th>\n",
       "      <td>Kin+Pod</td>\n",
       "      <td>Calgary</td>\n",
       "      <td>Alberta</td>\n",
       "      <td>Georden Spicer</td>\n",
       "      <td>Canada</td>\n",
       "    </tr>\n",
       "    <tr>\n",
       "      <th>3</th>\n",
       "      <td>Goldie</td>\n",
       "      <td>Calgary</td>\n",
       "      <td>Alberta</td>\n",
       "      <td>Amy Horne (instagram)</td>\n",
       "      <td>Canada</td>\n",
       "    </tr>\n",
       "    <tr>\n",
       "      <th>4</th>\n",
       "      <td>Moth Chocolate</td>\n",
       "      <td>Calgary</td>\n",
       "      <td>Alberta</td>\n",
       "      <td>Geordan Spicer (mothchocolate.com)</td>\n",
       "      <td>Canada</td>\n",
       "    </tr>\n",
       "    <tr>\n",
       "      <th>5</th>\n",
       "      <td>Ten Degrees</td>\n",
       "      <td>Calgary</td>\n",
       "      <td>Alberta</td>\n",
       "      <td>Mark, Michele Scott, Bianca</td>\n",
       "      <td>Canada</td>\n",
       "    </tr>\n",
       "    <tr>\n",
       "      <th>6</th>\n",
       "      <td>The Jones Chocolate Co.</td>\n",
       "      <td>Edmonton</td>\n",
       "      <td>Alberta</td>\n",
       "      <td>Curtis Jones</td>\n",
       "      <td>Canada</td>\n",
       "    </tr>\n",
       "    <tr>\n",
       "      <th>7</th>\n",
       "      <td>Au Chocolat</td>\n",
       "      <td>Morinville</td>\n",
       "      <td>Alberta</td>\n",
       "      <td>Tammy MacDonald</td>\n",
       "      <td>Canada</td>\n",
       "    </tr>\n",
       "    <tr>\n",
       "      <th>8</th>\n",
       "      <td>Jacek</td>\n",
       "      <td>Sherwood Park</td>\n",
       "      <td>Alberta</td>\n",
       "      <td>Jacqueline Jacek, Curtis Jones</td>\n",
       "      <td>Canada</td>\n",
       "    </tr>\n",
       "    <tr>\n",
       "      <th>9</th>\n",
       "      <td>Take a Fancy</td>\n",
       "      <td>Burnaby</td>\n",
       "      <td>British Columbia</td>\n",
       "      <td>Becks D'Angelo</td>\n",
       "      <td>Canada</td>\n",
       "    </tr>\n",
       "  </tbody>\n",
       "</table>\n",
       "</div>"
      ],
      "text/plain": [
       "              COMPANY NAME           CITY    STATE/PROVINCE  \\\n",
       "0                  Choklat        Calgary           Alberta   \n",
       "1  Yukon Chocolate Company        Calgary           Alberta   \n",
       "2                  Kin+Pod        Calgary           Alberta   \n",
       "3                   Goldie        Calgary           Alberta   \n",
       "4           Moth Chocolate        Calgary           Alberta   \n",
       "5              Ten Degrees        Calgary           Alberta   \n",
       "6  The Jones Chocolate Co.       Edmonton           Alberta   \n",
       "7              Au Chocolat     Morinville           Alberta   \n",
       "8                    Jacek  Sherwood Park           Alberta   \n",
       "9             Take a Fancy        Burnaby  British Columbia   \n",
       "\n",
       "                          OWNER/MAKER COUNTRY  \n",
       "0                      Brad Churchill  Canada  \n",
       "1                        Sydney Oland  Canada  \n",
       "2                      Georden Spicer  Canada  \n",
       "3               Amy Horne (instagram)  Canada  \n",
       "4  Geordan Spicer (mothchocolate.com)  Canada  \n",
       "5         Mark, Michele Scott, Bianca  Canada  \n",
       "6                        Curtis Jones  Canada  \n",
       "7                     Tammy MacDonald  Canada  \n",
       "8      Jacqueline Jacek, Curtis Jones  Canada  \n",
       "9                      Becks D'Angelo  Canada  "
      ]
     },
     "execution_count": 5,
     "metadata": {},
     "output_type": "execute_result"
    }
   ],
   "source": [
    "makerdf.head(10)"
   ]
  },
  {
   "cell_type": "markdown",
   "id": "90fab359",
   "metadata": {
    "papermill": {
     "duration": 0.004118,
     "end_time": "2022-10-27T14:40:49.721319",
     "exception": false,
     "start_time": "2022-10-27T14:40:49.717201",
     "status": "completed"
    },
    "tags": []
   },
   "source": [
    "**Basic information about the data**"
   ]
  },
  {
   "cell_type": "code",
   "execution_count": 6,
   "id": "a1b98bcc",
   "metadata": {
    "execution": {
     "iopub.execute_input": "2022-10-27T14:40:49.732409Z",
     "iopub.status.busy": "2022-10-27T14:40:49.731986Z",
     "iopub.status.idle": "2022-10-27T14:40:49.758503Z",
     "shell.execute_reply": "2022-10-27T14:40:49.756759Z"
    },
    "papermill": {
     "duration": 0.035519,
     "end_time": "2022-10-27T14:40:49.761602",
     "exception": false,
     "start_time": "2022-10-27T14:40:49.726083",
     "status": "completed"
    },
    "tags": []
   },
   "outputs": [
    {
     "name": "stdout",
     "output_type": "stream",
     "text": [
      "Number of Instances: 2530\n",
      "Number of Features: 10\n",
      "\n",
      "Summary:\n",
      "               REF  Review Date       Rating\n",
      "count  2530.000000  2530.000000  2530.000000\n",
      "mean   1429.800791  2014.374308     3.196344\n",
      "std     757.648556     3.968267     0.445321\n",
      "min       5.000000  2006.000000     1.000000\n",
      "25%     802.000000  2012.000000     3.000000\n",
      "50%    1454.000000  2015.000000     3.250000\n",
      "75%    2079.000000  2018.000000     3.500000\n",
      "max    2712.000000  2021.000000     4.000000\n",
      "\n",
      "Missing Values:\n",
      "REF                                  0\n",
      "Company (Manufacturer)               0\n",
      "Company Location                     0\n",
      "Review Date                          0\n",
      "Country of Bean Origin               0\n",
      "Specific Bean Origin or Bar Name     0\n",
      "Cocoa Percent                        0\n",
      "Ingredients                         87\n",
      "Most Memorable Characteristics       0\n",
      "Rating                               0\n",
      "dtype: int64\n"
     ]
    }
   ],
   "source": [
    "def info(df):\n",
    "    \n",
    "    # Shape of the dataframe\n",
    "    print(\"Number of Instances:\",df.shape[0])\n",
    "    print(\"Number of Features:\",df.shape[1])\n",
    "    \n",
    "    # Summary Stats\n",
    "    print(\"\\nSummary:\")\n",
    "    print(df.describe())\n",
    "    \n",
    "    # Missing Value Inspection\n",
    "    print(\"\\nMissing Values:\")\n",
    "    print(df.isna().sum())\n",
    "\n",
    "info(df)"
   ]
  },
  {
   "cell_type": "markdown",
   "id": "1c263710",
   "metadata": {
    "papermill": {
     "duration": 0.004365,
     "end_time": "2022-10-27T14:40:49.771049",
     "exception": false,
     "start_time": "2022-10-27T14:40:49.766684",
     "status": "completed"
    },
    "tags": []
   },
   "source": [
    "**Making changes to make the data more readable**"
   ]
  },
  {
   "cell_type": "code",
   "execution_count": 7,
   "id": "d60874c3",
   "metadata": {
    "execution": {
     "iopub.execute_input": "2022-10-27T14:40:49.782324Z",
     "iopub.status.busy": "2022-10-27T14:40:49.781918Z",
     "iopub.status.idle": "2022-10-27T14:40:49.795288Z",
     "shell.execute_reply": "2022-10-27T14:40:49.794026Z"
    },
    "papermill": {
     "duration": 0.023622,
     "end_time": "2022-10-27T14:40:49.799188",
     "exception": false,
     "start_time": "2022-10-27T14:40:49.775566",
     "status": "completed"
    },
    "tags": []
   },
   "outputs": [
    {
     "name": "stdout",
     "output_type": "stream",
     "text": [
      "Feature Names before Cleaning:\n",
      "['REF', 'Company (Manufacturer)', 'Company Location', 'Review Date', 'Country of Bean Origin', 'Specific Bean Origin or Bar Name', 'Cocoa Percent', 'Ingredients', 'Most Memorable Characteristics', 'Rating']\n",
      "\n",
      "Feature Names after Cleaning:\n",
      "['ref', 'company_(manufacturer)', 'company_location', 'review_date', 'country_of_bean_origin', 'specific_bean_origin_or_bar_name', 'cocoa_percent', 'ingredients', 'most_memorable_characteristics', 'rating']\n"
     ]
    },
    {
     "data": {
      "text/plain": [
       "company                               int64\n",
       "company_(manufacturer)               object\n",
       "company_location                     object\n",
       "review_date                           int64\n",
       "country_of_bean_origin               object\n",
       "specific_bean_origin_or_bar_name     object\n",
       "cocoa_percent                        object\n",
       "ingredients                          object\n",
       "most_memorable_characteristics       object\n",
       "rating                              float64\n",
       "dtype: object"
      ]
     },
     "execution_count": 7,
     "metadata": {},
     "output_type": "execute_result"
    }
   ],
   "source": [
    "cols = list(df.columns)\n",
    "def rec_features(feature_names):\n",
    "    rec_feat = []\n",
    "    for f in feature_names:\n",
    "        rec_feat.append(((f.casefold()).replace(\"\\n\",\"_\")).replace(\" \",\"_\"))\n",
    "    return rec_feat\n",
    "\n",
    "print(\"Feature Names before Cleaning:\")\n",
    "print(cols)\n",
    "print(\"\\nFeature Names after Cleaning:\")\n",
    "print(rec_features(cols))\n",
    "\n",
    "# handling the feature name company\n",
    "new_feature_names = rec_features(cols)\n",
    "new_feature_names[0] = \"company\"\n",
    "\n",
    "# Re-assigning feature names\n",
    "df=df.rename(columns=dict(zip(df.columns,new_feature_names)))\n",
    "df.dtypes"
   ]
  },
  {
   "cell_type": "code",
   "execution_count": 8,
   "id": "5ea69919",
   "metadata": {
    "execution": {
     "iopub.execute_input": "2022-10-27T14:40:49.811243Z",
     "iopub.status.busy": "2022-10-27T14:40:49.810840Z",
     "iopub.status.idle": "2022-10-27T14:40:49.819936Z",
     "shell.execute_reply": "2022-10-27T14:40:49.818831Z"
    },
    "papermill": {
     "duration": 0.017591,
     "end_time": "2022-10-27T14:40:49.822087",
     "exception": false,
     "start_time": "2022-10-27T14:40:49.804496",
     "status": "completed"
    },
    "tags": []
   },
   "outputs": [],
   "source": [
    "#Convert cocoa % to float\n",
    "df['cocoa_percent']=df['cocoa_percent'].str.replace('%','').astype(float)/100"
   ]
  }
 ],
 "metadata": {
  "kernelspec": {
   "display_name": "Python 3",
   "language": "python",
   "name": "python3"
  },
  "language_info": {
   "codemirror_mode": {
    "name": "ipython",
    "version": 3
   },
   "file_extension": ".py",
   "mimetype": "text/x-python",
   "name": "python",
   "nbconvert_exporter": "python",
   "pygments_lexer": "ipython3",
   "version": "3.7.12"
  },
  "papermill": {
   "default_parameters": {},
   "duration": 12.762154,
   "end_time": "2022-10-27T14:40:50.550083",
   "environment_variables": {},
   "exception": null,
   "input_path": "__notebook__.ipynb",
   "output_path": "__notebook__.ipynb",
   "parameters": {},
   "start_time": "2022-10-27T14:40:37.787929",
   "version": "2.3.4"
  }
 },
 "nbformat": 4,
 "nbformat_minor": 5
}
